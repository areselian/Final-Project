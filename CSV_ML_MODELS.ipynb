{
 "cells": [
  {
   "cell_type": "code",
   "execution_count": 1,
   "metadata": {},
   "outputs": [
    {
     "name": "stderr",
     "output_type": "stream",
     "text": [
      "Using TensorFlow backend.\n"
     ]
    }
   ],
   "source": [
    "# !pip install sklearn --upgrade\n",
    "# !pip install joblib\n",
    "# !pip install imbalanced-learn --upgrade\n",
    "# !pip install mlxtend  \n",
    "\n",
    "%matplotlib inline\n",
    "import matplotlib.pyplot as plt\n",
    "import matplotlib.gridspec as gridspec\n",
    "import seaborn as sns\n",
    "import numpy as np\n",
    "import pandas as pd\n",
    "from collections import Counter\n",
    "from sklearn.model_selection import train_test_split\n",
    "from sklearn.feature_selection import SelectKBest\n",
    "from imblearn.over_sampling import (RandomOverSampler, SMOTE, ADASYN)\n",
    "from sklearn.preprocessing import StandardScaler\n",
    "from sklearn.metrics import classification_report\n",
    "from sklearn.model_selection import GridSearchCV\n",
    "from sklearn.model_selection import cross_val_score\n",
    "from sklearn.model_selection import cross_val_predict\n",
    "import itertools\n"
   ]
  },
  {
   "cell_type": "code",
   "execution_count": 2,
   "metadata": {},
   "outputs": [
    {
     "data": {
      "text/html": [
       "<div>\n",
       "<style scoped>\n",
       "    .dataframe tbody tr th:only-of-type {\n",
       "        vertical-align: middle;\n",
       "    }\n",
       "\n",
       "    .dataframe tbody tr th {\n",
       "        vertical-align: top;\n",
       "    }\n",
       "\n",
       "    .dataframe thead th {\n",
       "        text-align: right;\n",
       "    }\n",
       "</style>\n",
       "<table border=\"1\" class=\"dataframe\">\n",
       "  <thead>\n",
       "    <tr style=\"text-align: right;\">\n",
       "      <th></th>\n",
       "      <th>id</th>\n",
       "      <th>diagnosis</th>\n",
       "      <th>radius_mean</th>\n",
       "      <th>texture_mean</th>\n",
       "      <th>perimeter_mean</th>\n",
       "      <th>area_mean</th>\n",
       "      <th>smoothness_mean</th>\n",
       "      <th>compactness_mean</th>\n",
       "      <th>concavity_mean</th>\n",
       "      <th>concave points_mean</th>\n",
       "      <th>...</th>\n",
       "      <th>radius_worst</th>\n",
       "      <th>texture_worst</th>\n",
       "      <th>perimeter_worst</th>\n",
       "      <th>area_worst</th>\n",
       "      <th>smoothness_worst</th>\n",
       "      <th>compactness_worst</th>\n",
       "      <th>concavity_worst</th>\n",
       "      <th>concave points_worst</th>\n",
       "      <th>symmetry_worst</th>\n",
       "      <th>fractal_dimension_worst</th>\n",
       "    </tr>\n",
       "  </thead>\n",
       "  <tbody>\n",
       "    <tr>\n",
       "      <td>0</td>\n",
       "      <td>842302</td>\n",
       "      <td>M</td>\n",
       "      <td>17.99</td>\n",
       "      <td>10.38</td>\n",
       "      <td>122.80</td>\n",
       "      <td>1001.0</td>\n",
       "      <td>0.11840</td>\n",
       "      <td>0.27760</td>\n",
       "      <td>0.3001</td>\n",
       "      <td>0.14710</td>\n",
       "      <td>...</td>\n",
       "      <td>25.38</td>\n",
       "      <td>17.33</td>\n",
       "      <td>184.60</td>\n",
       "      <td>2019.0</td>\n",
       "      <td>0.1622</td>\n",
       "      <td>0.6656</td>\n",
       "      <td>0.7119</td>\n",
       "      <td>0.2654</td>\n",
       "      <td>0.4601</td>\n",
       "      <td>0.11890</td>\n",
       "    </tr>\n",
       "    <tr>\n",
       "      <td>1</td>\n",
       "      <td>842517</td>\n",
       "      <td>M</td>\n",
       "      <td>20.57</td>\n",
       "      <td>17.77</td>\n",
       "      <td>132.90</td>\n",
       "      <td>1326.0</td>\n",
       "      <td>0.08474</td>\n",
       "      <td>0.07864</td>\n",
       "      <td>0.0869</td>\n",
       "      <td>0.07017</td>\n",
       "      <td>...</td>\n",
       "      <td>24.99</td>\n",
       "      <td>23.41</td>\n",
       "      <td>158.80</td>\n",
       "      <td>1956.0</td>\n",
       "      <td>0.1238</td>\n",
       "      <td>0.1866</td>\n",
       "      <td>0.2416</td>\n",
       "      <td>0.1860</td>\n",
       "      <td>0.2750</td>\n",
       "      <td>0.08902</td>\n",
       "    </tr>\n",
       "    <tr>\n",
       "      <td>2</td>\n",
       "      <td>84300903</td>\n",
       "      <td>M</td>\n",
       "      <td>19.69</td>\n",
       "      <td>21.25</td>\n",
       "      <td>130.00</td>\n",
       "      <td>1203.0</td>\n",
       "      <td>0.10960</td>\n",
       "      <td>0.15990</td>\n",
       "      <td>0.1974</td>\n",
       "      <td>0.12790</td>\n",
       "      <td>...</td>\n",
       "      <td>23.57</td>\n",
       "      <td>25.53</td>\n",
       "      <td>152.50</td>\n",
       "      <td>1709.0</td>\n",
       "      <td>0.1444</td>\n",
       "      <td>0.4245</td>\n",
       "      <td>0.4504</td>\n",
       "      <td>0.2430</td>\n",
       "      <td>0.3613</td>\n",
       "      <td>0.08758</td>\n",
       "    </tr>\n",
       "    <tr>\n",
       "      <td>3</td>\n",
       "      <td>84348301</td>\n",
       "      <td>M</td>\n",
       "      <td>11.42</td>\n",
       "      <td>20.38</td>\n",
       "      <td>77.58</td>\n",
       "      <td>386.1</td>\n",
       "      <td>0.14250</td>\n",
       "      <td>0.28390</td>\n",
       "      <td>0.2414</td>\n",
       "      <td>0.10520</td>\n",
       "      <td>...</td>\n",
       "      <td>14.91</td>\n",
       "      <td>26.50</td>\n",
       "      <td>98.87</td>\n",
       "      <td>567.7</td>\n",
       "      <td>0.2098</td>\n",
       "      <td>0.8663</td>\n",
       "      <td>0.6869</td>\n",
       "      <td>0.2575</td>\n",
       "      <td>0.6638</td>\n",
       "      <td>0.17300</td>\n",
       "    </tr>\n",
       "    <tr>\n",
       "      <td>4</td>\n",
       "      <td>84358402</td>\n",
       "      <td>M</td>\n",
       "      <td>20.29</td>\n",
       "      <td>14.34</td>\n",
       "      <td>135.10</td>\n",
       "      <td>1297.0</td>\n",
       "      <td>0.10030</td>\n",
       "      <td>0.13280</td>\n",
       "      <td>0.1980</td>\n",
       "      <td>0.10430</td>\n",
       "      <td>...</td>\n",
       "      <td>22.54</td>\n",
       "      <td>16.67</td>\n",
       "      <td>152.20</td>\n",
       "      <td>1575.0</td>\n",
       "      <td>0.1374</td>\n",
       "      <td>0.2050</td>\n",
       "      <td>0.4000</td>\n",
       "      <td>0.1625</td>\n",
       "      <td>0.2364</td>\n",
       "      <td>0.07678</td>\n",
       "    </tr>\n",
       "  </tbody>\n",
       "</table>\n",
       "<p>5 rows × 32 columns</p>\n",
       "</div>"
      ],
      "text/plain": [
       "         id diagnosis  radius_mean  texture_mean  perimeter_mean  area_mean  \\\n",
       "0    842302         M        17.99         10.38          122.80     1001.0   \n",
       "1    842517         M        20.57         17.77          132.90     1326.0   \n",
       "2  84300903         M        19.69         21.25          130.00     1203.0   \n",
       "3  84348301         M        11.42         20.38           77.58      386.1   \n",
       "4  84358402         M        20.29         14.34          135.10     1297.0   \n",
       "\n",
       "   smoothness_mean  compactness_mean  concavity_mean  concave points_mean  \\\n",
       "0          0.11840           0.27760          0.3001              0.14710   \n",
       "1          0.08474           0.07864          0.0869              0.07017   \n",
       "2          0.10960           0.15990          0.1974              0.12790   \n",
       "3          0.14250           0.28390          0.2414              0.10520   \n",
       "4          0.10030           0.13280          0.1980              0.10430   \n",
       "\n",
       "   ...  radius_worst  texture_worst  perimeter_worst  area_worst  \\\n",
       "0  ...         25.38          17.33           184.60      2019.0   \n",
       "1  ...         24.99          23.41           158.80      1956.0   \n",
       "2  ...         23.57          25.53           152.50      1709.0   \n",
       "3  ...         14.91          26.50            98.87       567.7   \n",
       "4  ...         22.54          16.67           152.20      1575.0   \n",
       "\n",
       "   smoothness_worst  compactness_worst  concavity_worst  concave points_worst  \\\n",
       "0            0.1622             0.6656           0.7119                0.2654   \n",
       "1            0.1238             0.1866           0.2416                0.1860   \n",
       "2            0.1444             0.4245           0.4504                0.2430   \n",
       "3            0.2098             0.8663           0.6869                0.2575   \n",
       "4            0.1374             0.2050           0.4000                0.1625   \n",
       "\n",
       "   symmetry_worst  fractal_dimension_worst  \n",
       "0          0.4601                  0.11890  \n",
       "1          0.2750                  0.08902  \n",
       "2          0.3613                  0.08758  \n",
       "3          0.6638                  0.17300  \n",
       "4          0.2364                  0.07678  \n",
       "\n",
       "[5 rows x 32 columns]"
      ]
     },
     "execution_count": 2,
     "metadata": {},
     "output_type": "execute_result"
    }
   ],
   "source": [
    "# Read the data\n",
    "nd = pd.read_csv(\"data.csv\")\n",
    "numeric_data = nd.drop(columns=\"Unnamed: 32\")\n",
    "numeric_data.head()"
   ]
  },
  {
   "cell_type": "code",
   "execution_count": 3,
   "metadata": {},
   "outputs": [
    {
     "data": {
      "text/html": [
       "<div>\n",
       "<style scoped>\n",
       "    .dataframe tbody tr th:only-of-type {\n",
       "        vertical-align: middle;\n",
       "    }\n",
       "\n",
       "    .dataframe tbody tr th {\n",
       "        vertical-align: top;\n",
       "    }\n",
       "\n",
       "    .dataframe thead th {\n",
       "        text-align: right;\n",
       "    }\n",
       "</style>\n",
       "<table border=\"1\" class=\"dataframe\">\n",
       "  <thead>\n",
       "    <tr style=\"text-align: right;\">\n",
       "      <th></th>\n",
       "      <th>id</th>\n",
       "      <th>diagnosis</th>\n",
       "      <th>diagnosis_num</th>\n",
       "      <th>radius_mean</th>\n",
       "      <th>texture_mean</th>\n",
       "      <th>perimeter_mean</th>\n",
       "      <th>area_mean</th>\n",
       "      <th>smoothness_mean</th>\n",
       "      <th>compactness_mean</th>\n",
       "      <th>concavity_mean</th>\n",
       "      <th>...</th>\n",
       "      <th>radius_worst</th>\n",
       "      <th>texture_worst</th>\n",
       "      <th>perimeter_worst</th>\n",
       "      <th>area_worst</th>\n",
       "      <th>smoothness_worst</th>\n",
       "      <th>compactness_worst</th>\n",
       "      <th>concavity_worst</th>\n",
       "      <th>concave points_worst</th>\n",
       "      <th>symmetry_worst</th>\n",
       "      <th>fractal_dimension_worst</th>\n",
       "    </tr>\n",
       "  </thead>\n",
       "  <tbody>\n",
       "    <tr>\n",
       "      <td>0</td>\n",
       "      <td>842302</td>\n",
       "      <td>M</td>\n",
       "      <td>1</td>\n",
       "      <td>17.99</td>\n",
       "      <td>10.38</td>\n",
       "      <td>122.80</td>\n",
       "      <td>1001.0</td>\n",
       "      <td>0.11840</td>\n",
       "      <td>0.27760</td>\n",
       "      <td>0.30010</td>\n",
       "      <td>...</td>\n",
       "      <td>25.38</td>\n",
       "      <td>17.33</td>\n",
       "      <td>184.60</td>\n",
       "      <td>2019.0</td>\n",
       "      <td>0.1622</td>\n",
       "      <td>0.6656</td>\n",
       "      <td>0.7119</td>\n",
       "      <td>0.26540</td>\n",
       "      <td>0.4601</td>\n",
       "      <td>0.11890</td>\n",
       "    </tr>\n",
       "    <tr>\n",
       "      <td>1</td>\n",
       "      <td>842517</td>\n",
       "      <td>M</td>\n",
       "      <td>1</td>\n",
       "      <td>20.57</td>\n",
       "      <td>17.77</td>\n",
       "      <td>132.90</td>\n",
       "      <td>1326.0</td>\n",
       "      <td>0.08474</td>\n",
       "      <td>0.07864</td>\n",
       "      <td>0.08690</td>\n",
       "      <td>...</td>\n",
       "      <td>24.99</td>\n",
       "      <td>23.41</td>\n",
       "      <td>158.80</td>\n",
       "      <td>1956.0</td>\n",
       "      <td>0.1238</td>\n",
       "      <td>0.1866</td>\n",
       "      <td>0.2416</td>\n",
       "      <td>0.18600</td>\n",
       "      <td>0.2750</td>\n",
       "      <td>0.08902</td>\n",
       "    </tr>\n",
       "    <tr>\n",
       "      <td>2</td>\n",
       "      <td>84300903</td>\n",
       "      <td>M</td>\n",
       "      <td>1</td>\n",
       "      <td>19.69</td>\n",
       "      <td>21.25</td>\n",
       "      <td>130.00</td>\n",
       "      <td>1203.0</td>\n",
       "      <td>0.10960</td>\n",
       "      <td>0.15990</td>\n",
       "      <td>0.19740</td>\n",
       "      <td>...</td>\n",
       "      <td>23.57</td>\n",
       "      <td>25.53</td>\n",
       "      <td>152.50</td>\n",
       "      <td>1709.0</td>\n",
       "      <td>0.1444</td>\n",
       "      <td>0.4245</td>\n",
       "      <td>0.4504</td>\n",
       "      <td>0.24300</td>\n",
       "      <td>0.3613</td>\n",
       "      <td>0.08758</td>\n",
       "    </tr>\n",
       "    <tr>\n",
       "      <td>3</td>\n",
       "      <td>84348301</td>\n",
       "      <td>M</td>\n",
       "      <td>1</td>\n",
       "      <td>11.42</td>\n",
       "      <td>20.38</td>\n",
       "      <td>77.58</td>\n",
       "      <td>386.1</td>\n",
       "      <td>0.14250</td>\n",
       "      <td>0.28390</td>\n",
       "      <td>0.24140</td>\n",
       "      <td>...</td>\n",
       "      <td>14.91</td>\n",
       "      <td>26.50</td>\n",
       "      <td>98.87</td>\n",
       "      <td>567.7</td>\n",
       "      <td>0.2098</td>\n",
       "      <td>0.8663</td>\n",
       "      <td>0.6869</td>\n",
       "      <td>0.25750</td>\n",
       "      <td>0.6638</td>\n",
       "      <td>0.17300</td>\n",
       "    </tr>\n",
       "    <tr>\n",
       "      <td>4</td>\n",
       "      <td>84358402</td>\n",
       "      <td>M</td>\n",
       "      <td>1</td>\n",
       "      <td>20.29</td>\n",
       "      <td>14.34</td>\n",
       "      <td>135.10</td>\n",
       "      <td>1297.0</td>\n",
       "      <td>0.10030</td>\n",
       "      <td>0.13280</td>\n",
       "      <td>0.19800</td>\n",
       "      <td>...</td>\n",
       "      <td>22.54</td>\n",
       "      <td>16.67</td>\n",
       "      <td>152.20</td>\n",
       "      <td>1575.0</td>\n",
       "      <td>0.1374</td>\n",
       "      <td>0.2050</td>\n",
       "      <td>0.4000</td>\n",
       "      <td>0.16250</td>\n",
       "      <td>0.2364</td>\n",
       "      <td>0.07678</td>\n",
       "    </tr>\n",
       "    <tr>\n",
       "      <td>5</td>\n",
       "      <td>843786</td>\n",
       "      <td>M</td>\n",
       "      <td>1</td>\n",
       "      <td>12.45</td>\n",
       "      <td>15.70</td>\n",
       "      <td>82.57</td>\n",
       "      <td>477.1</td>\n",
       "      <td>0.12780</td>\n",
       "      <td>0.17000</td>\n",
       "      <td>0.15780</td>\n",
       "      <td>...</td>\n",
       "      <td>15.47</td>\n",
       "      <td>23.75</td>\n",
       "      <td>103.40</td>\n",
       "      <td>741.6</td>\n",
       "      <td>0.1791</td>\n",
       "      <td>0.5249</td>\n",
       "      <td>0.5355</td>\n",
       "      <td>0.17410</td>\n",
       "      <td>0.3985</td>\n",
       "      <td>0.12440</td>\n",
       "    </tr>\n",
       "    <tr>\n",
       "      <td>6</td>\n",
       "      <td>844359</td>\n",
       "      <td>M</td>\n",
       "      <td>1</td>\n",
       "      <td>18.25</td>\n",
       "      <td>19.98</td>\n",
       "      <td>119.60</td>\n",
       "      <td>1040.0</td>\n",
       "      <td>0.09463</td>\n",
       "      <td>0.10900</td>\n",
       "      <td>0.11270</td>\n",
       "      <td>...</td>\n",
       "      <td>22.88</td>\n",
       "      <td>27.66</td>\n",
       "      <td>153.20</td>\n",
       "      <td>1606.0</td>\n",
       "      <td>0.1442</td>\n",
       "      <td>0.2576</td>\n",
       "      <td>0.3784</td>\n",
       "      <td>0.19320</td>\n",
       "      <td>0.3063</td>\n",
       "      <td>0.08368</td>\n",
       "    </tr>\n",
       "    <tr>\n",
       "      <td>7</td>\n",
       "      <td>84458202</td>\n",
       "      <td>M</td>\n",
       "      <td>1</td>\n",
       "      <td>13.71</td>\n",
       "      <td>20.83</td>\n",
       "      <td>90.20</td>\n",
       "      <td>577.9</td>\n",
       "      <td>0.11890</td>\n",
       "      <td>0.16450</td>\n",
       "      <td>0.09366</td>\n",
       "      <td>...</td>\n",
       "      <td>17.06</td>\n",
       "      <td>28.14</td>\n",
       "      <td>110.60</td>\n",
       "      <td>897.0</td>\n",
       "      <td>0.1654</td>\n",
       "      <td>0.3682</td>\n",
       "      <td>0.2678</td>\n",
       "      <td>0.15560</td>\n",
       "      <td>0.3196</td>\n",
       "      <td>0.11510</td>\n",
       "    </tr>\n",
       "    <tr>\n",
       "      <td>8</td>\n",
       "      <td>844981</td>\n",
       "      <td>M</td>\n",
       "      <td>1</td>\n",
       "      <td>13.00</td>\n",
       "      <td>21.82</td>\n",
       "      <td>87.50</td>\n",
       "      <td>519.8</td>\n",
       "      <td>0.12730</td>\n",
       "      <td>0.19320</td>\n",
       "      <td>0.18590</td>\n",
       "      <td>...</td>\n",
       "      <td>15.49</td>\n",
       "      <td>30.73</td>\n",
       "      <td>106.20</td>\n",
       "      <td>739.3</td>\n",
       "      <td>0.1703</td>\n",
       "      <td>0.5401</td>\n",
       "      <td>0.5390</td>\n",
       "      <td>0.20600</td>\n",
       "      <td>0.4378</td>\n",
       "      <td>0.10720</td>\n",
       "    </tr>\n",
       "    <tr>\n",
       "      <td>9</td>\n",
       "      <td>84501001</td>\n",
       "      <td>M</td>\n",
       "      <td>1</td>\n",
       "      <td>12.46</td>\n",
       "      <td>24.04</td>\n",
       "      <td>83.97</td>\n",
       "      <td>475.9</td>\n",
       "      <td>0.11860</td>\n",
       "      <td>0.23960</td>\n",
       "      <td>0.22730</td>\n",
       "      <td>...</td>\n",
       "      <td>15.09</td>\n",
       "      <td>40.68</td>\n",
       "      <td>97.65</td>\n",
       "      <td>711.4</td>\n",
       "      <td>0.1853</td>\n",
       "      <td>1.0580</td>\n",
       "      <td>1.1050</td>\n",
       "      <td>0.22100</td>\n",
       "      <td>0.4366</td>\n",
       "      <td>0.20750</td>\n",
       "    </tr>\n",
       "    <tr>\n",
       "      <td>10</td>\n",
       "      <td>845636</td>\n",
       "      <td>M</td>\n",
       "      <td>1</td>\n",
       "      <td>16.02</td>\n",
       "      <td>23.24</td>\n",
       "      <td>102.70</td>\n",
       "      <td>797.8</td>\n",
       "      <td>0.08206</td>\n",
       "      <td>0.06669</td>\n",
       "      <td>0.03299</td>\n",
       "      <td>...</td>\n",
       "      <td>19.19</td>\n",
       "      <td>33.88</td>\n",
       "      <td>123.80</td>\n",
       "      <td>1150.0</td>\n",
       "      <td>0.1181</td>\n",
       "      <td>0.1551</td>\n",
       "      <td>0.1459</td>\n",
       "      <td>0.09975</td>\n",
       "      <td>0.2948</td>\n",
       "      <td>0.08452</td>\n",
       "    </tr>\n",
       "    <tr>\n",
       "      <td>11</td>\n",
       "      <td>84610002</td>\n",
       "      <td>M</td>\n",
       "      <td>1</td>\n",
       "      <td>15.78</td>\n",
       "      <td>17.89</td>\n",
       "      <td>103.60</td>\n",
       "      <td>781.0</td>\n",
       "      <td>0.09710</td>\n",
       "      <td>0.12920</td>\n",
       "      <td>0.09954</td>\n",
       "      <td>...</td>\n",
       "      <td>20.42</td>\n",
       "      <td>27.28</td>\n",
       "      <td>136.50</td>\n",
       "      <td>1299.0</td>\n",
       "      <td>0.1396</td>\n",
       "      <td>0.5609</td>\n",
       "      <td>0.3965</td>\n",
       "      <td>0.18100</td>\n",
       "      <td>0.3792</td>\n",
       "      <td>0.10480</td>\n",
       "    </tr>\n",
       "    <tr>\n",
       "      <td>12</td>\n",
       "      <td>846226</td>\n",
       "      <td>M</td>\n",
       "      <td>1</td>\n",
       "      <td>19.17</td>\n",
       "      <td>24.80</td>\n",
       "      <td>132.40</td>\n",
       "      <td>1123.0</td>\n",
       "      <td>0.09740</td>\n",
       "      <td>0.24580</td>\n",
       "      <td>0.20650</td>\n",
       "      <td>...</td>\n",
       "      <td>20.96</td>\n",
       "      <td>29.94</td>\n",
       "      <td>151.70</td>\n",
       "      <td>1332.0</td>\n",
       "      <td>0.1037</td>\n",
       "      <td>0.3903</td>\n",
       "      <td>0.3639</td>\n",
       "      <td>0.17670</td>\n",
       "      <td>0.3176</td>\n",
       "      <td>0.10230</td>\n",
       "    </tr>\n",
       "    <tr>\n",
       "      <td>13</td>\n",
       "      <td>846381</td>\n",
       "      <td>M</td>\n",
       "      <td>1</td>\n",
       "      <td>15.85</td>\n",
       "      <td>23.95</td>\n",
       "      <td>103.70</td>\n",
       "      <td>782.7</td>\n",
       "      <td>0.08401</td>\n",
       "      <td>0.10020</td>\n",
       "      <td>0.09938</td>\n",
       "      <td>...</td>\n",
       "      <td>16.84</td>\n",
       "      <td>27.66</td>\n",
       "      <td>112.00</td>\n",
       "      <td>876.5</td>\n",
       "      <td>0.1131</td>\n",
       "      <td>0.1924</td>\n",
       "      <td>0.2322</td>\n",
       "      <td>0.11190</td>\n",
       "      <td>0.2809</td>\n",
       "      <td>0.06287</td>\n",
       "    </tr>\n",
       "    <tr>\n",
       "      <td>14</td>\n",
       "      <td>84667401</td>\n",
       "      <td>M</td>\n",
       "      <td>1</td>\n",
       "      <td>13.73</td>\n",
       "      <td>22.61</td>\n",
       "      <td>93.60</td>\n",
       "      <td>578.3</td>\n",
       "      <td>0.11310</td>\n",
       "      <td>0.22930</td>\n",
       "      <td>0.21280</td>\n",
       "      <td>...</td>\n",
       "      <td>15.03</td>\n",
       "      <td>32.01</td>\n",
       "      <td>108.80</td>\n",
       "      <td>697.7</td>\n",
       "      <td>0.1651</td>\n",
       "      <td>0.7725</td>\n",
       "      <td>0.6943</td>\n",
       "      <td>0.22080</td>\n",
       "      <td>0.3596</td>\n",
       "      <td>0.14310</td>\n",
       "    </tr>\n",
       "  </tbody>\n",
       "</table>\n",
       "<p>15 rows × 33 columns</p>\n",
       "</div>"
      ],
      "text/plain": [
       "          id diagnosis  diagnosis_num  radius_mean  texture_mean  \\\n",
       "0     842302         M              1        17.99         10.38   \n",
       "1     842517         M              1        20.57         17.77   \n",
       "2   84300903         M              1        19.69         21.25   \n",
       "3   84348301         M              1        11.42         20.38   \n",
       "4   84358402         M              1        20.29         14.34   \n",
       "5     843786         M              1        12.45         15.70   \n",
       "6     844359         M              1        18.25         19.98   \n",
       "7   84458202         M              1        13.71         20.83   \n",
       "8     844981         M              1        13.00         21.82   \n",
       "9   84501001         M              1        12.46         24.04   \n",
       "10    845636         M              1        16.02         23.24   \n",
       "11  84610002         M              1        15.78         17.89   \n",
       "12    846226         M              1        19.17         24.80   \n",
       "13    846381         M              1        15.85         23.95   \n",
       "14  84667401         M              1        13.73         22.61   \n",
       "\n",
       "    perimeter_mean  area_mean  smoothness_mean  compactness_mean  \\\n",
       "0           122.80     1001.0          0.11840           0.27760   \n",
       "1           132.90     1326.0          0.08474           0.07864   \n",
       "2           130.00     1203.0          0.10960           0.15990   \n",
       "3            77.58      386.1          0.14250           0.28390   \n",
       "4           135.10     1297.0          0.10030           0.13280   \n",
       "5            82.57      477.1          0.12780           0.17000   \n",
       "6           119.60     1040.0          0.09463           0.10900   \n",
       "7            90.20      577.9          0.11890           0.16450   \n",
       "8            87.50      519.8          0.12730           0.19320   \n",
       "9            83.97      475.9          0.11860           0.23960   \n",
       "10          102.70      797.8          0.08206           0.06669   \n",
       "11          103.60      781.0          0.09710           0.12920   \n",
       "12          132.40     1123.0          0.09740           0.24580   \n",
       "13          103.70      782.7          0.08401           0.10020   \n",
       "14           93.60      578.3          0.11310           0.22930   \n",
       "\n",
       "    concavity_mean  ...  radius_worst  texture_worst  perimeter_worst  \\\n",
       "0          0.30010  ...         25.38          17.33           184.60   \n",
       "1          0.08690  ...         24.99          23.41           158.80   \n",
       "2          0.19740  ...         23.57          25.53           152.50   \n",
       "3          0.24140  ...         14.91          26.50            98.87   \n",
       "4          0.19800  ...         22.54          16.67           152.20   \n",
       "5          0.15780  ...         15.47          23.75           103.40   \n",
       "6          0.11270  ...         22.88          27.66           153.20   \n",
       "7          0.09366  ...         17.06          28.14           110.60   \n",
       "8          0.18590  ...         15.49          30.73           106.20   \n",
       "9          0.22730  ...         15.09          40.68            97.65   \n",
       "10         0.03299  ...         19.19          33.88           123.80   \n",
       "11         0.09954  ...         20.42          27.28           136.50   \n",
       "12         0.20650  ...         20.96          29.94           151.70   \n",
       "13         0.09938  ...         16.84          27.66           112.00   \n",
       "14         0.21280  ...         15.03          32.01           108.80   \n",
       "\n",
       "    area_worst  smoothness_worst  compactness_worst  concavity_worst  \\\n",
       "0       2019.0            0.1622             0.6656           0.7119   \n",
       "1       1956.0            0.1238             0.1866           0.2416   \n",
       "2       1709.0            0.1444             0.4245           0.4504   \n",
       "3        567.7            0.2098             0.8663           0.6869   \n",
       "4       1575.0            0.1374             0.2050           0.4000   \n",
       "5        741.6            0.1791             0.5249           0.5355   \n",
       "6       1606.0            0.1442             0.2576           0.3784   \n",
       "7        897.0            0.1654             0.3682           0.2678   \n",
       "8        739.3            0.1703             0.5401           0.5390   \n",
       "9        711.4            0.1853             1.0580           1.1050   \n",
       "10      1150.0            0.1181             0.1551           0.1459   \n",
       "11      1299.0            0.1396             0.5609           0.3965   \n",
       "12      1332.0            0.1037             0.3903           0.3639   \n",
       "13       876.5            0.1131             0.1924           0.2322   \n",
       "14       697.7            0.1651             0.7725           0.6943   \n",
       "\n",
       "    concave points_worst  symmetry_worst  fractal_dimension_worst  \n",
       "0                0.26540          0.4601                  0.11890  \n",
       "1                0.18600          0.2750                  0.08902  \n",
       "2                0.24300          0.3613                  0.08758  \n",
       "3                0.25750          0.6638                  0.17300  \n",
       "4                0.16250          0.2364                  0.07678  \n",
       "5                0.17410          0.3985                  0.12440  \n",
       "6                0.19320          0.3063                  0.08368  \n",
       "7                0.15560          0.3196                  0.11510  \n",
       "8                0.20600          0.4378                  0.10720  \n",
       "9                0.22100          0.4366                  0.20750  \n",
       "10               0.09975          0.2948                  0.08452  \n",
       "11               0.18100          0.3792                  0.10480  \n",
       "12               0.17670          0.3176                  0.10230  \n",
       "13               0.11190          0.2809                  0.06287  \n",
       "14               0.22080          0.3596                  0.14310  \n",
       "\n",
       "[15 rows x 33 columns]"
      ]
     },
     "execution_count": 3,
     "metadata": {},
     "output_type": "execute_result"
    }
   ],
   "source": [
    "numeric_data['diagnosis_num'] =  numeric_data['diagnosis'].apply(lambda x: 0 if x == 'B' else 1)\n",
    "numeric_data.columns\n",
    "numeric_data = numeric_data[['id', 'diagnosis', 'diagnosis_num', 'radius_mean', 'texture_mean', 'perimeter_mean',\n",
    "       'area_mean', 'smoothness_mean', 'compactness_mean', 'concavity_mean',\n",
    "       'concave points_mean', 'symmetry_mean', 'fractal_dimension_mean',\n",
    "       'radius_se', 'texture_se', 'perimeter_se', 'area_se', 'smoothness_se',\n",
    "       'compactness_se', 'concavity_se', 'concave points_se', 'symmetry_se',\n",
    "       'fractal_dimension_se', 'radius_worst', 'texture_worst',\n",
    "       'perimeter_worst', 'area_worst', 'smoothness_worst',\n",
    "       'compactness_worst', 'concavity_worst', 'concave points_worst',\n",
    "       'symmetry_worst', 'fractal_dimension_worst']]\n",
    "\n",
    "numeric_data.head(15)"
   ]
  },
  {
   "cell_type": "code",
   "execution_count": 4,
   "metadata": {},
   "outputs": [
    {
     "data": {
      "text/html": [
       "<div>\n",
       "<style scoped>\n",
       "    .dataframe tbody tr th:only-of-type {\n",
       "        vertical-align: middle;\n",
       "    }\n",
       "\n",
       "    .dataframe tbody tr th {\n",
       "        vertical-align: top;\n",
       "    }\n",
       "\n",
       "    .dataframe thead th {\n",
       "        text-align: right;\n",
       "    }\n",
       "</style>\n",
       "<table border=\"1\" class=\"dataframe\">\n",
       "  <thead>\n",
       "    <tr style=\"text-align: right;\">\n",
       "      <th></th>\n",
       "      <th>id</th>\n",
       "      <th>diagnosis_num</th>\n",
       "      <th>radius_mean</th>\n",
       "      <th>texture_mean</th>\n",
       "      <th>perimeter_mean</th>\n",
       "      <th>area_mean</th>\n",
       "      <th>smoothness_mean</th>\n",
       "      <th>compactness_mean</th>\n",
       "      <th>concavity_mean</th>\n",
       "      <th>concave points_mean</th>\n",
       "      <th>...</th>\n",
       "      <th>radius_worst</th>\n",
       "      <th>texture_worst</th>\n",
       "      <th>perimeter_worst</th>\n",
       "      <th>area_worst</th>\n",
       "      <th>smoothness_worst</th>\n",
       "      <th>compactness_worst</th>\n",
       "      <th>concavity_worst</th>\n",
       "      <th>concave points_worst</th>\n",
       "      <th>symmetry_worst</th>\n",
       "      <th>fractal_dimension_worst</th>\n",
       "    </tr>\n",
       "  </thead>\n",
       "  <tbody>\n",
       "    <tr>\n",
       "      <td>0</td>\n",
       "      <td>842302</td>\n",
       "      <td>1</td>\n",
       "      <td>17.99</td>\n",
       "      <td>10.38</td>\n",
       "      <td>122.80</td>\n",
       "      <td>1001.0</td>\n",
       "      <td>0.11840</td>\n",
       "      <td>0.27760</td>\n",
       "      <td>0.3001</td>\n",
       "      <td>0.14710</td>\n",
       "      <td>...</td>\n",
       "      <td>25.38</td>\n",
       "      <td>17.33</td>\n",
       "      <td>184.60</td>\n",
       "      <td>2019.0</td>\n",
       "      <td>0.1622</td>\n",
       "      <td>0.6656</td>\n",
       "      <td>0.7119</td>\n",
       "      <td>0.2654</td>\n",
       "      <td>0.4601</td>\n",
       "      <td>0.11890</td>\n",
       "    </tr>\n",
       "    <tr>\n",
       "      <td>1</td>\n",
       "      <td>842517</td>\n",
       "      <td>1</td>\n",
       "      <td>20.57</td>\n",
       "      <td>17.77</td>\n",
       "      <td>132.90</td>\n",
       "      <td>1326.0</td>\n",
       "      <td>0.08474</td>\n",
       "      <td>0.07864</td>\n",
       "      <td>0.0869</td>\n",
       "      <td>0.07017</td>\n",
       "      <td>...</td>\n",
       "      <td>24.99</td>\n",
       "      <td>23.41</td>\n",
       "      <td>158.80</td>\n",
       "      <td>1956.0</td>\n",
       "      <td>0.1238</td>\n",
       "      <td>0.1866</td>\n",
       "      <td>0.2416</td>\n",
       "      <td>0.1860</td>\n",
       "      <td>0.2750</td>\n",
       "      <td>0.08902</td>\n",
       "    </tr>\n",
       "    <tr>\n",
       "      <td>2</td>\n",
       "      <td>84300903</td>\n",
       "      <td>1</td>\n",
       "      <td>19.69</td>\n",
       "      <td>21.25</td>\n",
       "      <td>130.00</td>\n",
       "      <td>1203.0</td>\n",
       "      <td>0.10960</td>\n",
       "      <td>0.15990</td>\n",
       "      <td>0.1974</td>\n",
       "      <td>0.12790</td>\n",
       "      <td>...</td>\n",
       "      <td>23.57</td>\n",
       "      <td>25.53</td>\n",
       "      <td>152.50</td>\n",
       "      <td>1709.0</td>\n",
       "      <td>0.1444</td>\n",
       "      <td>0.4245</td>\n",
       "      <td>0.4504</td>\n",
       "      <td>0.2430</td>\n",
       "      <td>0.3613</td>\n",
       "      <td>0.08758</td>\n",
       "    </tr>\n",
       "    <tr>\n",
       "      <td>3</td>\n",
       "      <td>84348301</td>\n",
       "      <td>1</td>\n",
       "      <td>11.42</td>\n",
       "      <td>20.38</td>\n",
       "      <td>77.58</td>\n",
       "      <td>386.1</td>\n",
       "      <td>0.14250</td>\n",
       "      <td>0.28390</td>\n",
       "      <td>0.2414</td>\n",
       "      <td>0.10520</td>\n",
       "      <td>...</td>\n",
       "      <td>14.91</td>\n",
       "      <td>26.50</td>\n",
       "      <td>98.87</td>\n",
       "      <td>567.7</td>\n",
       "      <td>0.2098</td>\n",
       "      <td>0.8663</td>\n",
       "      <td>0.6869</td>\n",
       "      <td>0.2575</td>\n",
       "      <td>0.6638</td>\n",
       "      <td>0.17300</td>\n",
       "    </tr>\n",
       "    <tr>\n",
       "      <td>4</td>\n",
       "      <td>84358402</td>\n",
       "      <td>1</td>\n",
       "      <td>20.29</td>\n",
       "      <td>14.34</td>\n",
       "      <td>135.10</td>\n",
       "      <td>1297.0</td>\n",
       "      <td>0.10030</td>\n",
       "      <td>0.13280</td>\n",
       "      <td>0.1980</td>\n",
       "      <td>0.10430</td>\n",
       "      <td>...</td>\n",
       "      <td>22.54</td>\n",
       "      <td>16.67</td>\n",
       "      <td>152.20</td>\n",
       "      <td>1575.0</td>\n",
       "      <td>0.1374</td>\n",
       "      <td>0.2050</td>\n",
       "      <td>0.4000</td>\n",
       "      <td>0.1625</td>\n",
       "      <td>0.2364</td>\n",
       "      <td>0.07678</td>\n",
       "    </tr>\n",
       "  </tbody>\n",
       "</table>\n",
       "<p>5 rows × 32 columns</p>\n",
       "</div>"
      ],
      "text/plain": [
       "         id  diagnosis_num  radius_mean  texture_mean  perimeter_mean  \\\n",
       "0    842302              1        17.99         10.38          122.80   \n",
       "1    842517              1        20.57         17.77          132.90   \n",
       "2  84300903              1        19.69         21.25          130.00   \n",
       "3  84348301              1        11.42         20.38           77.58   \n",
       "4  84358402              1        20.29         14.34          135.10   \n",
       "\n",
       "   area_mean  smoothness_mean  compactness_mean  concavity_mean  \\\n",
       "0     1001.0          0.11840           0.27760          0.3001   \n",
       "1     1326.0          0.08474           0.07864          0.0869   \n",
       "2     1203.0          0.10960           0.15990          0.1974   \n",
       "3      386.1          0.14250           0.28390          0.2414   \n",
       "4     1297.0          0.10030           0.13280          0.1980   \n",
       "\n",
       "   concave points_mean  ...  radius_worst  texture_worst  perimeter_worst  \\\n",
       "0              0.14710  ...         25.38          17.33           184.60   \n",
       "1              0.07017  ...         24.99          23.41           158.80   \n",
       "2              0.12790  ...         23.57          25.53           152.50   \n",
       "3              0.10520  ...         14.91          26.50            98.87   \n",
       "4              0.10430  ...         22.54          16.67           152.20   \n",
       "\n",
       "   area_worst  smoothness_worst  compactness_worst  concavity_worst  \\\n",
       "0      2019.0            0.1622             0.6656           0.7119   \n",
       "1      1956.0            0.1238             0.1866           0.2416   \n",
       "2      1709.0            0.1444             0.4245           0.4504   \n",
       "3       567.7            0.2098             0.8663           0.6869   \n",
       "4      1575.0            0.1374             0.2050           0.4000   \n",
       "\n",
       "   concave points_worst  symmetry_worst  fractal_dimension_worst  \n",
       "0                0.2654          0.4601                  0.11890  \n",
       "1                0.1860          0.2750                  0.08902  \n",
       "2                0.2430          0.3613                  0.08758  \n",
       "3                0.2575          0.6638                  0.17300  \n",
       "4                0.1625          0.2364                  0.07678  \n",
       "\n",
       "[5 rows x 32 columns]"
      ]
     },
     "execution_count": 4,
     "metadata": {},
     "output_type": "execute_result"
    }
   ],
   "source": [
    "numeric_only = numeric_data.drop('diagnosis', axis=1)\n",
    "numeric_df = pd.DataFrame(numeric_only)\n",
    "numeric_df.head()"
   ]
  },
  {
   "cell_type": "code",
   "execution_count": 5,
   "metadata": {},
   "outputs": [],
   "source": [
    "#\n",
    "target = numeric_df['diagnosis_num']\n",
    "data = numeric_df.drop('diagnosis_num', axis=1)\n",
    "features = data.columns"
   ]
  },
  {
   "cell_type": "code",
   "execution_count": 6,
   "metadata": {},
   "outputs": [
    {
     "name": "stdout",
     "output_type": "stream",
     "text": [
      "Total Tumors on data = 569\n",
      "Total Benign Tumors on data = 357\n",
      "Total Malignant Tumors on data = 212\n",
      "-----\n",
      "Percent Benign = 62.741652021089635\n",
      "Percent Malignant = 37.258347978910365\n"
     ]
    }
   ],
   "source": [
    "# EDA \n",
    "total_count_tumors = len(numeric_data)\n",
    "print(f'Total Tumors on data = {total_count_tumors}')\n",
    "total_count_benign = (numeric_data.diagnosis == 'B').sum()\n",
    "print(f'Total Benign Tumors on data = {total_count_benign}')\n",
    "total_count_malignant = (numeric_data.diagnosis == 'M').sum()\n",
    "print(f'Total Malignant Tumors on data = {total_count_malignant}')\n",
    "print(\"-----\")\n",
    "percent_benign = (total_count_benign/total_count_tumors)*100.00\n",
    "percent_malignant = (total_count_malignant/total_count_tumors)*100.00\n",
    "print(f\"Percent Benign = {percent_benign}\")\n",
    "print(f\"Percent Malignant = {percent_malignant}\")"
   ]
  },
  {
   "cell_type": "markdown",
   "metadata": {},
   "source": [
    "# Features Selection"
   ]
  },
  {
   "cell_type": "markdown",
   "metadata": {},
   "source": [
    "Select the top 10 features according to the ```feature_selection``` from ```sklearn```"
   ]
  },
  {
   "cell_type": "code",
   "execution_count": 7,
   "metadata": {},
   "outputs": [
    {
     "name": "stdout",
     "output_type": "stream",
     "text": [
      "                 Feature       Score\n",
      "28  concave points_worst  964.385393\n",
      "23       perimeter_worst  897.944219\n",
      "8    concave points_mean  861.676020\n",
      "21          radius_worst  860.781707\n",
      "3         perimeter_mean  697.235272\n",
      "24            area_worst  661.600206\n",
      "1            radius_mean  646.981021\n",
      "4              area_mean  573.060747\n",
      "7         concavity_mean  533.793126\n",
      "27       concavity_worst  436.691939\n"
     ]
    }
   ],
   "source": [
    "bestfeatures = SelectKBest(k=31)\n",
    "fit = bestfeatures.fit(data, target)\n",
    "dfscores = pd.DataFrame(fit.scores_)\n",
    "dfcolumns = pd.DataFrame(data.columns)\n",
    "featureScores = pd.concat([dfcolumns,dfscores],axis=1)\n",
    "featureScores.columns = ['Feature','Score']\n",
    "print(featureScores.nlargest(10,'Score'))"
   ]
  },
  {
   "cell_type": "code",
   "execution_count": 8,
   "metadata": {},
   "outputs": [],
   "source": [
    "#select the top 10 features\n",
    "features_list_df = numeric_data[[\"concave points_worst\",\n",
    "\"perimeter_worst\",\n",
    "\"concave points_mean\",\n",
    "\"radius_worst\",\n",
    "\"perimeter_mean\",\n",
    "\"area_worst\",\n",
    "\"radius_mean\",\n",
    "\"area_mean\",\n",
    "\"concavity_mean\",\n",
    "\"concavity_worst\"]]"
   ]
  },
  {
   "cell_type": "markdown",
   "metadata": {},
   "source": [
    "## OVERSAMPLING THE DATA"
   ]
  },
  {
   "cell_type": "code",
   "execution_count": 9,
   "metadata": {},
   "outputs": [
    {
     "name": "stdout",
     "output_type": "stream",
     "text": [
      "(398, 10) (398,)\n",
      "(171, 10) (171,)\n"
     ]
    }
   ],
   "source": [
    "# spliting the data on train and test data\n",
    "X_train, X_test, y_train, y_test = train_test_split (features_list_df, target, test_size = 0.30, random_state=21)\n",
    "print (X_train.shape, y_train.shape)\n",
    "print (X_test.shape, y_test.shape)"
   ]
  },
  {
   "cell_type": "code",
   "execution_count": 10,
   "metadata": {},
   "outputs": [
    {
     "name": "stdout",
     "output_type": "stream",
     "text": [
      "Total Tumors on train data = 398\n",
      "Total Benign Tumors on train data = 250\n",
      "Total Malignant Tumors on train data = 148\n",
      "-----\n",
      "62.8140703517588\n",
      "37.185929648241206\n"
     ]
    }
   ],
   "source": [
    "# Count the training data\n",
    "total_count_tumors = len(y_train)\n",
    "print(f'Total Tumors on train data = {total_count_tumors}')\n",
    "total_count_benign = (y_train == 0).sum()\n",
    "print(f'Total Benign Tumors on train data = {total_count_benign}')\n",
    "total_count_malignant = (y_train == 1).sum()\n",
    "print(f'Total Malignant Tumors on train data = {total_count_malignant}')\n",
    "print(\"-----\")\n",
    "percent_benign = (total_count_benign/total_count_tumors)*100.00\n",
    "percent_malignant = (total_count_malignant/total_count_tumors)*100.00\n",
    "print(percent_benign)\n",
    "print(percent_malignant)"
   ]
  },
  {
   "cell_type": "code",
   "execution_count": 11,
   "metadata": {},
   "outputs": [
    {
     "name": "stdout",
     "output_type": "stream",
     "text": [
      "Original train dataset shape Counter({0: 250, 1: 148})\n"
     ]
    }
   ],
   "source": [
    "print('Original train dataset shape %s' % Counter(y_train))"
   ]
  },
  {
   "cell_type": "markdown",
   "metadata": {},
   "source": [
    "#### Apply oversampling models (RandomOverSampler, SMOTE, ADASYN)"
   ]
  },
  {
   "cell_type": "code",
   "execution_count": 12,
   "metadata": {},
   "outputs": [
    {
     "name": "stdout",
     "output_type": "stream",
     "text": [
      "Resampled RandomOverSampler train dataset shape Counter({0: 250, 1: 250})\n",
      "(500, 10) (500,)\n"
     ]
    }
   ],
   "source": [
    "# Random Over Sampler Model\n",
    "ros = RandomOverSampler(random_state=21)\n",
    "X_ros, y_ros = ros.fit_resample(X_train, y_train)\n",
    "print('Resampled RandomOverSampler train dataset shape %s' % Counter(y_ros))\n",
    "print (X_ros.shape, y_ros.shape)"
   ]
  },
  {
   "cell_type": "code",
   "execution_count": 13,
   "metadata": {},
   "outputs": [
    {
     "name": "stdout",
     "output_type": "stream",
     "text": [
      "Resampled SMOTE train dataset shape Counter({0: 250, 1: 250})\n",
      "(500, 10) (500,)\n"
     ]
    }
   ],
   "source": [
    "# SMOTE: Synthetic Minority Oversampling Technique Model\n",
    "sm = SMOTE(random_state=21)\n",
    "X_sm, y_sm = sm.fit_resample(X_train, y_train)\n",
    "print('Resampled SMOTE train dataset shape %s' % Counter(y_sm))\n",
    "print (X_sm.shape, y_sm.shape)"
   ]
  },
  {
   "cell_type": "code",
   "execution_count": 14,
   "metadata": {},
   "outputs": [
    {
     "name": "stdout",
     "output_type": "stream",
     "text": [
      "Resampled ADASYN train dataset shape Counter({1: 254, 0: 250})\n",
      "(504, 10) (504,)\n"
     ]
    }
   ],
   "source": [
    "# ADASYN: Adaptive Synthetic Sampling Model\n",
    "ada = ADASYN(random_state=21)\n",
    "X_ada, y_ada = ada.fit_resample(X_train, y_train)\n",
    "print('Resampled ADASYN train dataset shape %s' % Counter(y_ada))\n",
    "print (X_ada.shape, y_ada.shape)"
   ]
  },
  {
   "cell_type": "markdown",
   "metadata": {},
   "source": [
    "Oversampling models comparison SMOTE VS ADASYN.\n",
    "\n",
    "SMOTE: It finds the n-nearest neighbors in the minority class for each of the samples in the class. Then it draws a line between the the neighbors an generates random points on the lines.\n",
    "\n",
    "ADASYN:  Works as SMOTE, but with a minor improved. After creating the sample it adds a random small values to the points. In other words instead of all the sample being linearly correlated to the parent they have a little more variance in them, been a bit scattered.\n",
    "\n",
    "To take advantage of this smaller variation on the new data, we will use the ADASYN model to oversample the data (X_ada, y_ada)."
   ]
  },
  {
   "cell_type": "markdown",
   "metadata": {},
   "source": [
    "## Pre-processing"
   ]
  },
  {
   "cell_type": "markdown",
   "metadata": {},
   "source": [
    "Scale the data using the ```StandardScaler```\n",
    "\n"
   ]
  },
  {
   "cell_type": "code",
   "execution_count": 15,
   "metadata": {},
   "outputs": [],
   "source": [
    "# Scale the data\n",
    "X_scaler = StandardScaler().fit(X_ada)\n",
    "X_train_scaled = X_scaler.transform(X_ada)\n",
    "X_test_scaled = X_scaler.transform(X_test)\n",
    "X_total_scaled = X_scaler.transform(features_list_df)\n"
   ]
  },
  {
   "cell_type": "markdown",
   "metadata": {},
   "source": [
    "# Machine Learn Models"
   ]
  },
  {
   "cell_type": "markdown",
   "metadata": {},
   "source": [
    "### Model 1 - Logistic Regression"
   ]
  },
  {
   "cell_type": "code",
   "execution_count": 16,
   "metadata": {},
   "outputs": [],
   "source": [
    "# import and train the model\n",
    "from sklearn import linear_model\n",
    "\n",
    "logreg = linear_model.LogisticRegression()\n",
    "logreg.fit(X_train_scaled, y_ada)\n",
    "prediction_logReg = logreg.predict(X_test_scaled)"
   ]
  },
  {
   "cell_type": "code",
   "execution_count": 17,
   "metadata": {},
   "outputs": [
    {
     "name": "stdout",
     "output_type": "stream",
     "text": [
      "Logistic Regression Training Data Score: 0.9345238095238095\n",
      "Logistic Regression Testing Data Score: 0.9298245614035088\n",
      "\n",
      "              precision    recall  f1-score   support\n",
      "\n",
      "     Benign        0.97      0.92      0.94       107\n",
      "   Malignant       0.87      0.95      0.91        64\n",
      "\n",
      "    accuracy                           0.93       171\n",
      "   macro avg       0.92      0.93      0.93       171\n",
      "weighted avg       0.93      0.93      0.93       171\n",
      "\n"
     ]
    }
   ],
   "source": [
    "print(f\"Logistic Regression Training Data Score: {logreg.score(X_train_scaled, y_ada)}\")\n",
    "print(f\"Logistic Regression Testing Data Score: {logreg.score(X_test_scaled, y_test)}\\n\")\n",
    "\n",
    "print(classification_report(y_test, prediction_logReg,\n",
    "                            target_names=['Benign ', 'Malignant']))"
   ]
  },
  {
   "cell_type": "code",
   "execution_count": 18,
   "metadata": {},
   "outputs": [
    {
     "name": "stdout",
     "output_type": "stream",
     "text": [
      "Fitting 5 folds for each of 8 candidates, totalling 40 fits\n",
      "[CV] C=5, penalty=l1 .................................................\n",
      "[CV] ....................... C=5, penalty=l1, score=nan, total=   0.0s\n",
      "[CV] C=5, penalty=l1 .................................................\n",
      "[CV] ....................... C=5, penalty=l1, score=nan, total=   0.0s\n",
      "[CV] C=5, penalty=l1 .................................................\n",
      "[CV] ....................... C=5, penalty=l1, score=nan, total=   0.0s\n",
      "[CV] C=5, penalty=l1 .................................................\n",
      "[CV] ....................... C=5, penalty=l1, score=nan, total=   0.0s\n",
      "[CV] C=5, penalty=l1 .................................................\n",
      "[CV] ....................... C=5, penalty=l1, score=nan, total=   0.0s\n",
      "[CV] C=5, penalty=l2 .................................................\n",
      "[CV] ..................... C=5, penalty=l2, score=0.921, total=   0.0s\n",
      "[CV] C=5, penalty=l2 .................................................\n",
      "[CV] ..................... C=5, penalty=l2, score=0.931, total=   0.0s\n",
      "[CV] C=5, penalty=l2 .................................................\n",
      "[CV] ..................... C=5, penalty=l2, score=0.950, total=   0.0s\n",
      "[CV] C=5, penalty=l2 .................................................\n",
      "[CV] ..................... C=5, penalty=l2, score=0.950, total=   0.0s\n",
      "[CV] C=5, penalty=l2 .................................................\n",
      "[CV] ..................... C=5, penalty=l2, score=0.880, total=   0.0s\n",
      "[CV] C=10, penalty=l1 ................................................\n",
      "[CV] ...................... C=10, penalty=l1, score=nan, total=   0.0s\n",
      "[CV] C=10, penalty=l1 ................................................\n",
      "[CV] ...................... C=10, penalty=l1, score=nan, total=   0.0s\n",
      "[CV] C=10, penalty=l1 ................................................\n",
      "[CV] ...................... C=10, penalty=l1, score=nan, total=   0.0s\n",
      "[CV] C=10, penalty=l1 ................................................\n",
      "[CV] ...................... C=10, penalty=l1, score=nan, total=   0.0s\n",
      "[CV] C=10, penalty=l1 ................................................\n",
      "[CV] ...................... C=10, penalty=l1, score=nan, total=   0.0s\n",
      "[CV] C=10, penalty=l2 ................................................\n",
      "[CV] .................... C=10, penalty=l2, score=0.911, total=   0.0s\n",
      "[CV] C=10, penalty=l2 ................................................\n",
      "[CV] .................... C=10, penalty=l2, score=0.941, total=   0.0s\n",
      "[CV] C=10, penalty=l2 ................................................\n",
      "[CV] .................... C=10, penalty=l2, score=0.950, total=   0.0s\n",
      "[CV] C=10, penalty=l2 ................................................\n",
      "[CV] .................... C=10, penalty=l2, score=0.941, total=   0.0s\n",
      "[CV] C=10, penalty=l2 ................................................\n",
      "[CV] .................... C=10, penalty=l2, score=0.880, total=   0.0s\n",
      "[CV] C=50, penalty=l1 ................................................\n",
      "[CV] ...................... C=50, penalty=l1, score=nan, total=   0.0s\n",
      "[CV] C=50, penalty=l1 ................................................\n",
      "[CV] ...................... C=50, penalty=l1, score=nan, total=   0.0s\n",
      "[CV] C=50, penalty=l1 ................................................\n",
      "[CV] ...................... C=50, penalty=l1, score=nan, total=   0.0s\n",
      "[CV] C=50, penalty=l1 ................................................\n",
      "[CV] ...................... C=50, penalty=l1, score=nan, total=   0.0s\n",
      "[CV] C=50, penalty=l1 ................................................\n",
      "[CV] ...................... C=50, penalty=l1, score=nan, total=   0.0s\n",
      "[CV] C=50, penalty=l2 ................................................\n",
      "[CV] .................... C=50, penalty=l2, score=0.911, total=   0.0s"
     ]
    },
    {
     "name": "stderr",
     "output_type": "stream",
     "text": [
      "[Parallel(n_jobs=1)]: Using backend SequentialBackend with 1 concurrent workers.\n",
      "C:\\Users\\joaog\\Anaconda3\\lib\\site-packages\\sklearn\\model_selection\\_validation.py:536: FitFailedWarning: Estimator fit failed. The score on this train-test partition for these parameters will be set to nan. Details: \n",
      "ValueError: Solver lbfgs supports only 'l2' or 'none' penalties, got l1 penalty.\n",
      "\n",
      "  FitFailedWarning)\n",
      "[Parallel(n_jobs=1)]: Done   1 out of   1 | elapsed:    0.0s remaining:    0.0s\n",
      "[Parallel(n_jobs=1)]: Done   2 out of   2 | elapsed:    0.0s remaining:    0.0s\n",
      "C:\\Users\\joaog\\Anaconda3\\lib\\site-packages\\sklearn\\model_selection\\_validation.py:536: FitFailedWarning: Estimator fit failed. The score on this train-test partition for these parameters will be set to nan. Details: \n",
      "ValueError: Solver lbfgs supports only 'l2' or 'none' penalties, got l1 penalty.\n",
      "\n",
      "  FitFailedWarning)\n",
      "C:\\Users\\joaog\\Anaconda3\\lib\\site-packages\\sklearn\\model_selection\\_validation.py:536: FitFailedWarning: Estimator fit failed. The score on this train-test partition for these parameters will be set to nan. Details: \n",
      "ValueError: Solver lbfgs supports only 'l2' or 'none' penalties, got l1 penalty.\n",
      "\n",
      "  FitFailedWarning)\n"
     ]
    },
    {
     "name": "stdout",
     "output_type": "stream",
     "text": [
      "\n",
      "[CV] C=50, penalty=l2 ................................................\n",
      "[CV] .................... C=50, penalty=l2, score=0.931, total=   0.0s\n",
      "[CV] C=50, penalty=l2 ................................................\n",
      "[CV] .................... C=50, penalty=l2, score=0.950, total=   0.0s\n",
      "[CV] C=50, penalty=l2 ................................................\n",
      "[CV] .................... C=50, penalty=l2, score=0.941, total=   0.0s\n",
      "[CV] C=50, penalty=l2 ................................................\n",
      "[CV] .................... C=50, penalty=l2, score=0.880, total=   0.0s\n",
      "[CV] C=100, penalty=l1 ...............................................\n",
      "[CV] ..................... C=100, penalty=l1, score=nan, total=   0.0s\n",
      "[CV] C=100, penalty=l1 ...............................................\n",
      "[CV] ..................... C=100, penalty=l1, score=nan, total=   0.0s\n",
      "[CV] C=100, penalty=l1 ...............................................\n",
      "[CV] ..................... C=100, penalty=l1, score=nan, total=   0.0s\n",
      "[CV] C=100, penalty=l1 ...............................................\n",
      "[CV] ..................... C=100, penalty=l1, score=nan, total=   0.0s\n",
      "[CV] C=100, penalty=l1 ...............................................\n",
      "[CV] ..................... C=100, penalty=l1, score=nan, total=   0.0s\n",
      "[CV] C=100, penalty=l2 ...............................................\n",
      "[CV] ................... C=100, penalty=l2, score=0.901, total=   0.0s\n",
      "[CV] C=100, penalty=l2 ...............................................\n",
      "[CV] ................... C=100, penalty=l2, score=0.931, total=   0.0s\n",
      "[CV] C=100, penalty=l2 ...............................................\n",
      "[CV] ................... C=100, penalty=l2, score=0.950, total=   0.0s\n",
      "[CV] C=100, penalty=l2 ...............................................\n",
      "[CV] ................... C=100, penalty=l2, score=0.941, total=   0.0s\n",
      "[CV] C=100, penalty=l2 ...............................................\n",
      "[CV] ................... C=100, penalty=l2, score=0.880, total=   0.0s\n"
     ]
    },
    {
     "name": "stderr",
     "output_type": "stream",
     "text": [
      "C:\\Users\\joaog\\Anaconda3\\lib\\site-packages\\sklearn\\model_selection\\_validation.py:536: FitFailedWarning: Estimator fit failed. The score on this train-test partition for these parameters will be set to nan. Details: \n",
      "ValueError: Solver lbfgs supports only 'l2' or 'none' penalties, got l1 penalty.\n",
      "\n",
      "  FitFailedWarning)\n",
      "C:\\Users\\joaog\\Anaconda3\\lib\\site-packages\\sklearn\\linear_model\\_logistic.py:940: ConvergenceWarning: lbfgs failed to converge (status=1):\n",
      "STOP: TOTAL NO. of ITERATIONS REACHED LIMIT.\n",
      "\n",
      "Increase the number of iterations (max_iter) or scale the data as shown in:\n",
      "    https://scikit-learn.org/stable/modules/preprocessing.html\n",
      "Please also refer to the documentation for alternative solver options:\n",
      "    https://scikit-learn.org/stable/modules/linear_model.html#logistic-regression\n",
      "  extra_warning_msg=_LOGISTIC_SOLVER_CONVERGENCE_MSG)\n",
      "C:\\Users\\joaog\\Anaconda3\\lib\\site-packages\\sklearn\\linear_model\\_logistic.py:940: ConvergenceWarning: lbfgs failed to converge (status=1):\n",
      "STOP: TOTAL NO. of ITERATIONS REACHED LIMIT.\n",
      "\n",
      "Increase the number of iterations (max_iter) or scale the data as shown in:\n",
      "    https://scikit-learn.org/stable/modules/preprocessing.html\n",
      "Please also refer to the documentation for alternative solver options:\n",
      "    https://scikit-learn.org/stable/modules/linear_model.html#logistic-regression\n",
      "  extra_warning_msg=_LOGISTIC_SOLVER_CONVERGENCE_MSG)\n",
      "C:\\Users\\joaog\\Anaconda3\\lib\\site-packages\\sklearn\\linear_model\\_logistic.py:940: ConvergenceWarning: lbfgs failed to converge (status=1):\n",
      "STOP: TOTAL NO. of ITERATIONS REACHED LIMIT.\n",
      "\n",
      "Increase the number of iterations (max_iter) or scale the data as shown in:\n",
      "    https://scikit-learn.org/stable/modules/preprocessing.html\n",
      "Please also refer to the documentation for alternative solver options:\n",
      "    https://scikit-learn.org/stable/modules/linear_model.html#logistic-regression\n",
      "  extra_warning_msg=_LOGISTIC_SOLVER_CONVERGENCE_MSG)\n",
      "C:\\Users\\joaog\\Anaconda3\\lib\\site-packages\\sklearn\\linear_model\\_logistic.py:940: ConvergenceWarning: lbfgs failed to converge (status=1):\n",
      "STOP: TOTAL NO. of ITERATIONS REACHED LIMIT.\n",
      "\n",
      "Increase the number of iterations (max_iter) or scale the data as shown in:\n",
      "    https://scikit-learn.org/stable/modules/preprocessing.html\n",
      "Please also refer to the documentation for alternative solver options:\n",
      "    https://scikit-learn.org/stable/modules/linear_model.html#logistic-regression\n",
      "  extra_warning_msg=_LOGISTIC_SOLVER_CONVERGENCE_MSG)\n",
      "C:\\Users\\joaog\\Anaconda3\\lib\\site-packages\\sklearn\\linear_model\\_logistic.py:940: ConvergenceWarning: lbfgs failed to converge (status=1):\n",
      "STOP: TOTAL NO. of ITERATIONS REACHED LIMIT.\n",
      "\n",
      "Increase the number of iterations (max_iter) or scale the data as shown in:\n",
      "    https://scikit-learn.org/stable/modules/preprocessing.html\n",
      "Please also refer to the documentation for alternative solver options:\n",
      "    https://scikit-learn.org/stable/modules/linear_model.html#logistic-regression\n",
      "  extra_warning_msg=_LOGISTIC_SOLVER_CONVERGENCE_MSG)\n",
      "[Parallel(n_jobs=1)]: Done  40 out of  40 | elapsed:    0.3s finished\n"
     ]
    },
    {
     "data": {
      "text/plain": [
       "GridSearchCV(cv=None, error_score=nan,\n",
       "             estimator=LogisticRegression(C=1.0, class_weight=None, dual=False,\n",
       "                                          fit_intercept=True,\n",
       "                                          intercept_scaling=1, l1_ratio=None,\n",
       "                                          max_iter=100, multi_class='auto',\n",
       "                                          n_jobs=None, penalty='l2',\n",
       "                                          random_state=None, solver='lbfgs',\n",
       "                                          tol=0.0001, verbose=0,\n",
       "                                          warm_start=False),\n",
       "             iid='deprecated', n_jobs=None,\n",
       "             param_grid={'C': [5, 10, 50, 100], 'penalty': ['l1', 'l2']},\n",
       "             pre_dispatch='2*n_jobs', refit=True, return_train_score=False,\n",
       "             scoring=None, verbose=3)"
      ]
     },
     "execution_count": 18,
     "metadata": {},
     "output_type": "execute_result"
    }
   ],
   "source": [
    "# use GridSearchCV to Hyperparameter Tuning the model\n",
    "\n",
    "param_grid_logreg = {'C': [5, 10, 50, 100],\"penalty\": ['l1', 'l2']}\n",
    "grid_logreg = GridSearchCV(logreg, param_grid_logreg, verbose=3)\n",
    "grid_logreg.fit(X_train_scaled, y_ada)"
   ]
  },
  {
   "cell_type": "code",
   "execution_count": 19,
   "metadata": {},
   "outputs": [
    {
     "name": "stdout",
     "output_type": "stream",
     "text": [
      "Best Logistic Regression Parameters {'C': 5, 'penalty': 'l2'}\n",
      "Best Logistic Regression Result 0.9264950495049504\n"
     ]
    }
   ],
   "source": [
    "print(f\"Best Logistic Regression Parameters {grid_logreg.best_params_}\")\n",
    "print(f\"Best Logistic Regression Result {grid_logreg.best_score_}\")"
   ]
  },
  {
   "cell_type": "code",
   "execution_count": 20,
   "metadata": {},
   "outputs": [],
   "source": [
    "# set the best Logistic Regression model\n",
    "bestLogReg_model = linear_model.LogisticRegression(C=5, penalty=\"l2\")"
   ]
  },
  {
   "cell_type": "code",
   "execution_count": 21,
   "metadata": {},
   "outputs": [
    {
     "name": "stdout",
     "output_type": "stream",
     "text": [
      "Best Logistic Regression Model Testing Data Score: 0.935672514619883\n"
     ]
    }
   ],
   "source": [
    "# apply the model \n",
    "bestLogReg_model.fit(X_train_scaled, y_ada)\n",
    "print(f\"Best Logistic Regression Model Testing Data Score: {bestLogReg_model.score(X_test_scaled, y_test)}\")"
   ]
  },
  {
   "cell_type": "markdown",
   "metadata": {},
   "source": [
    "### Model 2 - SVC\n"
   ]
  },
  {
   "cell_type": "code",
   "execution_count": 22,
   "metadata": {},
   "outputs": [],
   "source": [
    "# import, train and apply the model\n",
    "from sklearn.svm import SVC \n",
    "\n",
    "model_SVC = SVC()\n",
    "model_SVC.probability = True\n",
    "model_SVC.fit(X_train_scaled, y_ada)\n",
    "prediction_SVC = model_SVC.predict(X_test_scaled)"
   ]
  },
  {
   "cell_type": "code",
   "execution_count": 23,
   "metadata": {},
   "outputs": [
    {
     "name": "stdout",
     "output_type": "stream",
     "text": [
      "SVC Training Data Score: 0.9325396825396826\n",
      "SVC Testing Data Score: 0.9649122807017544\n",
      "\n",
      "              precision    recall  f1-score   support\n",
      "\n",
      "     Benign        0.97      0.97      0.97       107\n",
      "   Malignant       0.95      0.95      0.95        64\n",
      "\n",
      "    accuracy                           0.96       171\n",
      "   macro avg       0.96      0.96      0.96       171\n",
      "weighted avg       0.96      0.96      0.96       171\n",
      "\n"
     ]
    }
   ],
   "source": [
    "print(f\"SVC Training Data Score: {model_SVC.score(X_train_scaled, y_ada)}\")\n",
    "print(f\"SVC Testing Data Score: {model_SVC.score(X_test_scaled, y_test)}\\n\")\n",
    "print(classification_report(y_test, prediction_SVC,\n",
    "                            target_names=['Benign ', 'Malignant']))"
   ]
  },
  {
   "cell_type": "code",
   "execution_count": 24,
   "metadata": {},
   "outputs": [],
   "source": [
    "# use GridSearchCV to Hyperparameter Tuning the model\n",
    "\n",
    "param_grid_SVC = {'C': [1, 5, 10, 50, 100],\n",
    "              'gamma': [0.0001, 0.0005, 0.001, 0.005],\n",
    "                 \"kernel\": [\"linear\",'rbf']}\n",
    "grid_SVC = GridSearchCV(model_SVC, param_grid_SVC, verbose=3)"
   ]
  },
  {
   "cell_type": "code",
   "execution_count": 25,
   "metadata": {},
   "outputs": [
    {
     "name": "stdout",
     "output_type": "stream",
     "text": [
      "Fitting 5 folds for each of 40 candidates, totalling 200 fits\n",
      "[CV] C=1, gamma=0.0001, kernel=linear ................................\n",
      "[CV] .... C=1, gamma=0.0001, kernel=linear, score=0.911, total=   0.0s\n",
      "[CV] C=1, gamma=0.0001, kernel=linear ................................\n",
      "[CV] .... C=1, gamma=0.0001, kernel=linear, score=0.941, total=   0.0s\n",
      "[CV] C=1, gamma=0.0001, kernel=linear ................................\n",
      "[CV] .... C=1, gamma=0.0001, kernel=linear, score=0.960, total=   0.0s\n",
      "[CV] C=1, gamma=0.0001, kernel=linear ................................\n",
      "[CV] .... C=1, gamma=0.0001, kernel=linear, score=0.960, total=   0.0s\n",
      "[CV] C=1, gamma=0.0001, kernel=linear ................................\n",
      "[CV] .... C=1, gamma=0.0001, kernel=linear, score=0.870, total=   0.0s\n",
      "[CV] C=1, gamma=0.0001, kernel=rbf ...................................\n",
      "[CV] ....... C=1, gamma=0.0001, kernel=rbf, score=0.871, total=   0.0s\n",
      "[CV] C=1, gamma=0.0001, kernel=rbf ...................................\n",
      "[CV] ....... C=1, gamma=0.0001, kernel=rbf, score=0.871, total=   0.0s\n",
      "[CV] C=1, gamma=0.0001, kernel=rbf ...................................\n",
      "[CV] ....... C=1, gamma=0.0001, kernel=rbf, score=0.832, total=   0.0s\n",
      "[CV] C=1, gamma=0.0001, kernel=rbf ...................................\n",
      "[CV] ....... C=1, gamma=0.0001, kernel=rbf, score=0.584, total=   0.0s\n",
      "[CV] C=1, gamma=0.0001, kernel=rbf ...................................\n"
     ]
    },
    {
     "name": "stderr",
     "output_type": "stream",
     "text": [
      "[Parallel(n_jobs=1)]: Using backend SequentialBackend with 1 concurrent workers.\n",
      "[Parallel(n_jobs=1)]: Done   1 out of   1 | elapsed:    0.0s remaining:    0.0s\n",
      "[Parallel(n_jobs=1)]: Done   2 out of   2 | elapsed:    0.0s remaining:    0.0s\n"
     ]
    },
    {
     "name": "stdout",
     "output_type": "stream",
     "text": [
      "[CV] ....... C=1, gamma=0.0001, kernel=rbf, score=0.610, total=   0.0s\n",
      "[CV] C=1, gamma=0.0005, kernel=linear ................................\n",
      "[CV] .... C=1, gamma=0.0005, kernel=linear, score=0.911, total=   0.0s\n",
      "[CV] C=1, gamma=0.0005, kernel=linear ................................\n",
      "[CV] .... C=1, gamma=0.0005, kernel=linear, score=0.941, total=   0.0s\n",
      "[CV] C=1, gamma=0.0005, kernel=linear ................................\n",
      "[CV] .... C=1, gamma=0.0005, kernel=linear, score=0.960, total=   0.0s\n",
      "[CV] C=1, gamma=0.0005, kernel=linear ................................\n",
      "[CV] .... C=1, gamma=0.0005, kernel=linear, score=0.960, total=   0.0s\n",
      "[CV] C=1, gamma=0.0005, kernel=linear ................................\n",
      "[CV] .... C=1, gamma=0.0005, kernel=linear, score=0.870, total=   0.0s\n",
      "[CV] C=1, gamma=0.0005, kernel=rbf ...................................\n",
      "[CV] ....... C=1, gamma=0.0005, kernel=rbf, score=0.941, total=   0.0s\n",
      "[CV] C=1, gamma=0.0005, kernel=rbf ...................................\n",
      "[CV] ....... C=1, gamma=0.0005, kernel=rbf, score=0.911, total=   0.0s\n",
      "[CV] C=1, gamma=0.0005, kernel=rbf ...................................\n",
      "[CV] ....... C=1, gamma=0.0005, kernel=rbf, score=0.921, total=   0.0s\n",
      "[CV] C=1, gamma=0.0005, kernel=rbf ...................................\n",
      "[CV] ....... C=1, gamma=0.0005, kernel=rbf, score=0.782, total=   0.0s\n",
      "[CV] C=1, gamma=0.0005, kernel=rbf ...................................\n",
      "[CV] ....... C=1, gamma=0.0005, kernel=rbf, score=0.810, total=   0.0s\n",
      "[CV] C=1, gamma=0.001, kernel=linear .................................\n",
      "[CV] ..... C=1, gamma=0.001, kernel=linear, score=0.911, total=   0.0s\n",
      "[CV] C=1, gamma=0.001, kernel=linear .................................\n",
      "[CV] ..... C=1, gamma=0.001, kernel=linear, score=0.941, total=   0.0s\n",
      "[CV] C=1, gamma=0.001, kernel=linear .................................\n",
      "[CV] ..... C=1, gamma=0.001, kernel=linear, score=0.960, total=   0.0s\n",
      "[CV] C=1, gamma=0.001, kernel=linear .................................\n",
      "[CV] ..... C=1, gamma=0.001, kernel=linear, score=0.960, total=   0.0s\n",
      "[CV] C=1, gamma=0.001, kernel=linear .................................\n",
      "[CV] ..... C=1, gamma=0.001, kernel=linear, score=0.870, total=   0.0s\n",
      "[CV] C=1, gamma=0.001, kernel=rbf ....................................\n",
      "[CV] ........ C=1, gamma=0.001, kernel=rbf, score=0.921, total=   0.0s\n",
      "[CV] C=1, gamma=0.001, kernel=rbf ....................................\n",
      "[CV] ........ C=1, gamma=0.001, kernel=rbf, score=0.921, total=   0.0s\n",
      "[CV] C=1, gamma=0.001, kernel=rbf ....................................\n",
      "[CV] ........ C=1, gamma=0.001, kernel=rbf, score=0.941, total=   0.0s\n",
      "[CV] C=1, gamma=0.001, kernel=rbf ....................................\n",
      "[CV] ........ C=1, gamma=0.001, kernel=rbf, score=0.881, total=   0.0s\n",
      "[CV] C=1, gamma=0.001, kernel=rbf ....................................\n",
      "[CV] ........ C=1, gamma=0.001, kernel=rbf, score=0.850, total=   0.0s\n",
      "[CV] C=1, gamma=0.005, kernel=linear .................................\n",
      "[CV] ..... C=1, gamma=0.005, kernel=linear, score=0.911, total=   0.0s\n",
      "[CV] C=1, gamma=0.005, kernel=linear .................................\n",
      "[CV] ..... C=1, gamma=0.005, kernel=linear, score=0.941, total=   0.0s\n",
      "[CV] C=1, gamma=0.005, kernel=linear .................................\n",
      "[CV] ..... C=1, gamma=0.005, kernel=linear, score=0.960, total=   0.0s\n",
      "[CV] C=1, gamma=0.005, kernel=linear .................................\n",
      "[CV] ..... C=1, gamma=0.005, kernel=linear, score=0.960, total=   0.0s\n",
      "[CV] C=1, gamma=0.005, kernel=linear .................................\n",
      "[CV] ..... C=1, gamma=0.005, kernel=linear, score=0.870, total=   0.0s\n",
      "[CV] C=1, gamma=0.005, kernel=rbf ....................................\n",
      "[CV] ........ C=1, gamma=0.005, kernel=rbf, score=0.911, total=   0.0s\n",
      "[CV] C=1, gamma=0.005, kernel=rbf ....................................\n",
      "[CV] ........ C=1, gamma=0.005, kernel=rbf, score=0.911, total=   0.0s\n",
      "[CV] C=1, gamma=0.005, kernel=rbf ....................................\n",
      "[CV] ........ C=1, gamma=0.005, kernel=rbf, score=0.950, total=   0.0s\n",
      "[CV] C=1, gamma=0.005, kernel=rbf ....................................\n",
      "[CV] ........ C=1, gamma=0.005, kernel=rbf, score=0.911, total=   0.0s\n",
      "[CV] C=1, gamma=0.005, kernel=rbf ....................................\n",
      "[CV] ........ C=1, gamma=0.005, kernel=rbf, score=0.860, total=   0.0s\n",
      "[CV] C=5, gamma=0.0001, kernel=linear ................................\n",
      "[CV] .... C=5, gamma=0.0001, kernel=linear, score=0.911, total=   0.0s\n",
      "[CV] C=5, gamma=0.0001, kernel=linear ................................\n",
      "[CV] .... C=5, gamma=0.0001, kernel=linear, score=0.941, total=   0.0s\n",
      "[CV] C=5, gamma=0.0001, kernel=linear ................................\n",
      "[CV] .... C=5, gamma=0.0001, kernel=linear, score=0.970, total=   0.0s\n",
      "[CV] C=5, gamma=0.0001, kernel=linear ................................\n",
      "[CV] .... C=5, gamma=0.0001, kernel=linear, score=0.941, total=   0.0s\n",
      "[CV] C=5, gamma=0.0001, kernel=linear ................................\n",
      "[CV] .... C=5, gamma=0.0001, kernel=linear, score=0.880, total=   0.0s\n",
      "[CV] C=5, gamma=0.0001, kernel=rbf ...................................\n",
      "[CV] ....... C=5, gamma=0.0001, kernel=rbf, score=0.941, total=   0.0s\n",
      "[CV] C=5, gamma=0.0001, kernel=rbf ...................................\n",
      "[CV] ....... C=5, gamma=0.0001, kernel=rbf, score=0.911, total=   0.0s\n",
      "[CV] C=5, gamma=0.0001, kernel=rbf ...................................\n",
      "[CV] ....... C=5, gamma=0.0001, kernel=rbf, score=0.921, total=   0.0s\n",
      "[CV] C=5, gamma=0.0001, kernel=rbf ...................................\n",
      "[CV] ....... C=5, gamma=0.0001, kernel=rbf, score=0.782, total=   0.0s\n",
      "[CV] C=5, gamma=0.0001, kernel=rbf ...................................\n",
      "[CV] ....... C=5, gamma=0.0001, kernel=rbf, score=0.810, total=   0.0s\n",
      "[CV] C=5, gamma=0.0005, kernel=linear ................................\n",
      "[CV] .... C=5, gamma=0.0005, kernel=linear, score=0.911, total=   0.0s\n",
      "[CV] C=5, gamma=0.0005, kernel=linear ................................\n",
      "[CV] .... C=5, gamma=0.0005, kernel=linear, score=0.941, total=   0.0s\n",
      "[CV] C=5, gamma=0.0005, kernel=linear ................................\n",
      "[CV] .... C=5, gamma=0.0005, kernel=linear, score=0.970, total=   0.0s\n",
      "[CV] C=5, gamma=0.0005, kernel=linear ................................\n",
      "[CV] .... C=5, gamma=0.0005, kernel=linear, score=0.941, total=   0.0s\n",
      "[CV] C=5, gamma=0.0005, kernel=linear ................................\n",
      "[CV] .... C=5, gamma=0.0005, kernel=linear, score=0.880, total=   0.0s\n",
      "[CV] C=5, gamma=0.0005, kernel=rbf ...................................\n",
      "[CV] ....... C=5, gamma=0.0005, kernel=rbf, score=0.911, total=   0.0s\n",
      "[CV] C=5, gamma=0.0005, kernel=rbf ...................................\n",
      "[CV] ....... C=5, gamma=0.0005, kernel=rbf, score=0.921, total=   0.0s\n",
      "[CV] C=5, gamma=0.0005, kernel=rbf ...................................\n",
      "[CV] ....... C=5, gamma=0.0005, kernel=rbf, score=0.950, total=   0.0s\n",
      "[CV] C=5, gamma=0.0005, kernel=rbf ...................................\n",
      "[CV] ....... C=5, gamma=0.0005, kernel=rbf, score=0.881, total=   0.0s\n",
      "[CV] C=5, gamma=0.0005, kernel=rbf ...................................\n",
      "[CV] ....... C=5, gamma=0.0005, kernel=rbf, score=0.860, total=   0.0s\n",
      "[CV] C=5, gamma=0.001, kernel=linear .................................\n",
      "[CV] ..... C=5, gamma=0.001, kernel=linear, score=0.911, total=   0.0s\n",
      "[CV] C=5, gamma=0.001, kernel=linear .................................\n",
      "[CV] ..... C=5, gamma=0.001, kernel=linear, score=0.941, total=   0.0s\n",
      "[CV] C=5, gamma=0.001, kernel=linear .................................\n",
      "[CV] ..... C=5, gamma=0.001, kernel=linear, score=0.970, total=   0.0s\n",
      "[CV] C=5, gamma=0.001, kernel=linear .................................\n",
      "[CV] ..... C=5, gamma=0.001, kernel=linear, score=0.941, total=   0.0s\n",
      "[CV] C=5, gamma=0.001, kernel=linear .................................\n",
      "[CV] ..... C=5, gamma=0.001, kernel=linear, score=0.880, total=   0.0s\n",
      "[CV] C=5, gamma=0.001, kernel=rbf ....................................\n",
      "[CV] ........ C=5, gamma=0.001, kernel=rbf, score=0.911, total=   0.0s\n",
      "[CV] C=5, gamma=0.001, kernel=rbf ....................................\n",
      "[CV] ........ C=5, gamma=0.001, kernel=rbf, score=0.921, total=   0.0s\n",
      "[CV] C=5, gamma=0.001, kernel=rbf ....................................\n",
      "[CV] ........ C=5, gamma=0.001, kernel=rbf, score=0.950, total=   0.0s\n",
      "[CV] C=5, gamma=0.001, kernel=rbf ....................................\n",
      "[CV] ........ C=5, gamma=0.001, kernel=rbf, score=0.911, total=   0.0s\n",
      "[CV] C=5, gamma=0.001, kernel=rbf ....................................\n",
      "[CV] ........ C=5, gamma=0.001, kernel=rbf, score=0.860, total=   0.0s\n",
      "[CV] C=5, gamma=0.005, kernel=linear .................................\n",
      "[CV] ..... C=5, gamma=0.005, kernel=linear, score=0.911, total=   0.0s\n",
      "[CV] C=5, gamma=0.005, kernel=linear .................................\n",
      "[CV] ..... C=5, gamma=0.005, kernel=linear, score=0.941, total=   0.0s\n",
      "[CV] C=5, gamma=0.005, kernel=linear .................................\n",
      "[CV] ..... C=5, gamma=0.005, kernel=linear, score=0.970, total=   0.0s\n",
      "[CV] C=5, gamma=0.005, kernel=linear .................................\n",
      "[CV] ..... C=5, gamma=0.005, kernel=linear, score=0.941, total=   0.0s\n",
      "[CV] C=5, gamma=0.005, kernel=linear .................................\n",
      "[CV] ..... C=5, gamma=0.005, kernel=linear, score=0.880, total=   0.0s\n",
      "[CV] C=5, gamma=0.005, kernel=rbf ....................................\n",
      "[CV] ........ C=5, gamma=0.005, kernel=rbf, score=0.931, total=   0.0s\n",
      "[CV] C=5, gamma=0.005, kernel=rbf ....................................\n",
      "[CV] ........ C=5, gamma=0.005, kernel=rbf, score=0.931, total=   0.0s\n",
      "[CV] C=5, gamma=0.005, kernel=rbf ....................................\n",
      "[CV] ........ C=5, gamma=0.005, kernel=rbf, score=0.960, total=   0.0s\n",
      "[CV] C=5, gamma=0.005, kernel=rbf ....................................\n",
      "[CV] ........ C=5, gamma=0.005, kernel=rbf, score=0.921, total=   0.0s\n",
      "[CV] C=5, gamma=0.005, kernel=rbf ....................................\n"
     ]
    },
    {
     "name": "stdout",
     "output_type": "stream",
     "text": [
      "[CV] ........ C=5, gamma=0.005, kernel=rbf, score=0.870, total=   0.0s\n",
      "[CV] C=10, gamma=0.0001, kernel=linear ...............................\n",
      "[CV] ... C=10, gamma=0.0001, kernel=linear, score=0.911, total=   0.0s\n",
      "[CV] C=10, gamma=0.0001, kernel=linear ...............................\n",
      "[CV] ... C=10, gamma=0.0001, kernel=linear, score=0.941, total=   0.0s\n",
      "[CV] C=10, gamma=0.0001, kernel=linear ...............................\n",
      "[CV] ... C=10, gamma=0.0001, kernel=linear, score=0.970, total=   0.0s\n",
      "[CV] C=10, gamma=0.0001, kernel=linear ...............................\n",
      "[CV] ... C=10, gamma=0.0001, kernel=linear, score=0.941, total=   0.0s\n",
      "[CV] C=10, gamma=0.0001, kernel=linear ...............................\n",
      "[CV] ... C=10, gamma=0.0001, kernel=linear, score=0.880, total=   0.0s\n",
      "[CV] C=10, gamma=0.0001, kernel=rbf ..................................\n",
      "[CV] ...... C=10, gamma=0.0001, kernel=rbf, score=0.921, total=   0.0s\n",
      "[CV] C=10, gamma=0.0001, kernel=rbf ..................................\n",
      "[CV] ...... C=10, gamma=0.0001, kernel=rbf, score=0.911, total=   0.0s\n",
      "[CV] C=10, gamma=0.0001, kernel=rbf ..................................\n",
      "[CV] ...... C=10, gamma=0.0001, kernel=rbf, score=0.941, total=   0.0s\n",
      "[CV] C=10, gamma=0.0001, kernel=rbf ..................................\n",
      "[CV] ...... C=10, gamma=0.0001, kernel=rbf, score=0.881, total=   0.0s\n",
      "[CV] C=10, gamma=0.0001, kernel=rbf ..................................\n",
      "[CV] ...... C=10, gamma=0.0001, kernel=rbf, score=0.850, total=   0.0s\n",
      "[CV] C=10, gamma=0.0005, kernel=linear ...............................\n",
      "[CV] ... C=10, gamma=0.0005, kernel=linear, score=0.911, total=   0.0s\n",
      "[CV] C=10, gamma=0.0005, kernel=linear ...............................\n",
      "[CV] ... C=10, gamma=0.0005, kernel=linear, score=0.941, total=   0.0s\n",
      "[CV] C=10, gamma=0.0005, kernel=linear ...............................\n",
      "[CV] ... C=10, gamma=0.0005, kernel=linear, score=0.970, total=   0.0s\n",
      "[CV] C=10, gamma=0.0005, kernel=linear ...............................\n",
      "[CV] ... C=10, gamma=0.0005, kernel=linear, score=0.941, total=   0.0s\n",
      "[CV] C=10, gamma=0.0005, kernel=linear ...............................\n",
      "[CV] ... C=10, gamma=0.0005, kernel=linear, score=0.880, total=   0.0s\n",
      "[CV] C=10, gamma=0.0005, kernel=rbf ..................................\n",
      "[CV] ...... C=10, gamma=0.0005, kernel=rbf, score=0.911, total=   0.0s\n",
      "[CV] C=10, gamma=0.0005, kernel=rbf ..................................\n",
      "[CV] ...... C=10, gamma=0.0005, kernel=rbf, score=0.921, total=   0.0s\n",
      "[CV] C=10, gamma=0.0005, kernel=rbf ..................................\n",
      "[CV] ...... C=10, gamma=0.0005, kernel=rbf, score=0.950, total=   0.0s\n",
      "[CV] C=10, gamma=0.0005, kernel=rbf ..................................\n",
      "[CV] ...... C=10, gamma=0.0005, kernel=rbf, score=0.911, total=   0.0s\n",
      "[CV] C=10, gamma=0.0005, kernel=rbf ..................................\n",
      "[CV] ...... C=10, gamma=0.0005, kernel=rbf, score=0.860, total=   0.0s\n",
      "[CV] C=10, gamma=0.001, kernel=linear ................................\n",
      "[CV] .... C=10, gamma=0.001, kernel=linear, score=0.911, total=   0.0s\n",
      "[CV] C=10, gamma=0.001, kernel=linear ................................\n",
      "[CV] .... C=10, gamma=0.001, kernel=linear, score=0.941, total=   0.0s\n",
      "[CV] C=10, gamma=0.001, kernel=linear ................................\n",
      "[CV] .... C=10, gamma=0.001, kernel=linear, score=0.970, total=   0.0s\n",
      "[CV] C=10, gamma=0.001, kernel=linear ................................\n",
      "[CV] .... C=10, gamma=0.001, kernel=linear, score=0.941, total=   0.0s\n",
      "[CV] C=10, gamma=0.001, kernel=linear ................................\n",
      "[CV] .... C=10, gamma=0.001, kernel=linear, score=0.880, total=   0.0s\n",
      "[CV] C=10, gamma=0.001, kernel=rbf ...................................\n",
      "[CV] ....... C=10, gamma=0.001, kernel=rbf, score=0.901, total=   0.0s\n",
      "[CV] C=10, gamma=0.001, kernel=rbf ...................................\n",
      "[CV] ....... C=10, gamma=0.001, kernel=rbf, score=0.921, total=   0.0s\n",
      "[CV] C=10, gamma=0.001, kernel=rbf ...................................\n",
      "[CV] ....... C=10, gamma=0.001, kernel=rbf, score=0.960, total=   0.0s\n",
      "[CV] C=10, gamma=0.001, kernel=rbf ...................................\n",
      "[CV] ....... C=10, gamma=0.001, kernel=rbf, score=0.921, total=   0.0s\n",
      "[CV] C=10, gamma=0.001, kernel=rbf ...................................\n",
      "[CV] ....... C=10, gamma=0.001, kernel=rbf, score=0.870, total=   0.0s\n",
      "[CV] C=10, gamma=0.005, kernel=linear ................................\n",
      "[CV] .... C=10, gamma=0.005, kernel=linear, score=0.911, total=   0.0s\n",
      "[CV] C=10, gamma=0.005, kernel=linear ................................\n",
      "[CV] .... C=10, gamma=0.005, kernel=linear, score=0.941, total=   0.0s\n",
      "[CV] C=10, gamma=0.005, kernel=linear ................................\n",
      "[CV] .... C=10, gamma=0.005, kernel=linear, score=0.970, total=   0.0s\n",
      "[CV] C=10, gamma=0.005, kernel=linear ................................\n",
      "[CV] .... C=10, gamma=0.005, kernel=linear, score=0.941, total=   0.0s\n",
      "[CV] C=10, gamma=0.005, kernel=linear ................................\n",
      "[CV] .... C=10, gamma=0.005, kernel=linear, score=0.880, total=   0.0s\n",
      "[CV] C=10, gamma=0.005, kernel=rbf ...................................\n",
      "[CV] ....... C=10, gamma=0.005, kernel=rbf, score=0.921, total=   0.0s\n",
      "[CV] C=10, gamma=0.005, kernel=rbf ...................................\n",
      "[CV] ....... C=10, gamma=0.005, kernel=rbf, score=0.931, total=   0.0s\n",
      "[CV] C=10, gamma=0.005, kernel=rbf ...................................\n",
      "[CV] ....... C=10, gamma=0.005, kernel=rbf, score=0.950, total=   0.0s\n",
      "[CV] C=10, gamma=0.005, kernel=rbf ...................................\n",
      "[CV] ....... C=10, gamma=0.005, kernel=rbf, score=0.921, total=   0.0s\n",
      "[CV] C=10, gamma=0.005, kernel=rbf ...................................\n",
      "[CV] ....... C=10, gamma=0.005, kernel=rbf, score=0.870, total=   0.0s\n",
      "[CV] C=50, gamma=0.0001, kernel=linear ...............................\n",
      "[CV] ... C=50, gamma=0.0001, kernel=linear, score=0.911, total=   0.0s\n",
      "[CV] C=50, gamma=0.0001, kernel=linear ...............................\n",
      "[CV] ... C=50, gamma=0.0001, kernel=linear, score=0.941, total=   0.0s\n",
      "[CV] C=50, gamma=0.0001, kernel=linear ...............................\n",
      "[CV] ... C=50, gamma=0.0001, kernel=linear, score=0.970, total=   0.0s\n",
      "[CV] C=50, gamma=0.0001, kernel=linear ...............................\n",
      "[CV] ... C=50, gamma=0.0001, kernel=linear, score=0.941, total=   0.1s\n",
      "[CV] C=50, gamma=0.0001, kernel=linear ...............................\n",
      "[CV] ... C=50, gamma=0.0001, kernel=linear, score=0.880, total=   0.0s\n",
      "[CV] C=50, gamma=0.0001, kernel=rbf ..................................\n",
      "[CV] ...... C=50, gamma=0.0001, kernel=rbf, score=0.911, total=   0.0s\n",
      "[CV] C=50, gamma=0.0001, kernel=rbf ..................................\n",
      "[CV] ...... C=50, gamma=0.0001, kernel=rbf, score=0.921, total=   0.0s\n",
      "[CV] C=50, gamma=0.0001, kernel=rbf ..................................\n",
      "[CV] ...... C=50, gamma=0.0001, kernel=rbf, score=0.950, total=   0.0s\n",
      "[CV] C=50, gamma=0.0001, kernel=rbf ..................................\n",
      "[CV] ...... C=50, gamma=0.0001, kernel=rbf, score=0.911, total=   0.0s\n",
      "[CV] C=50, gamma=0.0001, kernel=rbf ..................................\n",
      "[CV] ...... C=50, gamma=0.0001, kernel=rbf, score=0.860, total=   0.0s\n",
      "[CV] C=50, gamma=0.0005, kernel=linear ...............................\n",
      "[CV] ... C=50, gamma=0.0005, kernel=linear, score=0.911, total=   0.1s\n",
      "[CV] C=50, gamma=0.0005, kernel=linear ...............................\n",
      "[CV] ... C=50, gamma=0.0005, kernel=linear, score=0.941, total=   0.1s\n",
      "[CV] C=50, gamma=0.0005, kernel=linear ...............................\n",
      "[CV] ... C=50, gamma=0.0005, kernel=linear, score=0.970, total=   0.1s\n",
      "[CV] C=50, gamma=0.0005, kernel=linear ...............................\n",
      "[CV] ... C=50, gamma=0.0005, kernel=linear, score=0.941, total=   0.0s\n",
      "[CV] C=50, gamma=0.0005, kernel=linear ...............................\n",
      "[CV] ... C=50, gamma=0.0005, kernel=linear, score=0.880, total=   0.0s\n",
      "[CV] C=50, gamma=0.0005, kernel=rbf ..................................\n",
      "[CV] ...... C=50, gamma=0.0005, kernel=rbf, score=0.931, total=   0.0s\n",
      "[CV] C=50, gamma=0.0005, kernel=rbf ..................................\n",
      "[CV] ...... C=50, gamma=0.0005, kernel=rbf, score=0.931, total=   0.0s\n",
      "[CV] C=50, gamma=0.0005, kernel=rbf ..................................\n",
      "[CV] ...... C=50, gamma=0.0005, kernel=rbf, score=0.960, total=   0.0s\n",
      "[CV] C=50, gamma=0.0005, kernel=rbf ..................................\n",
      "[CV] ...... C=50, gamma=0.0005, kernel=rbf, score=0.921, total=   0.0s\n",
      "[CV] C=50, gamma=0.0005, kernel=rbf ..................................\n"
     ]
    },
    {
     "name": "stdout",
     "output_type": "stream",
     "text": [
      "[CV] ...... C=50, gamma=0.0005, kernel=rbf, score=0.870, total=   0.0s\n",
      "[CV] C=50, gamma=0.001, kernel=linear ................................\n",
      "[CV] .... C=50, gamma=0.001, kernel=linear, score=0.911, total=   0.1s\n",
      "[CV] C=50, gamma=0.001, kernel=linear ................................\n",
      "[CV] .... C=50, gamma=0.001, kernel=linear, score=0.941, total=   0.0s\n",
      "[CV] C=50, gamma=0.001, kernel=linear ................................\n",
      "[CV] .... C=50, gamma=0.001, kernel=linear, score=0.970, total=   0.0s\n",
      "[CV] C=50, gamma=0.001, kernel=linear ................................\n",
      "[CV] .... C=50, gamma=0.001, kernel=linear, score=0.941, total=   0.1s\n",
      "[CV] C=50, gamma=0.001, kernel=linear ................................\n",
      "[CV] .... C=50, gamma=0.001, kernel=linear, score=0.880, total=   0.0s\n",
      "[CV] C=50, gamma=0.001, kernel=rbf ...................................\n",
      "[CV] ....... C=50, gamma=0.001, kernel=rbf, score=0.921, total=   0.0s\n",
      "[CV] C=50, gamma=0.001, kernel=rbf ...................................\n",
      "[CV] ....... C=50, gamma=0.001, kernel=rbf, score=0.931, total=   0.0s\n",
      "[CV] C=50, gamma=0.001, kernel=rbf ...................................\n",
      "[CV] ....... C=50, gamma=0.001, kernel=rbf, score=0.950, total=   0.0s\n",
      "[CV] C=50, gamma=0.001, kernel=rbf ...................................\n",
      "[CV] ....... C=50, gamma=0.001, kernel=rbf, score=0.921, total=   0.0s\n",
      "[CV] C=50, gamma=0.001, kernel=rbf ...................................\n",
      "[CV] ....... C=50, gamma=0.001, kernel=rbf, score=0.870, total=   0.0s\n",
      "[CV] C=50, gamma=0.005, kernel=linear ................................\n",
      "[CV] .... C=50, gamma=0.005, kernel=linear, score=0.911, total=   0.1s\n",
      "[CV] C=50, gamma=0.005, kernel=linear ................................\n",
      "[CV] .... C=50, gamma=0.005, kernel=linear, score=0.941, total=   0.1s\n",
      "[CV] C=50, gamma=0.005, kernel=linear ................................\n",
      "[CV] .... C=50, gamma=0.005, kernel=linear, score=0.970, total=   0.0s\n",
      "[CV] C=50, gamma=0.005, kernel=linear ................................\n",
      "[CV] .... C=50, gamma=0.005, kernel=linear, score=0.941, total=   0.1s\n",
      "[CV] C=50, gamma=0.005, kernel=linear ................................\n",
      "[CV] .... C=50, gamma=0.005, kernel=linear, score=0.880, total=   0.0s\n",
      "[CV] C=50, gamma=0.005, kernel=rbf ...................................\n",
      "[CV] ....... C=50, gamma=0.005, kernel=rbf, score=0.921, total=   0.0s\n",
      "[CV] C=50, gamma=0.005, kernel=rbf ...................................\n",
      "[CV] ....... C=50, gamma=0.005, kernel=rbf, score=0.931, total=   0.0s\n",
      "[CV] C=50, gamma=0.005, kernel=rbf ...................................\n",
      "[CV] ....... C=50, gamma=0.005, kernel=rbf, score=0.950, total=   0.0s\n",
      "[CV] C=50, gamma=0.005, kernel=rbf ...................................\n",
      "[CV] ....... C=50, gamma=0.005, kernel=rbf, score=0.950, total=   0.0s\n",
      "[CV] C=50, gamma=0.005, kernel=rbf ...................................\n",
      "[CV] ....... C=50, gamma=0.005, kernel=rbf, score=0.880, total=   0.0s\n",
      "[CV] C=100, gamma=0.0001, kernel=linear ..............................\n",
      "[CV] .. C=100, gamma=0.0001, kernel=linear, score=0.921, total=   0.1s\n",
      "[CV] C=100, gamma=0.0001, kernel=linear ..............................\n",
      "[CV] .. C=100, gamma=0.0001, kernel=linear, score=0.931, total=   0.2s\n",
      "[CV] C=100, gamma=0.0001, kernel=linear ..............................\n",
      "[CV] .. C=100, gamma=0.0001, kernel=linear, score=0.970, total=   0.1s\n",
      "[CV] C=100, gamma=0.0001, kernel=linear ..............................\n",
      "[CV] .. C=100, gamma=0.0001, kernel=linear, score=0.941, total=   0.1s\n",
      "[CV] C=100, gamma=0.0001, kernel=linear ..............................\n",
      "[CV] .. C=100, gamma=0.0001, kernel=linear, score=0.880, total=   0.1s\n",
      "[CV] C=100, gamma=0.0001, kernel=rbf .................................\n",
      "[CV] ..... C=100, gamma=0.0001, kernel=rbf, score=0.901, total=   0.0s\n",
      "[CV] C=100, gamma=0.0001, kernel=rbf .................................\n",
      "[CV] ..... C=100, gamma=0.0001, kernel=rbf, score=0.921, total=   0.0s\n",
      "[CV] C=100, gamma=0.0001, kernel=rbf .................................\n",
      "[CV] ..... C=100, gamma=0.0001, kernel=rbf, score=0.960, total=   0.0s\n",
      "[CV] C=100, gamma=0.0001, kernel=rbf .................................\n",
      "[CV] ..... C=100, gamma=0.0001, kernel=rbf, score=0.921, total=   0.0s\n",
      "[CV] C=100, gamma=0.0001, kernel=rbf .................................\n",
      "[CV] ..... C=100, gamma=0.0001, kernel=rbf, score=0.870, total=   0.0s\n",
      "[CV] C=100, gamma=0.0005, kernel=linear ..............................\n",
      "[CV] .. C=100, gamma=0.0005, kernel=linear, score=0.921, total=   0.1s\n",
      "[CV] C=100, gamma=0.0005, kernel=linear ..............................\n",
      "[CV] .. C=100, gamma=0.0005, kernel=linear, score=0.931, total=   0.1s\n",
      "[CV] C=100, gamma=0.0005, kernel=linear ..............................\n",
      "[CV] .. C=100, gamma=0.0005, kernel=linear, score=0.970, total=   0.1s\n",
      "[CV] C=100, gamma=0.0005, kernel=linear ..............................\n",
      "[CV] .. C=100, gamma=0.0005, kernel=linear, score=0.941, total=   0.1s\n",
      "[CV] C=100, gamma=0.0005, kernel=linear ..............................\n",
      "[CV] .. C=100, gamma=0.0005, kernel=linear, score=0.880, total=   0.1s\n",
      "[CV] C=100, gamma=0.0005, kernel=rbf .................................\n",
      "[CV] ..... C=100, gamma=0.0005, kernel=rbf, score=0.921, total=   0.0s\n",
      "[CV] C=100, gamma=0.0005, kernel=rbf .................................\n",
      "[CV] ..... C=100, gamma=0.0005, kernel=rbf, score=0.931, total=   0.0s\n",
      "[CV] C=100, gamma=0.0005, kernel=rbf .................................\n",
      "[CV] ..... C=100, gamma=0.0005, kernel=rbf, score=0.950, total=   0.0s\n",
      "[CV] C=100, gamma=0.0005, kernel=rbf .................................\n",
      "[CV] ..... C=100, gamma=0.0005, kernel=rbf, score=0.921, total=   0.0s\n",
      "[CV] C=100, gamma=0.0005, kernel=rbf .................................\n",
      "[CV] ..... C=100, gamma=0.0005, kernel=rbf, score=0.870, total=   0.0s\n",
      "[CV] C=100, gamma=0.001, kernel=linear ...............................\n",
      "[CV] ... C=100, gamma=0.001, kernel=linear, score=0.921, total=   0.1s\n",
      "[CV] C=100, gamma=0.001, kernel=linear ...............................\n",
      "[CV] ... C=100, gamma=0.001, kernel=linear, score=0.931, total=   0.1s\n",
      "[CV] C=100, gamma=0.001, kernel=linear ...............................\n",
      "[CV] ... C=100, gamma=0.001, kernel=linear, score=0.970, total=   0.1s\n",
      "[CV] C=100, gamma=0.001, kernel=linear ...............................\n",
      "[CV] ... C=100, gamma=0.001, kernel=linear, score=0.941, total=   0.1s\n",
      "[CV] C=100, gamma=0.001, kernel=linear ...............................\n",
      "[CV] ... C=100, gamma=0.001, kernel=linear, score=0.880, total=   0.0s\n",
      "[CV] C=100, gamma=0.001, kernel=rbf ..................................\n",
      "[CV] ...... C=100, gamma=0.001, kernel=rbf, score=0.921, total=   0.0s\n",
      "[CV] C=100, gamma=0.001, kernel=rbf ..................................\n",
      "[CV] ...... C=100, gamma=0.001, kernel=rbf, score=0.931, total=   0.0s\n",
      "[CV] C=100, gamma=0.001, kernel=rbf ..................................\n",
      "[CV] ...... C=100, gamma=0.001, kernel=rbf, score=0.950, total=   0.0s\n",
      "[CV] C=100, gamma=0.001, kernel=rbf ..................................\n",
      "[CV] ...... C=100, gamma=0.001, kernel=rbf, score=0.931, total=   0.0s\n",
      "[CV] C=100, gamma=0.001, kernel=rbf ..................................\n",
      "[CV] ...... C=100, gamma=0.001, kernel=rbf, score=0.860, total=   0.0s\n",
      "[CV] C=100, gamma=0.005, kernel=linear ...............................\n",
      "[CV] ... C=100, gamma=0.005, kernel=linear, score=0.921, total=   0.1s\n",
      "[CV] C=100, gamma=0.005, kernel=linear ...............................\n",
      "[CV] ... C=100, gamma=0.005, kernel=linear, score=0.931, total=   0.1s\n",
      "[CV] C=100, gamma=0.005, kernel=linear ...............................\n",
      "[CV] ... C=100, gamma=0.005, kernel=linear, score=0.970, total=   0.1s\n",
      "[CV] C=100, gamma=0.005, kernel=linear ...............................\n",
      "[CV] ... C=100, gamma=0.005, kernel=linear, score=0.941, total=   0.1s\n",
      "[CV] C=100, gamma=0.005, kernel=linear ...............................\n",
      "[CV] ... C=100, gamma=0.005, kernel=linear, score=0.880, total=   0.1s\n",
      "[CV] C=100, gamma=0.005, kernel=rbf ..................................\n",
      "[CV] ...... C=100, gamma=0.005, kernel=rbf, score=0.921, total=   0.0s\n",
      "[CV] C=100, gamma=0.005, kernel=rbf ..................................\n",
      "[CV] ...... C=100, gamma=0.005, kernel=rbf, score=0.931, total=   0.0s\n",
      "[CV] C=100, gamma=0.005, kernel=rbf ..................................\n",
      "[CV] ...... C=100, gamma=0.005, kernel=rbf, score=0.960, total=   0.0s\n",
      "[CV] C=100, gamma=0.005, kernel=rbf ..................................\n",
      "[CV] ...... C=100, gamma=0.005, kernel=rbf, score=0.960, total=   0.0s\n",
      "[CV] C=100, gamma=0.005, kernel=rbf ..................................\n",
      "[CV] ...... C=100, gamma=0.005, kernel=rbf, score=0.880, total=   0.0s\n"
     ]
    },
    {
     "name": "stderr",
     "output_type": "stream",
     "text": [
      "[Parallel(n_jobs=1)]: Done 200 out of 200 | elapsed:    5.1s finished\n"
     ]
    },
    {
     "data": {
      "text/plain": [
       "GridSearchCV(cv=None, error_score=nan,\n",
       "             estimator=SVC(C=1.0, break_ties=False, cache_size=200,\n",
       "                           class_weight=None, coef0=0.0,\n",
       "                           decision_function_shape='ovr', degree=3,\n",
       "                           gamma='scale', kernel='rbf', max_iter=-1,\n",
       "                           probability=True, random_state=None, shrinking=True,\n",
       "                           tol=0.001, verbose=False),\n",
       "             iid='deprecated', n_jobs=None,\n",
       "             param_grid={'C': [1, 5, 10, 50, 100],\n",
       "                         'gamma': [0.0001, 0.0005, 0.001, 0.005],\n",
       "                         'kernel': ['linear', 'rbf']},\n",
       "             pre_dispatch='2*n_jobs', refit=True, return_train_score=False,\n",
       "             scoring=None, verbose=3)"
      ]
     },
     "execution_count": 25,
     "metadata": {},
     "output_type": "execute_result"
    }
   ],
   "source": [
    "grid_SVC.fit(X_train_scaled, y_ada)"
   ]
  },
  {
   "cell_type": "code",
   "execution_count": 26,
   "metadata": {},
   "outputs": [
    {
     "name": "stdout",
     "output_type": "stream",
     "text": [
      "Best SVC Parameters {'C': 100, 'gamma': 0.005, 'kernel': 'rbf'}\n",
      "Best SVC Result 0.9304554455445544\n"
     ]
    }
   ],
   "source": [
    "print(f\"Best SVC Parameters {grid_SVC.best_params_}\")\n",
    "print(f\"Best SVC Result {grid_SVC.best_score_}\")"
   ]
  },
  {
   "cell_type": "code",
   "execution_count": 27,
   "metadata": {},
   "outputs": [],
   "source": [
    "# set the best SCV model\n",
    "bestSVC_model = SVC(C=100, kernel='rbf', gamma=0.005)\n",
    "bestSVC_model.probability = True"
   ]
  },
  {
   "cell_type": "code",
   "execution_count": 28,
   "metadata": {},
   "outputs": [
    {
     "name": "stdout",
     "output_type": "stream",
     "text": [
      "Best SVC Model Testing Data Score: 0.9473684210526315\n"
     ]
    }
   ],
   "source": [
    "#Best SVC model results\n",
    "bestSVC_model.fit(X_train_scaled, y_ada)\n",
    "print(f\"Best SVC Model Testing Data Score: {bestSVC_model.score(X_test_scaled, y_test)}\")"
   ]
  },
  {
   "cell_type": "markdown",
   "metadata": {},
   "source": [
    "### Model 3 - Neural Network"
   ]
  },
  {
   "cell_type": "code",
   "execution_count": 29,
   "metadata": {},
   "outputs": [
    {
     "name": "stderr",
     "output_type": "stream",
     "text": [
      "C:\\Users\\joaog\\Anaconda3\\lib\\site-packages\\sklearn\\neural_network\\_multilayer_perceptron.py:571: ConvergenceWarning: Stochastic Optimizer: Maximum iterations (200) reached and the optimization hasn't converged yet.\n",
      "  % self.max_iter, ConvergenceWarning)\n"
     ]
    }
   ],
   "source": [
    "# import, train and apply the model\n",
    "from sklearn.neural_network import MLPClassifier\n",
    "\n",
    "nn_model = MLPClassifier()\n",
    "nn_model.fit(X_train_scaled, y_ada)\n",
    "prediction_nn = nn_model.predict(X_test_scaled)"
   ]
  },
  {
   "cell_type": "code",
   "execution_count": 30,
   "metadata": {},
   "outputs": [
    {
     "name": "stdout",
     "output_type": "stream",
     "text": [
      "Neural Network Training Data Score: 0.9503968253968254\n",
      "Neural Network Testing Data Score: 0.9590643274853801\n",
      "\n",
      "              precision    recall  f1-score   support\n",
      "\n",
      "     Benign        0.97      0.96      0.97       107\n",
      "   Malignant       0.94      0.95      0.95        64\n",
      "\n",
      "    accuracy                           0.96       171\n",
      "   macro avg       0.96      0.96      0.96       171\n",
      "weighted avg       0.96      0.96      0.96       171\n",
      "\n"
     ]
    }
   ],
   "source": [
    "print(f\"Neural Network Training Data Score: {nn_model.score(X_train_scaled, y_ada)}\")\n",
    "print(f\"Neural Network Testing Data Score: {nn_model.score(X_test_scaled, y_test)}\\n\")\n",
    "\n",
    "print(classification_report(y_test, prediction_nn,\n",
    "                            target_names=['Benign ', 'Malignant']))"
   ]
  },
  {
   "cell_type": "code",
   "execution_count": 31,
   "metadata": {},
   "outputs": [],
   "source": [
    "# use GridSearchCV to Hyperparameter Tuning the model\n",
    "\n",
    "param_grid_nn = {'hidden_layer_sizes': [1,3,5,9,13,18,20],\n",
    "              \"activation\":[\"identity\", \"logistic\", \"tanh\", \"relu\"],\n",
    "                 \"solver\":[\"lbfgs\", \"sgd\", \"adam\"],\n",
    "                }\n",
    "grid_nn = GridSearchCV(nn_model, param_grid_nn, verbose=3,cv=3,\n",
    "                           scoring='accuracy')"
   ]
  },
  {
   "cell_type": "code",
   "execution_count": 32,
   "metadata": {},
   "outputs": [
    {
     "name": "stdout",
     "output_type": "stream",
     "text": [
      "Fitting 3 folds for each of 84 candidates, totalling 252 fits\n",
      "[CV] activation=identity, hidden_layer_sizes=1, solver=lbfgs .........\n",
      "[CV]  activation=identity, hidden_layer_sizes=1, solver=lbfgs, score=0.911, total=   0.0s\n",
      "[CV] activation=identity, hidden_layer_sizes=1, solver=lbfgs .........\n",
      "[CV]  activation=identity, hidden_layer_sizes=1, solver=lbfgs, score=0.940, total=   0.0s\n",
      "[CV] activation=identity, hidden_layer_sizes=1, solver=lbfgs .........\n",
      "[CV]  activation=identity, hidden_layer_sizes=1, solver=lbfgs, score=0.905, total=   0.0s\n",
      "[CV] activation=identity, hidden_layer_sizes=1, solver=sgd ...........\n"
     ]
    },
    {
     "name": "stderr",
     "output_type": "stream",
     "text": [
      "[Parallel(n_jobs=1)]: Using backend SequentialBackend with 1 concurrent workers.\n",
      "[Parallel(n_jobs=1)]: Done   1 out of   1 | elapsed:    0.0s remaining:    0.0s\n",
      "[Parallel(n_jobs=1)]: Done   2 out of   2 | elapsed:    0.0s remaining:    0.0s\n",
      "C:\\Users\\joaog\\Anaconda3\\lib\\site-packages\\sklearn\\neural_network\\_multilayer_perceptron.py:571: ConvergenceWarning: Stochastic Optimizer: Maximum iterations (200) reached and the optimization hasn't converged yet.\n",
      "  % self.max_iter, ConvergenceWarning)\n",
      "C:\\Users\\joaog\\Anaconda3\\lib\\site-packages\\sklearn\\neural_network\\_multilayer_perceptron.py:571: ConvergenceWarning: Stochastic Optimizer: Maximum iterations (200) reached and the optimization hasn't converged yet.\n",
      "  % self.max_iter, ConvergenceWarning)\n"
     ]
    },
    {
     "name": "stdout",
     "output_type": "stream",
     "text": [
      "[CV]  activation=identity, hidden_layer_sizes=1, solver=sgd, score=0.940, total=   0.1s\n",
      "[CV] activation=identity, hidden_layer_sizes=1, solver=sgd ...........\n",
      "[CV]  activation=identity, hidden_layer_sizes=1, solver=sgd, score=0.911, total=   0.1s\n",
      "[CV] activation=identity, hidden_layer_sizes=1, solver=sgd ...........\n"
     ]
    },
    {
     "name": "stderr",
     "output_type": "stream",
     "text": [
      "C:\\Users\\joaog\\Anaconda3\\lib\\site-packages\\sklearn\\neural_network\\_multilayer_perceptron.py:571: ConvergenceWarning: Stochastic Optimizer: Maximum iterations (200) reached and the optimization hasn't converged yet.\n",
      "  % self.max_iter, ConvergenceWarning)\n",
      "C:\\Users\\joaog\\Anaconda3\\lib\\site-packages\\sklearn\\neural_network\\_multilayer_perceptron.py:571: ConvergenceWarning: Stochastic Optimizer: Maximum iterations (200) reached and the optimization hasn't converged yet.\n",
      "  % self.max_iter, ConvergenceWarning)\n"
     ]
    },
    {
     "name": "stdout",
     "output_type": "stream",
     "text": [
      "[CV]  activation=identity, hidden_layer_sizes=1, solver=sgd, score=0.893, total=   0.1s\n",
      "[CV] activation=identity, hidden_layer_sizes=1, solver=adam ..........\n",
      "[CV]  activation=identity, hidden_layer_sizes=1, solver=adam, score=0.643, total=   0.1s\n",
      "[CV] activation=identity, hidden_layer_sizes=1, solver=adam ..........\n"
     ]
    },
    {
     "name": "stderr",
     "output_type": "stream",
     "text": [
      "C:\\Users\\joaog\\Anaconda3\\lib\\site-packages\\sklearn\\neural_network\\_multilayer_perceptron.py:571: ConvergenceWarning: Stochastic Optimizer: Maximum iterations (200) reached and the optimization hasn't converged yet.\n",
      "  % self.max_iter, ConvergenceWarning)\n"
     ]
    },
    {
     "name": "stdout",
     "output_type": "stream",
     "text": [
      "[CV]  activation=identity, hidden_layer_sizes=1, solver=adam, score=0.679, total=   0.1s\n",
      "[CV] activation=identity, hidden_layer_sizes=1, solver=adam ..........\n",
      "[CV]  activation=identity, hidden_layer_sizes=1, solver=adam, score=0.887, total=   0.1s\n",
      "[CV] activation=identity, hidden_layer_sizes=3, solver=lbfgs .........\n",
      "[CV]  activation=identity, hidden_layer_sizes=3, solver=lbfgs, score=0.911, total=   0.0s\n",
      "[CV] activation=identity, hidden_layer_sizes=3, solver=lbfgs .........\n",
      "[CV]  activation=identity, hidden_layer_sizes=3, solver=lbfgs, score=0.940, total=   0.0s\n",
      "[CV] activation=identity, hidden_layer_sizes=3, solver=lbfgs .........\n",
      "[CV]  activation=identity, hidden_layer_sizes=3, solver=lbfgs, score=0.905, total=   0.0s\n",
      "[CV] activation=identity, hidden_layer_sizes=3, solver=sgd ...........\n"
     ]
    },
    {
     "name": "stderr",
     "output_type": "stream",
     "text": [
      "C:\\Users\\joaog\\Anaconda3\\lib\\site-packages\\sklearn\\neural_network\\_multilayer_perceptron.py:571: ConvergenceWarning: Stochastic Optimizer: Maximum iterations (200) reached and the optimization hasn't converged yet.\n",
      "  % self.max_iter, ConvergenceWarning)\n",
      "C:\\Users\\joaog\\Anaconda3\\lib\\site-packages\\sklearn\\neural_network\\_multilayer_perceptron.py:571: ConvergenceWarning: Stochastic Optimizer: Maximum iterations (200) reached and the optimization hasn't converged yet.\n",
      "  % self.max_iter, ConvergenceWarning)\n"
     ]
    },
    {
     "name": "stdout",
     "output_type": "stream",
     "text": [
      "[CV]  activation=identity, hidden_layer_sizes=3, solver=sgd, score=0.899, total=   0.1s\n",
      "[CV] activation=identity, hidden_layer_sizes=3, solver=sgd ...........\n",
      "[CV]  activation=identity, hidden_layer_sizes=3, solver=sgd, score=0.940, total=   0.1s\n",
      "[CV] activation=identity, hidden_layer_sizes=3, solver=sgd ...........\n"
     ]
    },
    {
     "name": "stderr",
     "output_type": "stream",
     "text": [
      "C:\\Users\\joaog\\Anaconda3\\lib\\site-packages\\sklearn\\neural_network\\_multilayer_perceptron.py:571: ConvergenceWarning: Stochastic Optimizer: Maximum iterations (200) reached and the optimization hasn't converged yet.\n",
      "  % self.max_iter, ConvergenceWarning)\n",
      "C:\\Users\\joaog\\Anaconda3\\lib\\site-packages\\sklearn\\neural_network\\_multilayer_perceptron.py:571: ConvergenceWarning: Stochastic Optimizer: Maximum iterations (200) reached and the optimization hasn't converged yet.\n",
      "  % self.max_iter, ConvergenceWarning)\n"
     ]
    },
    {
     "name": "stdout",
     "output_type": "stream",
     "text": [
      "[CV]  activation=identity, hidden_layer_sizes=3, solver=sgd, score=0.845, total=   0.1s\n",
      "[CV] activation=identity, hidden_layer_sizes=3, solver=adam ..........\n",
      "[CV]  activation=identity, hidden_layer_sizes=3, solver=adam, score=0.911, total=   0.1s\n",
      "[CV] activation=identity, hidden_layer_sizes=3, solver=adam ..........\n"
     ]
    },
    {
     "name": "stderr",
     "output_type": "stream",
     "text": [
      "C:\\Users\\joaog\\Anaconda3\\lib\\site-packages\\sklearn\\neural_network\\_multilayer_perceptron.py:571: ConvergenceWarning: Stochastic Optimizer: Maximum iterations (200) reached and the optimization hasn't converged yet.\n",
      "  % self.max_iter, ConvergenceWarning)\n",
      "C:\\Users\\joaog\\Anaconda3\\lib\\site-packages\\sklearn\\neural_network\\_multilayer_perceptron.py:571: ConvergenceWarning: Stochastic Optimizer: Maximum iterations (200) reached and the optimization hasn't converged yet.\n",
      "  % self.max_iter, ConvergenceWarning)\n"
     ]
    },
    {
     "name": "stdout",
     "output_type": "stream",
     "text": [
      "[CV]  activation=identity, hidden_layer_sizes=3, solver=adam, score=0.899, total=   0.1s\n",
      "[CV] activation=identity, hidden_layer_sizes=3, solver=adam ..........\n",
      "[CV]  activation=identity, hidden_layer_sizes=3, solver=adam, score=0.881, total=   0.1s\n",
      "[CV] activation=identity, hidden_layer_sizes=5, solver=lbfgs .........\n",
      "[CV]  activation=identity, hidden_layer_sizes=5, solver=lbfgs, score=0.911, total=   0.0s\n",
      "[CV] activation=identity, hidden_layer_sizes=5, solver=lbfgs .........\n",
      "[CV]  activation=identity, hidden_layer_sizes=5, solver=lbfgs, score=0.940, total=   0.0s\n",
      "[CV] activation=identity, hidden_layer_sizes=5, solver=lbfgs .........\n",
      "[CV]  activation=identity, hidden_layer_sizes=5, solver=lbfgs, score=0.905, total=   0.0s\n",
      "[CV] activation=identity, hidden_layer_sizes=5, solver=sgd ...........\n",
      "[CV]  activation=identity, hidden_layer_sizes=5, solver=sgd, score=0.893, total=   0.1s\n",
      "[CV] activation=identity, hidden_layer_sizes=5, solver=sgd ...........\n"
     ]
    },
    {
     "name": "stderr",
     "output_type": "stream",
     "text": [
      "C:\\Users\\joaog\\Anaconda3\\lib\\site-packages\\sklearn\\neural_network\\_multilayer_perceptron.py:571: ConvergenceWarning: Stochastic Optimizer: Maximum iterations (200) reached and the optimization hasn't converged yet.\n",
      "  % self.max_iter, ConvergenceWarning)\n",
      "C:\\Users\\joaog\\Anaconda3\\lib\\site-packages\\sklearn\\neural_network\\_multilayer_perceptron.py:571: ConvergenceWarning: Stochastic Optimizer: Maximum iterations (200) reached and the optimization hasn't converged yet.\n",
      "  % self.max_iter, ConvergenceWarning)\n"
     ]
    },
    {
     "name": "stdout",
     "output_type": "stream",
     "text": [
      "[CV]  activation=identity, hidden_layer_sizes=5, solver=sgd, score=0.911, total=   0.1s\n",
      "[CV] activation=identity, hidden_layer_sizes=5, solver=sgd ...........\n",
      "[CV]  activation=identity, hidden_layer_sizes=5, solver=sgd, score=0.833, total=   0.1s\n",
      "[CV] activation=identity, hidden_layer_sizes=5, solver=adam ..........\n"
     ]
    },
    {
     "name": "stderr",
     "output_type": "stream",
     "text": [
      "C:\\Users\\joaog\\Anaconda3\\lib\\site-packages\\sklearn\\neural_network\\_multilayer_perceptron.py:571: ConvergenceWarning: Stochastic Optimizer: Maximum iterations (200) reached and the optimization hasn't converged yet.\n",
      "  % self.max_iter, ConvergenceWarning)\n",
      "C:\\Users\\joaog\\Anaconda3\\lib\\site-packages\\sklearn\\neural_network\\_multilayer_perceptron.py:571: ConvergenceWarning: Stochastic Optimizer: Maximum iterations (200) reached and the optimization hasn't converged yet.\n",
      "  % self.max_iter, ConvergenceWarning)\n"
     ]
    },
    {
     "name": "stdout",
     "output_type": "stream",
     "text": [
      "[CV]  activation=identity, hidden_layer_sizes=5, solver=adam, score=0.911, total=   0.1s\n",
      "[CV] activation=identity, hidden_layer_sizes=5, solver=adam ..........\n",
      "[CV]  activation=identity, hidden_layer_sizes=5, solver=adam, score=0.935, total=   0.1s\n",
      "[CV] activation=identity, hidden_layer_sizes=5, solver=adam ..........\n"
     ]
    },
    {
     "name": "stderr",
     "output_type": "stream",
     "text": [
      "C:\\Users\\joaog\\Anaconda3\\lib\\site-packages\\sklearn\\neural_network\\_multilayer_perceptron.py:571: ConvergenceWarning: Stochastic Optimizer: Maximum iterations (200) reached and the optimization hasn't converged yet.\n",
      "  % self.max_iter, ConvergenceWarning)\n"
     ]
    },
    {
     "name": "stdout",
     "output_type": "stream",
     "text": [
      "[CV]  activation=identity, hidden_layer_sizes=5, solver=adam, score=0.845, total=   0.1s\n",
      "[CV] activation=identity, hidden_layer_sizes=9, solver=lbfgs .........\n",
      "[CV]  activation=identity, hidden_layer_sizes=9, solver=lbfgs, score=0.911, total=   0.0s\n",
      "[CV] activation=identity, hidden_layer_sizes=9, solver=lbfgs .........\n",
      "[CV]  activation=identity, hidden_layer_sizes=9, solver=lbfgs, score=0.940, total=   0.0s\n",
      "[CV] activation=identity, hidden_layer_sizes=9, solver=lbfgs .........\n",
      "[CV]  activation=identity, hidden_layer_sizes=9, solver=lbfgs, score=0.905, total=   0.0s\n",
      "[CV] activation=identity, hidden_layer_sizes=9, solver=sgd ...........\n"
     ]
    },
    {
     "name": "stderr",
     "output_type": "stream",
     "text": [
      "C:\\Users\\joaog\\Anaconda3\\lib\\site-packages\\sklearn\\neural_network\\_multilayer_perceptron.py:571: ConvergenceWarning: Stochastic Optimizer: Maximum iterations (200) reached and the optimization hasn't converged yet.\n",
      "  % self.max_iter, ConvergenceWarning)\n",
      "C:\\Users\\joaog\\Anaconda3\\lib\\site-packages\\sklearn\\neural_network\\_multilayer_perceptron.py:571: ConvergenceWarning: Stochastic Optimizer: Maximum iterations (200) reached and the optimization hasn't converged yet.\n",
      "  % self.max_iter, ConvergenceWarning)\n"
     ]
    },
    {
     "name": "stdout",
     "output_type": "stream",
     "text": [
      "[CV]  activation=identity, hidden_layer_sizes=9, solver=sgd, score=0.929, total=   0.2s\n",
      "[CV] activation=identity, hidden_layer_sizes=9, solver=sgd ...........\n",
      "[CV]  activation=identity, hidden_layer_sizes=9, solver=sgd, score=0.923, total=   0.1s\n",
      "[CV] activation=identity, hidden_layer_sizes=9, solver=sgd ...........\n",
      "[CV]  activation=identity, hidden_layer_sizes=9, solver=sgd, score=0.857, total=   0.1s\n",
      "[CV] activation=identity, hidden_layer_sizes=9, solver=adam ..........\n"
     ]
    },
    {
     "name": "stderr",
     "output_type": "stream",
     "text": [
      "C:\\Users\\joaog\\Anaconda3\\lib\\site-packages\\sklearn\\neural_network\\_multilayer_perceptron.py:571: ConvergenceWarning: Stochastic Optimizer: Maximum iterations (200) reached and the optimization hasn't converged yet.\n",
      "  % self.max_iter, ConvergenceWarning)\n",
      "C:\\Users\\joaog\\Anaconda3\\lib\\site-packages\\sklearn\\neural_network\\_multilayer_perceptron.py:571: ConvergenceWarning: Stochastic Optimizer: Maximum iterations (200) reached and the optimization hasn't converged yet.\n",
      "  % self.max_iter, ConvergenceWarning)\n"
     ]
    },
    {
     "name": "stdout",
     "output_type": "stream",
     "text": [
      "[CV]  activation=identity, hidden_layer_sizes=9, solver=adam, score=0.911, total=   0.1s\n",
      "[CV] activation=identity, hidden_layer_sizes=9, solver=adam ..........\n",
      "[CV]  activation=identity, hidden_layer_sizes=9, solver=adam, score=0.940, total=   0.1s\n",
      "[CV] activation=identity, hidden_layer_sizes=9, solver=adam ..........\n"
     ]
    },
    {
     "name": "stderr",
     "output_type": "stream",
     "text": [
      "C:\\Users\\joaog\\Anaconda3\\lib\\site-packages\\sklearn\\neural_network\\_multilayer_perceptron.py:571: ConvergenceWarning: Stochastic Optimizer: Maximum iterations (200) reached and the optimization hasn't converged yet.\n",
      "  % self.max_iter, ConvergenceWarning)\n"
     ]
    },
    {
     "name": "stdout",
     "output_type": "stream",
     "text": [
      "[CV]  activation=identity, hidden_layer_sizes=9, solver=adam, score=0.845, total=   0.1s\n",
      "[CV] activation=identity, hidden_layer_sizes=13, solver=lbfgs ........\n",
      "[CV]  activation=identity, hidden_layer_sizes=13, solver=lbfgs, score=0.911, total=   0.0s\n",
      "[CV] activation=identity, hidden_layer_sizes=13, solver=lbfgs ........\n",
      "[CV]  activation=identity, hidden_layer_sizes=13, solver=lbfgs, score=0.940, total=   0.0s\n",
      "[CV] activation=identity, hidden_layer_sizes=13, solver=lbfgs ........\n",
      "[CV]  activation=identity, hidden_layer_sizes=13, solver=lbfgs, score=0.905, total=   0.0s\n",
      "[CV] activation=identity, hidden_layer_sizes=13, solver=sgd ..........\n"
     ]
    },
    {
     "name": "stderr",
     "output_type": "stream",
     "text": [
      "C:\\Users\\joaog\\Anaconda3\\lib\\site-packages\\sklearn\\neural_network\\_multilayer_perceptron.py:571: ConvergenceWarning: Stochastic Optimizer: Maximum iterations (200) reached and the optimization hasn't converged yet.\n",
      "  % self.max_iter, ConvergenceWarning)\n",
      "C:\\Users\\joaog\\Anaconda3\\lib\\site-packages\\sklearn\\neural_network\\_multilayer_perceptron.py:571: ConvergenceWarning: Stochastic Optimizer: Maximum iterations (200) reached and the optimization hasn't converged yet.\n",
      "  % self.max_iter, ConvergenceWarning)\n"
     ]
    },
    {
     "name": "stdout",
     "output_type": "stream",
     "text": [
      "[CV]  activation=identity, hidden_layer_sizes=13, solver=sgd, score=0.923, total=   0.1s\n",
      "[CV] activation=identity, hidden_layer_sizes=13, solver=sgd ..........\n",
      "[CV]  activation=identity, hidden_layer_sizes=13, solver=sgd, score=0.917, total=   0.1s\n",
      "[CV] activation=identity, hidden_layer_sizes=13, solver=sgd ..........\n"
     ]
    },
    {
     "name": "stderr",
     "output_type": "stream",
     "text": [
      "C:\\Users\\joaog\\Anaconda3\\lib\\site-packages\\sklearn\\neural_network\\_multilayer_perceptron.py:571: ConvergenceWarning: Stochastic Optimizer: Maximum iterations (200) reached and the optimization hasn't converged yet.\n",
      "  % self.max_iter, ConvergenceWarning)\n",
      "C:\\Users\\joaog\\Anaconda3\\lib\\site-packages\\sklearn\\neural_network\\_multilayer_perceptron.py:571: ConvergenceWarning: Stochastic Optimizer: Maximum iterations (200) reached and the optimization hasn't converged yet.\n",
      "  % self.max_iter, ConvergenceWarning)\n"
     ]
    },
    {
     "name": "stdout",
     "output_type": "stream",
     "text": [
      "[CV]  activation=identity, hidden_layer_sizes=13, solver=sgd, score=0.857, total=   0.1s\n",
      "[CV] activation=identity, hidden_layer_sizes=13, solver=adam .........\n",
      "[CV]  activation=identity, hidden_layer_sizes=13, solver=adam, score=0.911, total=   0.1s\n",
      "[CV] activation=identity, hidden_layer_sizes=13, solver=adam .........\n"
     ]
    },
    {
     "name": "stderr",
     "output_type": "stream",
     "text": [
      "C:\\Users\\joaog\\Anaconda3\\lib\\site-packages\\sklearn\\neural_network\\_multilayer_perceptron.py:571: ConvergenceWarning: Stochastic Optimizer: Maximum iterations (200) reached and the optimization hasn't converged yet.\n",
      "  % self.max_iter, ConvergenceWarning)\n",
      "C:\\Users\\joaog\\Anaconda3\\lib\\site-packages\\sklearn\\neural_network\\_multilayer_perceptron.py:571: ConvergenceWarning: Stochastic Optimizer: Maximum iterations (200) reached and the optimization hasn't converged yet.\n",
      "  % self.max_iter, ConvergenceWarning)\n"
     ]
    },
    {
     "name": "stdout",
     "output_type": "stream",
     "text": [
      "[CV]  activation=identity, hidden_layer_sizes=13, solver=adam, score=0.940, total=   0.1s\n",
      "[CV] activation=identity, hidden_layer_sizes=13, solver=adam .........\n",
      "[CV]  activation=identity, hidden_layer_sizes=13, solver=adam, score=0.887, total=   0.1s\n",
      "[CV] activation=identity, hidden_layer_sizes=18, solver=lbfgs ........\n",
      "[CV]  activation=identity, hidden_layer_sizes=18, solver=lbfgs, score=0.911, total=   0.0s\n",
      "[CV] activation=identity, hidden_layer_sizes=18, solver=lbfgs ........\n",
      "[CV]  activation=identity, hidden_layer_sizes=18, solver=lbfgs, score=0.940, total=   0.0s\n",
      "[CV] activation=identity, hidden_layer_sizes=18, solver=lbfgs ........\n",
      "[CV]  activation=identity, hidden_layer_sizes=18, solver=lbfgs, score=0.905, total=   0.0s"
     ]
    },
    {
     "name": "stderr",
     "output_type": "stream",
     "text": [
      "C:\\Users\\joaog\\Anaconda3\\lib\\site-packages\\sklearn\\neural_network\\_multilayer_perceptron.py:571: ConvergenceWarning: Stochastic Optimizer: Maximum iterations (200) reached and the optimization hasn't converged yet.\n",
      "  % self.max_iter, ConvergenceWarning)\n",
      "C:\\Users\\joaog\\Anaconda3\\lib\\site-packages\\sklearn\\neural_network\\_multilayer_perceptron.py:571: ConvergenceWarning: Stochastic Optimizer: Maximum iterations (200) reached and the optimization hasn't converged yet.\n",
      "  % self.max_iter, ConvergenceWarning)\n"
     ]
    },
    {
     "name": "stdout",
     "output_type": "stream",
     "text": [
      "\n",
      "[CV] activation=identity, hidden_layer_sizes=18, solver=sgd ..........\n",
      "[CV]  activation=identity, hidden_layer_sizes=18, solver=sgd, score=0.929, total=   0.2s\n",
      "[CV] activation=identity, hidden_layer_sizes=18, solver=sgd ..........\n",
      "[CV]  activation=identity, hidden_layer_sizes=18, solver=sgd, score=0.929, total=   0.1s\n",
      "[CV] activation=identity, hidden_layer_sizes=18, solver=sgd ..........\n",
      "[CV]  activation=identity, hidden_layer_sizes=18, solver=sgd, score=0.851, total=   0.2s\n",
      "[CV] activation=identity, hidden_layer_sizes=18, solver=adam .........\n"
     ]
    },
    {
     "name": "stderr",
     "output_type": "stream",
     "text": [
      "C:\\Users\\joaog\\Anaconda3\\lib\\site-packages\\sklearn\\neural_network\\_multilayer_perceptron.py:571: ConvergenceWarning: Stochastic Optimizer: Maximum iterations (200) reached and the optimization hasn't converged yet.\n",
      "  % self.max_iter, ConvergenceWarning)\n",
      "C:\\Users\\joaog\\Anaconda3\\lib\\site-packages\\sklearn\\neural_network\\_multilayer_perceptron.py:571: ConvergenceWarning: Stochastic Optimizer: Maximum iterations (200) reached and the optimization hasn't converged yet.\n",
      "  % self.max_iter, ConvergenceWarning)\n"
     ]
    },
    {
     "name": "stdout",
     "output_type": "stream",
     "text": [
      "[CV]  activation=identity, hidden_layer_sizes=18, solver=adam, score=0.905, total=   0.2s\n",
      "[CV] activation=identity, hidden_layer_sizes=18, solver=adam .........\n",
      "[CV]  activation=identity, hidden_layer_sizes=18, solver=adam, score=0.952, total=   0.2s\n",
      "[CV] activation=identity, hidden_layer_sizes=18, solver=adam .........\n"
     ]
    },
    {
     "name": "stderr",
     "output_type": "stream",
     "text": [
      "C:\\Users\\joaog\\Anaconda3\\lib\\site-packages\\sklearn\\neural_network\\_multilayer_perceptron.py:571: ConvergenceWarning: Stochastic Optimizer: Maximum iterations (200) reached and the optimization hasn't converged yet.\n",
      "  % self.max_iter, ConvergenceWarning)\n"
     ]
    },
    {
     "name": "stdout",
     "output_type": "stream",
     "text": [
      "[CV]  activation=identity, hidden_layer_sizes=18, solver=adam, score=0.911, total=   0.2s\n",
      "[CV] activation=identity, hidden_layer_sizes=20, solver=lbfgs ........\n",
      "[CV]  activation=identity, hidden_layer_sizes=20, solver=lbfgs, score=0.911, total=   0.0s\n",
      "[CV] activation=identity, hidden_layer_sizes=20, solver=lbfgs ........\n",
      "[CV]  activation=identity, hidden_layer_sizes=20, solver=lbfgs, score=0.940, total=   0.0s\n",
      "[CV] activation=identity, hidden_layer_sizes=20, solver=lbfgs ........\n",
      "[CV]  activation=identity, hidden_layer_sizes=20, solver=lbfgs, score=0.905, total=   0.0s\n",
      "[CV] activation=identity, hidden_layer_sizes=20, solver=sgd ..........\n"
     ]
    },
    {
     "name": "stderr",
     "output_type": "stream",
     "text": [
      "C:\\Users\\joaog\\Anaconda3\\lib\\site-packages\\sklearn\\neural_network\\_multilayer_perceptron.py:571: ConvergenceWarning: Stochastic Optimizer: Maximum iterations (200) reached and the optimization hasn't converged yet.\n",
      "  % self.max_iter, ConvergenceWarning)\n"
     ]
    },
    {
     "name": "stdout",
     "output_type": "stream",
     "text": [
      "[CV]  activation=identity, hidden_layer_sizes=20, solver=sgd, score=0.929, total=   0.1s\n",
      "[CV] activation=identity, hidden_layer_sizes=20, solver=sgd ..........\n",
      "[CV]  activation=identity, hidden_layer_sizes=20, solver=sgd, score=0.940, total=   0.1s\n",
      "[CV] activation=identity, hidden_layer_sizes=20, solver=sgd ..........\n"
     ]
    },
    {
     "name": "stderr",
     "output_type": "stream",
     "text": [
      "C:\\Users\\joaog\\Anaconda3\\lib\\site-packages\\sklearn\\neural_network\\_multilayer_perceptron.py:571: ConvergenceWarning: Stochastic Optimizer: Maximum iterations (200) reached and the optimization hasn't converged yet.\n",
      "  % self.max_iter, ConvergenceWarning)\n",
      "C:\\Users\\joaog\\Anaconda3\\lib\\site-packages\\sklearn\\neural_network\\_multilayer_perceptron.py:571: ConvergenceWarning: Stochastic Optimizer: Maximum iterations (200) reached and the optimization hasn't converged yet.\n",
      "  % self.max_iter, ConvergenceWarning)\n"
     ]
    },
    {
     "name": "stdout",
     "output_type": "stream",
     "text": [
      "[CV]  activation=identity, hidden_layer_sizes=20, solver=sgd, score=0.857, total=   0.2s\n",
      "[CV] activation=identity, hidden_layer_sizes=20, solver=adam .........\n",
      "[CV]  activation=identity, hidden_layer_sizes=20, solver=adam, score=0.905, total=   0.2s\n",
      "[CV] activation=identity, hidden_layer_sizes=20, solver=adam .........\n"
     ]
    },
    {
     "name": "stderr",
     "output_type": "stream",
     "text": [
      "C:\\Users\\joaog\\Anaconda3\\lib\\site-packages\\sklearn\\neural_network\\_multilayer_perceptron.py:571: ConvergenceWarning: Stochastic Optimizer: Maximum iterations (200) reached and the optimization hasn't converged yet.\n",
      "  % self.max_iter, ConvergenceWarning)\n"
     ]
    },
    {
     "name": "stdout",
     "output_type": "stream",
     "text": [
      "[CV]  activation=identity, hidden_layer_sizes=20, solver=adam, score=0.952, total=   0.2s\n",
      "[CV] activation=identity, hidden_layer_sizes=20, solver=adam .........\n",
      "[CV]  activation=identity, hidden_layer_sizes=20, solver=adam, score=0.893, total=   0.2s\n",
      "[CV] activation=logistic, hidden_layer_sizes=1, solver=lbfgs .........\n",
      "[CV]  activation=logistic, hidden_layer_sizes=1, solver=lbfgs, score=0.935, total=   0.0s\n",
      "[CV] activation=logistic, hidden_layer_sizes=1, solver=lbfgs .........\n",
      "[CV]  activation=logistic, hidden_layer_sizes=1, solver=lbfgs, score=0.958, total=   0.0s\n",
      "[CV] activation=logistic, hidden_layer_sizes=1, solver=lbfgs .........\n",
      "[CV]  activation=logistic, hidden_layer_sizes=1, solver=lbfgs, score=0.911, total=   0.0s\n",
      "[CV] activation=logistic, hidden_layer_sizes=1, solver=sgd ...........\n",
      "[CV]  activation=logistic, hidden_layer_sizes=1, solver=sgd, score=0.643, total=   0.1s\n",
      "[CV] activation=logistic, hidden_layer_sizes=1, solver=sgd ...........\n"
     ]
    },
    {
     "name": "stderr",
     "output_type": "stream",
     "text": [
      "C:\\Users\\joaog\\Anaconda3\\lib\\site-packages\\sklearn\\neural_network\\_multilayer_perceptron.py:571: ConvergenceWarning: Stochastic Optimizer: Maximum iterations (200) reached and the optimization hasn't converged yet.\n",
      "  % self.max_iter, ConvergenceWarning)\n",
      "C:\\Users\\joaog\\Anaconda3\\lib\\site-packages\\sklearn\\neural_network\\_multilayer_perceptron.py:571: ConvergenceWarning: Stochastic Optimizer: Maximum iterations (200) reached and the optimization hasn't converged yet.\n",
      "  % self.max_iter, ConvergenceWarning)\n"
     ]
    },
    {
     "name": "stdout",
     "output_type": "stream",
     "text": [
      "[CV]  activation=logistic, hidden_layer_sizes=1, solver=sgd, score=0.917, total=   0.1s\n",
      "[CV] activation=logistic, hidden_layer_sizes=1, solver=sgd ...........\n",
      "[CV]  activation=logistic, hidden_layer_sizes=1, solver=sgd, score=0.893, total=   0.1s\n",
      "[CV] activation=logistic, hidden_layer_sizes=1, solver=adam ..........\n"
     ]
    },
    {
     "name": "stderr",
     "output_type": "stream",
     "text": [
      "C:\\Users\\joaog\\Anaconda3\\lib\\site-packages\\sklearn\\neural_network\\_multilayer_perceptron.py:571: ConvergenceWarning: Stochastic Optimizer: Maximum iterations (200) reached and the optimization hasn't converged yet.\n",
      "  % self.max_iter, ConvergenceWarning)\n",
      "C:\\Users\\joaog\\Anaconda3\\lib\\site-packages\\sklearn\\neural_network\\_multilayer_perceptron.py:571: ConvergenceWarning: Stochastic Optimizer: Maximum iterations (200) reached and the optimization hasn't converged yet.\n",
      "  % self.max_iter, ConvergenceWarning)\n"
     ]
    },
    {
     "name": "stdout",
     "output_type": "stream",
     "text": [
      "[CV]  activation=logistic, hidden_layer_sizes=1, solver=adam, score=0.500, total=   0.1s\n",
      "[CV] activation=logistic, hidden_layer_sizes=1, solver=adam ..........\n",
      "[CV]  activation=logistic, hidden_layer_sizes=1, solver=adam, score=0.494, total=   0.1s\n",
      "[CV] activation=logistic, hidden_layer_sizes=1, solver=adam ..........\n"
     ]
    },
    {
     "name": "stderr",
     "output_type": "stream",
     "text": [
      "C:\\Users\\joaog\\Anaconda3\\lib\\site-packages\\sklearn\\neural_network\\_multilayer_perceptron.py:571: ConvergenceWarning: Stochastic Optimizer: Maximum iterations (200) reached and the optimization hasn't converged yet.\n",
      "  % self.max_iter, ConvergenceWarning)\n",
      "C:\\Users\\joaog\\Anaconda3\\lib\\site-packages\\sklearn\\neural_network\\_multilayer_perceptron.py:571: ConvergenceWarning: Stochastic Optimizer: Maximum iterations (200) reached and the optimization hasn't converged yet.\n",
      "  % self.max_iter, ConvergenceWarning)\n"
     ]
    },
    {
     "name": "stdout",
     "output_type": "stream",
     "text": [
      "[CV]  activation=logistic, hidden_layer_sizes=1, solver=adam, score=0.744, total=   0.1s\n",
      "[CV] activation=logistic, hidden_layer_sizes=3, solver=lbfgs .........\n",
      "[CV]  activation=logistic, hidden_layer_sizes=3, solver=lbfgs, score=0.952, total=   0.0s\n",
      "[CV] activation=logistic, hidden_layer_sizes=3, solver=lbfgs .........\n",
      "[CV]  activation=logistic, hidden_layer_sizes=3, solver=lbfgs, score=0.946, total=   0.1s\n",
      "[CV] activation=logistic, hidden_layer_sizes=3, solver=lbfgs .........\n"
     ]
    },
    {
     "name": "stderr",
     "output_type": "stream",
     "text": [
      "C:\\Users\\joaog\\Anaconda3\\lib\\site-packages\\sklearn\\neural_network\\_multilayer_perceptron.py:470: ConvergenceWarning: lbfgs failed to converge (status=1):\n",
      "STOP: TOTAL NO. of ITERATIONS REACHED LIMIT.\n",
      "\n",
      "Increase the number of iterations (max_iter) or scale the data as shown in:\n",
      "    https://scikit-learn.org/stable/modules/preprocessing.html\n",
      "  self.n_iter_ = _check_optimize_result(\"lbfgs\", opt_res, self.max_iter)\n",
      "C:\\Users\\joaog\\Anaconda3\\lib\\site-packages\\sklearn\\neural_network\\_multilayer_perceptron.py:571: ConvergenceWarning: Stochastic Optimizer: Maximum iterations (200) reached and the optimization hasn't converged yet.\n",
      "  % self.max_iter, ConvergenceWarning)\n"
     ]
    },
    {
     "name": "stdout",
     "output_type": "stream",
     "text": [
      "[CV]  activation=logistic, hidden_layer_sizes=3, solver=lbfgs, score=0.899, total=   0.1s\n",
      "[CV] activation=logistic, hidden_layer_sizes=3, solver=sgd ...........\n",
      "[CV]  activation=logistic, hidden_layer_sizes=3, solver=sgd, score=0.911, total=   0.1s\n",
      "[CV] activation=logistic, hidden_layer_sizes=3, solver=sgd ...........\n"
     ]
    },
    {
     "name": "stderr",
     "output_type": "stream",
     "text": [
      "C:\\Users\\joaog\\Anaconda3\\lib\\site-packages\\sklearn\\neural_network\\_multilayer_perceptron.py:571: ConvergenceWarning: Stochastic Optimizer: Maximum iterations (200) reached and the optimization hasn't converged yet.\n",
      "  % self.max_iter, ConvergenceWarning)\n",
      "C:\\Users\\joaog\\Anaconda3\\lib\\site-packages\\sklearn\\neural_network\\_multilayer_perceptron.py:571: ConvergenceWarning: Stochastic Optimizer: Maximum iterations (200) reached and the optimization hasn't converged yet.\n",
      "  % self.max_iter, ConvergenceWarning)\n"
     ]
    },
    {
     "name": "stdout",
     "output_type": "stream",
     "text": [
      "[CV]  activation=logistic, hidden_layer_sizes=3, solver=sgd, score=0.917, total=   0.1s\n",
      "[CV] activation=logistic, hidden_layer_sizes=3, solver=sgd ...........\n",
      "[CV]  activation=logistic, hidden_layer_sizes=3, solver=sgd, score=0.780, total=   0.1s\n",
      "[CV] activation=logistic, hidden_layer_sizes=3, solver=adam ..........\n"
     ]
    },
    {
     "name": "stderr",
     "output_type": "stream",
     "text": [
      "C:\\Users\\joaog\\Anaconda3\\lib\\site-packages\\sklearn\\neural_network\\_multilayer_perceptron.py:571: ConvergenceWarning: Stochastic Optimizer: Maximum iterations (200) reached and the optimization hasn't converged yet.\n",
      "  % self.max_iter, ConvergenceWarning)\n",
      "C:\\Users\\joaog\\Anaconda3\\lib\\site-packages\\sklearn\\neural_network\\_multilayer_perceptron.py:571: ConvergenceWarning: Stochastic Optimizer: Maximum iterations (200) reached and the optimization hasn't converged yet.\n",
      "  % self.max_iter, ConvergenceWarning)\n"
     ]
    },
    {
     "name": "stdout",
     "output_type": "stream",
     "text": [
      "[CV]  activation=logistic, hidden_layer_sizes=3, solver=adam, score=0.863, total=   0.1s\n",
      "[CV] activation=logistic, hidden_layer_sizes=3, solver=adam ..........\n",
      "[CV]  activation=logistic, hidden_layer_sizes=3, solver=adam, score=0.506, total=   0.1s\n",
      "[CV] activation=logistic, hidden_layer_sizes=3, solver=adam ..........\n"
     ]
    },
    {
     "name": "stderr",
     "output_type": "stream",
     "text": [
      "C:\\Users\\joaog\\Anaconda3\\lib\\site-packages\\sklearn\\neural_network\\_multilayer_perceptron.py:571: ConvergenceWarning: Stochastic Optimizer: Maximum iterations (200) reached and the optimization hasn't converged yet.\n",
      "  % self.max_iter, ConvergenceWarning)\n",
      "C:\\Users\\joaog\\Anaconda3\\lib\\site-packages\\sklearn\\neural_network\\_multilayer_perceptron.py:470: ConvergenceWarning: lbfgs failed to converge (status=1):\n",
      "STOP: TOTAL NO. of ITERATIONS REACHED LIMIT.\n",
      "\n",
      "Increase the number of iterations (max_iter) or scale the data as shown in:\n",
      "    https://scikit-learn.org/stable/modules/preprocessing.html\n",
      "  self.n_iter_ = _check_optimize_result(\"lbfgs\", opt_res, self.max_iter)\n"
     ]
    },
    {
     "name": "stdout",
     "output_type": "stream",
     "text": [
      "[CV]  activation=logistic, hidden_layer_sizes=3, solver=adam, score=0.792, total=   0.1s\n",
      "[CV] activation=logistic, hidden_layer_sizes=5, solver=lbfgs .........\n",
      "[CV]  activation=logistic, hidden_layer_sizes=5, solver=lbfgs, score=0.923, total=   0.0s\n",
      "[CV] activation=logistic, hidden_layer_sizes=5, solver=lbfgs .........\n",
      "[CV]  activation=logistic, hidden_layer_sizes=5, solver=lbfgs, score=0.976, total=   0.1s\n",
      "[CV] activation=logistic, hidden_layer_sizes=5, solver=lbfgs .........\n",
      "[CV]  activation=logistic, hidden_layer_sizes=5, solver=lbfgs, score=0.929, total=   0.0s\n",
      "[CV] activation=logistic, hidden_layer_sizes=5, solver=sgd ...........\n"
     ]
    },
    {
     "name": "stderr",
     "output_type": "stream",
     "text": [
      "C:\\Users\\joaog\\Anaconda3\\lib\\site-packages\\sklearn\\neural_network\\_multilayer_perceptron.py:571: ConvergenceWarning: Stochastic Optimizer: Maximum iterations (200) reached and the optimization hasn't converged yet.\n",
      "  % self.max_iter, ConvergenceWarning)\n",
      "C:\\Users\\joaog\\Anaconda3\\lib\\site-packages\\sklearn\\neural_network\\_multilayer_perceptron.py:571: ConvergenceWarning: Stochastic Optimizer: Maximum iterations (200) reached and the optimization hasn't converged yet.\n",
      "  % self.max_iter, ConvergenceWarning)\n"
     ]
    },
    {
     "name": "stdout",
     "output_type": "stream",
     "text": [
      "[CV]  activation=logistic, hidden_layer_sizes=5, solver=sgd, score=0.917, total=   0.2s\n",
      "[CV] activation=logistic, hidden_layer_sizes=5, solver=sgd ...........\n",
      "[CV]  activation=logistic, hidden_layer_sizes=5, solver=sgd, score=0.804, total=   0.1s\n",
      "[CV] activation=logistic, hidden_layer_sizes=5, solver=sgd ...........\n"
     ]
    },
    {
     "name": "stderr",
     "output_type": "stream",
     "text": [
      "C:\\Users\\joaog\\Anaconda3\\lib\\site-packages\\sklearn\\neural_network\\_multilayer_perceptron.py:571: ConvergenceWarning: Stochastic Optimizer: Maximum iterations (200) reached and the optimization hasn't converged yet.\n",
      "  % self.max_iter, ConvergenceWarning)\n",
      "C:\\Users\\joaog\\Anaconda3\\lib\\site-packages\\sklearn\\neural_network\\_multilayer_perceptron.py:571: ConvergenceWarning: Stochastic Optimizer: Maximum iterations (200) reached and the optimization hasn't converged yet.\n",
      "  % self.max_iter, ConvergenceWarning)\n"
     ]
    },
    {
     "name": "stdout",
     "output_type": "stream",
     "text": [
      "[CV]  activation=logistic, hidden_layer_sizes=5, solver=sgd, score=0.851, total=   0.1s\n",
      "[CV] activation=logistic, hidden_layer_sizes=5, solver=adam ..........\n",
      "[CV]  activation=logistic, hidden_layer_sizes=5, solver=adam, score=0.893, total=   0.1s\n",
      "[CV] activation=logistic, hidden_layer_sizes=5, solver=adam ..........\n"
     ]
    },
    {
     "name": "stderr",
     "output_type": "stream",
     "text": [
      "C:\\Users\\joaog\\Anaconda3\\lib\\site-packages\\sklearn\\neural_network\\_multilayer_perceptron.py:571: ConvergenceWarning: Stochastic Optimizer: Maximum iterations (200) reached and the optimization hasn't converged yet.\n",
      "  % self.max_iter, ConvergenceWarning)\n",
      "C:\\Users\\joaog\\Anaconda3\\lib\\site-packages\\sklearn\\neural_network\\_multilayer_perceptron.py:571: ConvergenceWarning: Stochastic Optimizer: Maximum iterations (200) reached and the optimization hasn't converged yet.\n",
      "  % self.max_iter, ConvergenceWarning)\n"
     ]
    },
    {
     "name": "stdout",
     "output_type": "stream",
     "text": [
      "[CV]  activation=logistic, hidden_layer_sizes=5, solver=adam, score=0.923, total=   0.1s\n",
      "[CV] activation=logistic, hidden_layer_sizes=5, solver=adam ..........\n",
      "[CV]  activation=logistic, hidden_layer_sizes=5, solver=adam, score=0.798, total=   0.1s\n",
      "[CV] activation=logistic, hidden_layer_sizes=9, solver=lbfgs .........\n",
      "[CV]  activation=logistic, hidden_layer_sizes=9, solver=lbfgs, score=0.940, total=   0.0s\n",
      "[CV] activation=logistic, hidden_layer_sizes=9, solver=lbfgs .........\n",
      "[CV]  activation=logistic, hidden_layer_sizes=9, solver=lbfgs, score=0.952, total=   0.0s\n",
      "[CV] activation=logistic, hidden_layer_sizes=9, solver=lbfgs .........\n",
      "[CV]  activation=logistic, hidden_layer_sizes=9, solver=lbfgs, score=0.911, total=   0.0s\n",
      "[CV] activation=logistic, hidden_layer_sizes=9, solver=sgd ...........\n"
     ]
    },
    {
     "name": "stderr",
     "output_type": "stream",
     "text": [
      "C:\\Users\\joaog\\Anaconda3\\lib\\site-packages\\sklearn\\neural_network\\_multilayer_perceptron.py:571: ConvergenceWarning: Stochastic Optimizer: Maximum iterations (200) reached and the optimization hasn't converged yet.\n",
      "  % self.max_iter, ConvergenceWarning)\n",
      "C:\\Users\\joaog\\Anaconda3\\lib\\site-packages\\sklearn\\neural_network\\_multilayer_perceptron.py:571: ConvergenceWarning: Stochastic Optimizer: Maximum iterations (200) reached and the optimization hasn't converged yet.\n",
      "  % self.max_iter, ConvergenceWarning)\n"
     ]
    },
    {
     "name": "stdout",
     "output_type": "stream",
     "text": [
      "[CV]  activation=logistic, hidden_layer_sizes=9, solver=sgd, score=0.905, total=   0.1s\n",
      "[CV] activation=logistic, hidden_layer_sizes=9, solver=sgd ...........\n",
      "[CV]  activation=logistic, hidden_layer_sizes=9, solver=sgd, score=0.917, total=   0.1s\n",
      "[CV] activation=logistic, hidden_layer_sizes=9, solver=sgd ...........\n"
     ]
    },
    {
     "name": "stderr",
     "output_type": "stream",
     "text": [
      "C:\\Users\\joaog\\Anaconda3\\lib\\site-packages\\sklearn\\neural_network\\_multilayer_perceptron.py:571: ConvergenceWarning: Stochastic Optimizer: Maximum iterations (200) reached and the optimization hasn't converged yet.\n",
      "  % self.max_iter, ConvergenceWarning)\n",
      "C:\\Users\\joaog\\Anaconda3\\lib\\site-packages\\sklearn\\neural_network\\_multilayer_perceptron.py:571: ConvergenceWarning: Stochastic Optimizer: Maximum iterations (200) reached and the optimization hasn't converged yet.\n",
      "  % self.max_iter, ConvergenceWarning)\n"
     ]
    },
    {
     "name": "stdout",
     "output_type": "stream",
     "text": [
      "[CV]  activation=logistic, hidden_layer_sizes=9, solver=sgd, score=0.893, total=   0.1s\n",
      "[CV] activation=logistic, hidden_layer_sizes=9, solver=adam ..........\n",
      "[CV]  activation=logistic, hidden_layer_sizes=9, solver=adam, score=0.911, total=   0.1s\n",
      "[CV] activation=logistic, hidden_layer_sizes=9, solver=adam ..........\n"
     ]
    },
    {
     "name": "stderr",
     "output_type": "stream",
     "text": [
      "C:\\Users\\joaog\\Anaconda3\\lib\\site-packages\\sklearn\\neural_network\\_multilayer_perceptron.py:571: ConvergenceWarning: Stochastic Optimizer: Maximum iterations (200) reached and the optimization hasn't converged yet.\n",
      "  % self.max_iter, ConvergenceWarning)\n",
      "C:\\Users\\joaog\\Anaconda3\\lib\\site-packages\\sklearn\\neural_network\\_multilayer_perceptron.py:571: ConvergenceWarning: Stochastic Optimizer: Maximum iterations (200) reached and the optimization hasn't converged yet.\n",
      "  % self.max_iter, ConvergenceWarning)\n"
     ]
    },
    {
     "name": "stdout",
     "output_type": "stream",
     "text": [
      "[CV]  activation=logistic, hidden_layer_sizes=9, solver=adam, score=0.929, total=   0.1s\n",
      "[CV] activation=logistic, hidden_layer_sizes=9, solver=adam ..........\n",
      "[CV]  activation=logistic, hidden_layer_sizes=9, solver=adam, score=0.851, total=   0.1s\n",
      "[CV] activation=logistic, hidden_layer_sizes=13, solver=lbfgs ........\n",
      "[CV]  activation=logistic, hidden_layer_sizes=13, solver=lbfgs, score=0.935, total=   0.0s\n",
      "[CV] activation=logistic, hidden_layer_sizes=13, solver=lbfgs ........\n",
      "[CV]  activation=logistic, hidden_layer_sizes=13, solver=lbfgs, score=0.946, total=   0.1s\n",
      "[CV] activation=logistic, hidden_layer_sizes=13, solver=lbfgs ........\n",
      "[CV]  activation=logistic, hidden_layer_sizes=13, solver=lbfgs, score=0.911, total=   0.0s\n",
      "[CV] activation=logistic, hidden_layer_sizes=13, solver=sgd ..........\n",
      "[CV]  activation=logistic, hidden_layer_sizes=13, solver=sgd, score=0.905, total=   0.1s\n",
      "[CV] activation=logistic, hidden_layer_sizes=13, solver=sgd ..........\n"
     ]
    },
    {
     "name": "stderr",
     "output_type": "stream",
     "text": [
      "C:\\Users\\joaog\\Anaconda3\\lib\\site-packages\\sklearn\\neural_network\\_multilayer_perceptron.py:571: ConvergenceWarning: Stochastic Optimizer: Maximum iterations (200) reached and the optimization hasn't converged yet.\n",
      "  % self.max_iter, ConvergenceWarning)\n",
      "C:\\Users\\joaog\\Anaconda3\\lib\\site-packages\\sklearn\\neural_network\\_multilayer_perceptron.py:571: ConvergenceWarning: Stochastic Optimizer: Maximum iterations (200) reached and the optimization hasn't converged yet.\n",
      "  % self.max_iter, ConvergenceWarning)\n"
     ]
    },
    {
     "name": "stdout",
     "output_type": "stream",
     "text": [
      "[CV]  activation=logistic, hidden_layer_sizes=13, solver=sgd, score=0.911, total=   0.1s\n",
      "[CV] activation=logistic, hidden_layer_sizes=13, solver=sgd ..........\n",
      "[CV]  activation=logistic, hidden_layer_sizes=13, solver=sgd, score=0.756, total=   0.1s\n",
      "[CV] activation=logistic, hidden_layer_sizes=13, solver=adam .........\n"
     ]
    },
    {
     "name": "stderr",
     "output_type": "stream",
     "text": [
      "C:\\Users\\joaog\\Anaconda3\\lib\\site-packages\\sklearn\\neural_network\\_multilayer_perceptron.py:571: ConvergenceWarning: Stochastic Optimizer: Maximum iterations (200) reached and the optimization hasn't converged yet.\n",
      "  % self.max_iter, ConvergenceWarning)\n",
      "C:\\Users\\joaog\\Anaconda3\\lib\\site-packages\\sklearn\\neural_network\\_multilayer_perceptron.py:571: ConvergenceWarning: Stochastic Optimizer: Maximum iterations (200) reached and the optimization hasn't converged yet.\n",
      "  % self.max_iter, ConvergenceWarning)\n"
     ]
    },
    {
     "name": "stdout",
     "output_type": "stream",
     "text": [
      "[CV]  activation=logistic, hidden_layer_sizes=13, solver=adam, score=0.911, total=   0.1s\n",
      "[CV] activation=logistic, hidden_layer_sizes=13, solver=adam .........\n",
      "[CV]  activation=logistic, hidden_layer_sizes=13, solver=adam, score=0.923, total=   0.1s\n",
      "[CV] activation=logistic, hidden_layer_sizes=13, solver=adam .........\n"
     ]
    },
    {
     "name": "stderr",
     "output_type": "stream",
     "text": [
      "C:\\Users\\joaog\\Anaconda3\\lib\\site-packages\\sklearn\\neural_network\\_multilayer_perceptron.py:571: ConvergenceWarning: Stochastic Optimizer: Maximum iterations (200) reached and the optimization hasn't converged yet.\n",
      "  % self.max_iter, ConvergenceWarning)\n",
      "C:\\Users\\joaog\\Anaconda3\\lib\\site-packages\\sklearn\\neural_network\\_multilayer_perceptron.py:571: ConvergenceWarning: Stochastic Optimizer: Maximum iterations (200) reached and the optimization hasn't converged yet.\n",
      "  % self.max_iter, ConvergenceWarning)\n"
     ]
    },
    {
     "name": "stdout",
     "output_type": "stream",
     "text": [
      "[CV]  activation=logistic, hidden_layer_sizes=13, solver=adam, score=0.857, total=   0.1s\n",
      "[CV] activation=logistic, hidden_layer_sizes=18, solver=lbfgs ........\n",
      "[CV]  activation=logistic, hidden_layer_sizes=18, solver=lbfgs, score=0.952, total=   0.0s\n",
      "[CV] activation=logistic, hidden_layer_sizes=18, solver=lbfgs ........\n",
      "[CV]  activation=logistic, hidden_layer_sizes=18, solver=lbfgs, score=0.952, total=   0.0s\n",
      "[CV] activation=logistic, hidden_layer_sizes=18, solver=lbfgs ........\n",
      "[CV]  activation=logistic, hidden_layer_sizes=18, solver=lbfgs, score=0.929, total=   0.0s\n",
      "[CV] activation=logistic, hidden_layer_sizes=18, solver=sgd ..........\n"
     ]
    },
    {
     "name": "stderr",
     "output_type": "stream",
     "text": [
      "C:\\Users\\joaog\\Anaconda3\\lib\\site-packages\\sklearn\\neural_network\\_multilayer_perceptron.py:571: ConvergenceWarning: Stochastic Optimizer: Maximum iterations (200) reached and the optimization hasn't converged yet.\n",
      "  % self.max_iter, ConvergenceWarning)\n",
      "C:\\Users\\joaog\\Anaconda3\\lib\\site-packages\\sklearn\\neural_network\\_multilayer_perceptron.py:571: ConvergenceWarning: Stochastic Optimizer: Maximum iterations (200) reached and the optimization hasn't converged yet.\n",
      "  % self.max_iter, ConvergenceWarning)\n"
     ]
    },
    {
     "name": "stdout",
     "output_type": "stream",
     "text": [
      "[CV]  activation=logistic, hidden_layer_sizes=18, solver=sgd, score=0.923, total=   0.2s\n",
      "[CV] activation=logistic, hidden_layer_sizes=18, solver=sgd ..........\n",
      "[CV]  activation=logistic, hidden_layer_sizes=18, solver=sgd, score=0.917, total=   0.2s\n",
      "[CV] activation=logistic, hidden_layer_sizes=18, solver=sgd ..........\n"
     ]
    },
    {
     "name": "stderr",
     "output_type": "stream",
     "text": [
      "C:\\Users\\joaog\\Anaconda3\\lib\\site-packages\\sklearn\\neural_network\\_multilayer_perceptron.py:571: ConvergenceWarning: Stochastic Optimizer: Maximum iterations (200) reached and the optimization hasn't converged yet.\n",
      "  % self.max_iter, ConvergenceWarning)\n",
      "C:\\Users\\joaog\\Anaconda3\\lib\\site-packages\\sklearn\\neural_network\\_multilayer_perceptron.py:571: ConvergenceWarning: Stochastic Optimizer: Maximum iterations (200) reached and the optimization hasn't converged yet.\n",
      "  % self.max_iter, ConvergenceWarning)\n"
     ]
    },
    {
     "name": "stdout",
     "output_type": "stream",
     "text": [
      "[CV]  activation=logistic, hidden_layer_sizes=18, solver=sgd, score=0.839, total=   0.2s\n",
      "[CV] activation=logistic, hidden_layer_sizes=18, solver=adam .........\n"
     ]
    },
    {
     "name": "stderr",
     "output_type": "stream",
     "text": [
      "C:\\Users\\joaog\\Anaconda3\\lib\\site-packages\\sklearn\\neural_network\\_multilayer_perceptron.py:571: ConvergenceWarning: Stochastic Optimizer: Maximum iterations (200) reached and the optimization hasn't converged yet.\n",
      "  % self.max_iter, ConvergenceWarning)\n"
     ]
    },
    {
     "name": "stdout",
     "output_type": "stream",
     "text": [
      "[CV]  activation=logistic, hidden_layer_sizes=18, solver=adam, score=0.911, total=   0.2s\n",
      "[CV] activation=logistic, hidden_layer_sizes=18, solver=adam .........\n"
     ]
    },
    {
     "name": "stderr",
     "output_type": "stream",
     "text": [
      "C:\\Users\\joaog\\Anaconda3\\lib\\site-packages\\sklearn\\neural_network\\_multilayer_perceptron.py:571: ConvergenceWarning: Stochastic Optimizer: Maximum iterations (200) reached and the optimization hasn't converged yet.\n",
      "  % self.max_iter, ConvergenceWarning)\n"
     ]
    },
    {
     "name": "stdout",
     "output_type": "stream",
     "text": [
      "[CV]  activation=logistic, hidden_layer_sizes=18, solver=adam, score=0.923, total=   0.2s\n",
      "[CV] activation=logistic, hidden_layer_sizes=18, solver=adam .........\n",
      "[CV]  activation=logistic, hidden_layer_sizes=18, solver=adam, score=0.845, total=   0.2s\n",
      "[CV] activation=logistic, hidden_layer_sizes=20, solver=lbfgs ........\n",
      "[CV]  activation=logistic, hidden_layer_sizes=20, solver=lbfgs, score=0.958, total=   0.0s\n",
      "[CV] activation=logistic, hidden_layer_sizes=20, solver=lbfgs ........\n",
      "[CV]  activation=logistic, hidden_layer_sizes=20, solver=lbfgs, score=0.952, total=   0.0s\n",
      "[CV] activation=logistic, hidden_layer_sizes=20, solver=lbfgs ........\n",
      "[CV]  activation=logistic, hidden_layer_sizes=20, solver=lbfgs, score=0.917, total=   0.0s\n",
      "[CV] activation=logistic, hidden_layer_sizes=20, solver=sgd ..........\n"
     ]
    },
    {
     "name": "stderr",
     "output_type": "stream",
     "text": [
      "C:\\Users\\joaog\\Anaconda3\\lib\\site-packages\\sklearn\\neural_network\\_multilayer_perceptron.py:571: ConvergenceWarning: Stochastic Optimizer: Maximum iterations (200) reached and the optimization hasn't converged yet.\n",
      "  % self.max_iter, ConvergenceWarning)\n",
      "C:\\Users\\joaog\\Anaconda3\\lib\\site-packages\\sklearn\\neural_network\\_multilayer_perceptron.py:571: ConvergenceWarning: Stochastic Optimizer: Maximum iterations (200) reached and the optimization hasn't converged yet.\n",
      "  % self.max_iter, ConvergenceWarning)\n"
     ]
    },
    {
     "name": "stdout",
     "output_type": "stream",
     "text": [
      "[CV]  activation=logistic, hidden_layer_sizes=20, solver=sgd, score=0.911, total=   0.2s\n",
      "[CV] activation=logistic, hidden_layer_sizes=20, solver=sgd ..........\n",
      "[CV]  activation=logistic, hidden_layer_sizes=20, solver=sgd, score=0.887, total=   0.2s\n",
      "[CV] activation=logistic, hidden_layer_sizes=20, solver=sgd ..........\n"
     ]
    },
    {
     "name": "stderr",
     "output_type": "stream",
     "text": [
      "C:\\Users\\joaog\\Anaconda3\\lib\\site-packages\\sklearn\\neural_network\\_multilayer_perceptron.py:571: ConvergenceWarning: Stochastic Optimizer: Maximum iterations (200) reached and the optimization hasn't converged yet.\n",
      "  % self.max_iter, ConvergenceWarning)\n"
     ]
    },
    {
     "name": "stdout",
     "output_type": "stream",
     "text": [
      "[CV]  activation=logistic, hidden_layer_sizes=20, solver=sgd, score=0.833, total=   0.2s\n",
      "[CV] activation=logistic, hidden_layer_sizes=20, solver=adam .........\n"
     ]
    },
    {
     "name": "stderr",
     "output_type": "stream",
     "text": [
      "C:\\Users\\joaog\\Anaconda3\\lib\\site-packages\\sklearn\\neural_network\\_multilayer_perceptron.py:571: ConvergenceWarning: Stochastic Optimizer: Maximum iterations (200) reached and the optimization hasn't converged yet.\n",
      "  % self.max_iter, ConvergenceWarning)\n",
      "C:\\Users\\joaog\\Anaconda3\\lib\\site-packages\\sklearn\\neural_network\\_multilayer_perceptron.py:571: ConvergenceWarning: Stochastic Optimizer: Maximum iterations (200) reached and the optimization hasn't converged yet.\n",
      "  % self.max_iter, ConvergenceWarning)\n"
     ]
    },
    {
     "name": "stdout",
     "output_type": "stream",
     "text": [
      "[CV]  activation=logistic, hidden_layer_sizes=20, solver=adam, score=0.911, total=   0.2s\n",
      "[CV] activation=logistic, hidden_layer_sizes=20, solver=adam .........\n",
      "[CV]  activation=logistic, hidden_layer_sizes=20, solver=adam, score=0.929, total=   0.2s\n",
      "[CV] activation=logistic, hidden_layer_sizes=20, solver=adam .........\n"
     ]
    },
    {
     "name": "stderr",
     "output_type": "stream",
     "text": [
      "C:\\Users\\joaog\\Anaconda3\\lib\\site-packages\\sklearn\\neural_network\\_multilayer_perceptron.py:571: ConvergenceWarning: Stochastic Optimizer: Maximum iterations (200) reached and the optimization hasn't converged yet.\n",
      "  % self.max_iter, ConvergenceWarning)\n",
      "C:\\Users\\joaog\\Anaconda3\\lib\\site-packages\\sklearn\\neural_network\\_multilayer_perceptron.py:571: ConvergenceWarning: Stochastic Optimizer: Maximum iterations (200) reached and the optimization hasn't converged yet.\n",
      "  % self.max_iter, ConvergenceWarning)\n"
     ]
    },
    {
     "name": "stdout",
     "output_type": "stream",
     "text": [
      "[CV]  activation=logistic, hidden_layer_sizes=20, solver=adam, score=0.851, total=   0.2s\n",
      "[CV] activation=tanh, hidden_layer_sizes=1, solver=lbfgs .............\n",
      "[CV]  activation=tanh, hidden_layer_sizes=1, solver=lbfgs, score=0.917, total=   0.0s\n",
      "[CV] activation=tanh, hidden_layer_sizes=1, solver=lbfgs .............\n",
      "[CV]  activation=tanh, hidden_layer_sizes=1, solver=lbfgs, score=0.958, total=   0.0s\n",
      "[CV] activation=tanh, hidden_layer_sizes=1, solver=lbfgs .............\n",
      "[CV]  activation=tanh, hidden_layer_sizes=1, solver=lbfgs, score=0.911, total=   0.0s\n",
      "[CV] activation=tanh, hidden_layer_sizes=1, solver=sgd ...............\n",
      "[CV]  activation=tanh, hidden_layer_sizes=1, solver=sgd, score=0.935, total=   0.1s\n",
      "[CV] activation=tanh, hidden_layer_sizes=1, solver=sgd ...............\n",
      "[CV]  activation=tanh, hidden_layer_sizes=1, solver=sgd, score=0.917, total=   0.1s\n",
      "[CV] activation=tanh, hidden_layer_sizes=1, solver=sgd ...............\n"
     ]
    },
    {
     "name": "stderr",
     "output_type": "stream",
     "text": [
      "C:\\Users\\joaog\\Anaconda3\\lib\\site-packages\\sklearn\\neural_network\\_multilayer_perceptron.py:571: ConvergenceWarning: Stochastic Optimizer: Maximum iterations (200) reached and the optimization hasn't converged yet.\n",
      "  % self.max_iter, ConvergenceWarning)\n",
      "C:\\Users\\joaog\\Anaconda3\\lib\\site-packages\\sklearn\\neural_network\\_multilayer_perceptron.py:571: ConvergenceWarning: Stochastic Optimizer: Maximum iterations (200) reached and the optimization hasn't converged yet.\n",
      "  % self.max_iter, ConvergenceWarning)\n"
     ]
    },
    {
     "name": "stdout",
     "output_type": "stream",
     "text": [
      "[CV]  activation=tanh, hidden_layer_sizes=1, solver=sgd, score=0.744, total=   0.1s\n",
      "[CV] activation=tanh, hidden_layer_sizes=1, solver=adam ..............\n",
      "[CV]  activation=tanh, hidden_layer_sizes=1, solver=adam, score=0.863, total=   0.1s\n",
      "[CV] activation=tanh, hidden_layer_sizes=1, solver=adam ..............\n"
     ]
    },
    {
     "name": "stderr",
     "output_type": "stream",
     "text": [
      "C:\\Users\\joaog\\Anaconda3\\lib\\site-packages\\sklearn\\neural_network\\_multilayer_perceptron.py:571: ConvergenceWarning: Stochastic Optimizer: Maximum iterations (200) reached and the optimization hasn't converged yet.\n",
      "  % self.max_iter, ConvergenceWarning)\n",
      "C:\\Users\\joaog\\Anaconda3\\lib\\site-packages\\sklearn\\neural_network\\_multilayer_perceptron.py:571: ConvergenceWarning: Stochastic Optimizer: Maximum iterations (200) reached and the optimization hasn't converged yet.\n",
      "  % self.max_iter, ConvergenceWarning)\n"
     ]
    },
    {
     "name": "stdout",
     "output_type": "stream",
     "text": [
      "[CV]  activation=tanh, hidden_layer_sizes=1, solver=adam, score=0.506, total=   0.1s\n",
      "[CV] activation=tanh, hidden_layer_sizes=1, solver=adam ..............\n",
      "[CV]  activation=tanh, hidden_layer_sizes=1, solver=adam, score=0.690, total=   0.1s\n",
      "[CV] activation=tanh, hidden_layer_sizes=3, solver=lbfgs .............\n",
      "[CV]  activation=tanh, hidden_layer_sizes=3, solver=lbfgs, score=0.940, total=   0.1s\n",
      "[CV] activation=tanh, hidden_layer_sizes=3, solver=lbfgs .............\n"
     ]
    },
    {
     "name": "stderr",
     "output_type": "stream",
     "text": [
      "C:\\Users\\joaog\\Anaconda3\\lib\\site-packages\\sklearn\\neural_network\\_multilayer_perceptron.py:571: ConvergenceWarning: Stochastic Optimizer: Maximum iterations (200) reached and the optimization hasn't converged yet.\n",
      "  % self.max_iter, ConvergenceWarning)\n"
     ]
    },
    {
     "name": "stdout",
     "output_type": "stream",
     "text": [
      "[CV]  activation=tanh, hidden_layer_sizes=3, solver=lbfgs, score=0.964, total=   0.1s\n",
      "[CV] activation=tanh, hidden_layer_sizes=3, solver=lbfgs .............\n",
      "[CV]  activation=tanh, hidden_layer_sizes=3, solver=lbfgs, score=0.911, total=   0.0s\n",
      "[CV] activation=tanh, hidden_layer_sizes=3, solver=sgd ...............\n",
      "[CV]  activation=tanh, hidden_layer_sizes=3, solver=sgd, score=0.905, total=   0.1s\n",
      "[CV] activation=tanh, hidden_layer_sizes=3, solver=sgd ...............\n"
     ]
    },
    {
     "name": "stderr",
     "output_type": "stream",
     "text": [
      "C:\\Users\\joaog\\Anaconda3\\lib\\site-packages\\sklearn\\neural_network\\_multilayer_perceptron.py:571: ConvergenceWarning: Stochastic Optimizer: Maximum iterations (200) reached and the optimization hasn't converged yet.\n",
      "  % self.max_iter, ConvergenceWarning)\n",
      "C:\\Users\\joaog\\Anaconda3\\lib\\site-packages\\sklearn\\neural_network\\_multilayer_perceptron.py:571: ConvergenceWarning: Stochastic Optimizer: Maximum iterations (200) reached and the optimization hasn't converged yet.\n",
      "  % self.max_iter, ConvergenceWarning)\n"
     ]
    },
    {
     "name": "stdout",
     "output_type": "stream",
     "text": [
      "[CV]  activation=tanh, hidden_layer_sizes=3, solver=sgd, score=0.940, total=   0.1s\n",
      "[CV] activation=tanh, hidden_layer_sizes=3, solver=sgd ...............\n",
      "[CV]  activation=tanh, hidden_layer_sizes=3, solver=sgd, score=0.863, total=   0.1s\n",
      "[CV] activation=tanh, hidden_layer_sizes=3, solver=adam ..............\n"
     ]
    },
    {
     "name": "stderr",
     "output_type": "stream",
     "text": [
      "C:\\Users\\joaog\\Anaconda3\\lib\\site-packages\\sklearn\\neural_network\\_multilayer_perceptron.py:571: ConvergenceWarning: Stochastic Optimizer: Maximum iterations (200) reached and the optimization hasn't converged yet.\n",
      "  % self.max_iter, ConvergenceWarning)\n",
      "C:\\Users\\joaog\\Anaconda3\\lib\\site-packages\\sklearn\\neural_network\\_multilayer_perceptron.py:571: ConvergenceWarning: Stochastic Optimizer: Maximum iterations (200) reached and the optimization hasn't converged yet.\n",
      "  % self.max_iter, ConvergenceWarning)\n"
     ]
    },
    {
     "name": "stdout",
     "output_type": "stream",
     "text": [
      "[CV]  activation=tanh, hidden_layer_sizes=3, solver=adam, score=0.911, total=   0.1s\n",
      "[CV] activation=tanh, hidden_layer_sizes=3, solver=adam ..............\n",
      "[CV]  activation=tanh, hidden_layer_sizes=3, solver=adam, score=0.935, total=   0.1s\n",
      "[CV] activation=tanh, hidden_layer_sizes=3, solver=adam ..............\n"
     ]
    },
    {
     "name": "stderr",
     "output_type": "stream",
     "text": [
      "C:\\Users\\joaog\\Anaconda3\\lib\\site-packages\\sklearn\\neural_network\\_multilayer_perceptron.py:571: ConvergenceWarning: Stochastic Optimizer: Maximum iterations (200) reached and the optimization hasn't converged yet.\n",
      "  % self.max_iter, ConvergenceWarning)\n",
      "C:\\Users\\joaog\\Anaconda3\\lib\\site-packages\\sklearn\\neural_network\\_multilayer_perceptron.py:571: ConvergenceWarning: Stochastic Optimizer: Maximum iterations (200) reached and the optimization hasn't converged yet.\n",
      "  % self.max_iter, ConvergenceWarning)\n"
     ]
    },
    {
     "name": "stdout",
     "output_type": "stream",
     "text": [
      "[CV]  activation=tanh, hidden_layer_sizes=3, solver=adam, score=0.851, total=   0.1s\n",
      "[CV] activation=tanh, hidden_layer_sizes=5, solver=lbfgs .............\n",
      "[CV]  activation=tanh, hidden_layer_sizes=5, solver=lbfgs, score=0.935, total=   0.0s\n",
      "[CV] activation=tanh, hidden_layer_sizes=5, solver=lbfgs .............\n",
      "[CV]  activation=tanh, hidden_layer_sizes=5, solver=lbfgs, score=0.940, total=   0.1s\n",
      "[CV] activation=tanh, hidden_layer_sizes=5, solver=lbfgs .............\n",
      "[CV]  activation=tanh, hidden_layer_sizes=5, solver=lbfgs, score=0.905, total=   0.1s"
     ]
    },
    {
     "name": "stderr",
     "output_type": "stream",
     "text": [
      "C:\\Users\\joaog\\Anaconda3\\lib\\site-packages\\sklearn\\neural_network\\_multilayer_perceptron.py:470: ConvergenceWarning: lbfgs failed to converge (status=1):\n",
      "STOP: TOTAL NO. of ITERATIONS REACHED LIMIT.\n",
      "\n",
      "Increase the number of iterations (max_iter) or scale the data as shown in:\n",
      "    https://scikit-learn.org/stable/modules/preprocessing.html\n",
      "  self.n_iter_ = _check_optimize_result(\"lbfgs\", opt_res, self.max_iter)\n",
      "C:\\Users\\joaog\\Anaconda3\\lib\\site-packages\\sklearn\\neural_network\\_multilayer_perceptron.py:571: ConvergenceWarning: Stochastic Optimizer: Maximum iterations (200) reached and the optimization hasn't converged yet.\n",
      "  % self.max_iter, ConvergenceWarning)\n"
     ]
    },
    {
     "name": "stdout",
     "output_type": "stream",
     "text": [
      "\n",
      "[CV] activation=tanh, hidden_layer_sizes=5, solver=sgd ...............\n",
      "[CV]  activation=tanh, hidden_layer_sizes=5, solver=sgd, score=0.911, total=   0.1s\n",
      "[CV] activation=tanh, hidden_layer_sizes=5, solver=sgd ...............\n"
     ]
    },
    {
     "name": "stderr",
     "output_type": "stream",
     "text": [
      "C:\\Users\\joaog\\Anaconda3\\lib\\site-packages\\sklearn\\neural_network\\_multilayer_perceptron.py:571: ConvergenceWarning: Stochastic Optimizer: Maximum iterations (200) reached and the optimization hasn't converged yet.\n",
      "  % self.max_iter, ConvergenceWarning)\n"
     ]
    },
    {
     "name": "stdout",
     "output_type": "stream",
     "text": [
      "[CV]  activation=tanh, hidden_layer_sizes=5, solver=sgd, score=0.911, total=   0.1s\n",
      "[CV] activation=tanh, hidden_layer_sizes=5, solver=sgd ...............\n",
      "[CV]  activation=tanh, hidden_layer_sizes=5, solver=sgd, score=0.881, total=   0.1s\n",
      "[CV] activation=tanh, hidden_layer_sizes=5, solver=adam ..............\n"
     ]
    },
    {
     "name": "stderr",
     "output_type": "stream",
     "text": [
      "C:\\Users\\joaog\\Anaconda3\\lib\\site-packages\\sklearn\\neural_network\\_multilayer_perceptron.py:571: ConvergenceWarning: Stochastic Optimizer: Maximum iterations (200) reached and the optimization hasn't converged yet.\n",
      "  % self.max_iter, ConvergenceWarning)\n",
      "C:\\Users\\joaog\\Anaconda3\\lib\\site-packages\\sklearn\\neural_network\\_multilayer_perceptron.py:571: ConvergenceWarning: Stochastic Optimizer: Maximum iterations (200) reached and the optimization hasn't converged yet.\n",
      "  % self.max_iter, ConvergenceWarning)\n"
     ]
    },
    {
     "name": "stdout",
     "output_type": "stream",
     "text": [
      "[CV]  activation=tanh, hidden_layer_sizes=5, solver=adam, score=0.917, total=   0.1s\n",
      "[CV] activation=tanh, hidden_layer_sizes=5, solver=adam ..............\n",
      "[CV]  activation=tanh, hidden_layer_sizes=5, solver=adam, score=0.929, total=   0.1s\n",
      "[CV] activation=tanh, hidden_layer_sizes=5, solver=adam ..............\n"
     ]
    },
    {
     "name": "stderr",
     "output_type": "stream",
     "text": [
      "C:\\Users\\joaog\\Anaconda3\\lib\\site-packages\\sklearn\\neural_network\\_multilayer_perceptron.py:571: ConvergenceWarning: Stochastic Optimizer: Maximum iterations (200) reached and the optimization hasn't converged yet.\n",
      "  % self.max_iter, ConvergenceWarning)\n",
      "C:\\Users\\joaog\\Anaconda3\\lib\\site-packages\\sklearn\\neural_network\\_multilayer_perceptron.py:571: ConvergenceWarning: Stochastic Optimizer: Maximum iterations (200) reached and the optimization hasn't converged yet.\n",
      "  % self.max_iter, ConvergenceWarning)\n"
     ]
    },
    {
     "name": "stdout",
     "output_type": "stream",
     "text": [
      "[CV]  activation=tanh, hidden_layer_sizes=5, solver=adam, score=0.851, total=   0.1s\n",
      "[CV] activation=tanh, hidden_layer_sizes=9, solver=lbfgs .............\n",
      "[CV]  activation=tanh, hidden_layer_sizes=9, solver=lbfgs, score=0.905, total=   0.0s\n",
      "[CV] activation=tanh, hidden_layer_sizes=9, solver=lbfgs .............\n",
      "[CV]  activation=tanh, hidden_layer_sizes=9, solver=lbfgs, score=0.976, total=   0.0s\n",
      "[CV] activation=tanh, hidden_layer_sizes=9, solver=lbfgs .............\n",
      "[CV]  activation=tanh, hidden_layer_sizes=9, solver=lbfgs, score=0.917, total=   0.0s\n",
      "[CV] activation=tanh, hidden_layer_sizes=9, solver=sgd ...............\n"
     ]
    },
    {
     "name": "stderr",
     "output_type": "stream",
     "text": [
      "C:\\Users\\joaog\\Anaconda3\\lib\\site-packages\\sklearn\\neural_network\\_multilayer_perceptron.py:571: ConvergenceWarning: Stochastic Optimizer: Maximum iterations (200) reached and the optimization hasn't converged yet.\n",
      "  % self.max_iter, ConvergenceWarning)\n",
      "C:\\Users\\joaog\\Anaconda3\\lib\\site-packages\\sklearn\\neural_network\\_multilayer_perceptron.py:571: ConvergenceWarning: Stochastic Optimizer: Maximum iterations (200) reached and the optimization hasn't converged yet.\n",
      "  % self.max_iter, ConvergenceWarning)\n"
     ]
    },
    {
     "name": "stdout",
     "output_type": "stream",
     "text": [
      "[CV]  activation=tanh, hidden_layer_sizes=9, solver=sgd, score=0.911, total=   0.2s\n",
      "[CV] activation=tanh, hidden_layer_sizes=9, solver=sgd ...............\n",
      "[CV]  activation=tanh, hidden_layer_sizes=9, solver=sgd, score=0.935, total=   0.1s\n",
      "[CV] activation=tanh, hidden_layer_sizes=9, solver=sgd ...............\n"
     ]
    },
    {
     "name": "stderr",
     "output_type": "stream",
     "text": [
      "C:\\Users\\joaog\\Anaconda3\\lib\\site-packages\\sklearn\\neural_network\\_multilayer_perceptron.py:571: ConvergenceWarning: Stochastic Optimizer: Maximum iterations (200) reached and the optimization hasn't converged yet.\n",
      "  % self.max_iter, ConvergenceWarning)\n",
      "C:\\Users\\joaog\\Anaconda3\\lib\\site-packages\\sklearn\\neural_network\\_multilayer_perceptron.py:571: ConvergenceWarning: Stochastic Optimizer: Maximum iterations (200) reached and the optimization hasn't converged yet.\n",
      "  % self.max_iter, ConvergenceWarning)\n"
     ]
    },
    {
     "name": "stdout",
     "output_type": "stream",
     "text": [
      "[CV]  activation=tanh, hidden_layer_sizes=9, solver=sgd, score=0.863, total=   0.1s\n",
      "[CV] activation=tanh, hidden_layer_sizes=9, solver=adam ..............\n",
      "[CV]  activation=tanh, hidden_layer_sizes=9, solver=adam, score=0.946, total=   0.1s\n",
      "[CV] activation=tanh, hidden_layer_sizes=9, solver=adam ..............\n"
     ]
    },
    {
     "name": "stderr",
     "output_type": "stream",
     "text": [
      "C:\\Users\\joaog\\Anaconda3\\lib\\site-packages\\sklearn\\neural_network\\_multilayer_perceptron.py:571: ConvergenceWarning: Stochastic Optimizer: Maximum iterations (200) reached and the optimization hasn't converged yet.\n",
      "  % self.max_iter, ConvergenceWarning)\n",
      "C:\\Users\\joaog\\Anaconda3\\lib\\site-packages\\sklearn\\neural_network\\_multilayer_perceptron.py:571: ConvergenceWarning: Stochastic Optimizer: Maximum iterations (200) reached and the optimization hasn't converged yet.\n",
      "  % self.max_iter, ConvergenceWarning)\n"
     ]
    },
    {
     "name": "stdout",
     "output_type": "stream",
     "text": [
      "[CV]  activation=tanh, hidden_layer_sizes=9, solver=adam, score=0.929, total=   0.1s\n",
      "[CV] activation=tanh, hidden_layer_sizes=9, solver=adam ..............\n",
      "[CV]  activation=tanh, hidden_layer_sizes=9, solver=adam, score=0.863, total=   0.1s\n",
      "[CV] activation=tanh, hidden_layer_sizes=13, solver=lbfgs ............\n",
      "[CV]  activation=tanh, hidden_layer_sizes=13, solver=lbfgs, score=0.935, total=   0.0s\n",
      "[CV] activation=tanh, hidden_layer_sizes=13, solver=lbfgs ............\n",
      "[CV]  activation=tanh, hidden_layer_sizes=13, solver=lbfgs, score=0.976, total=   0.1s\n",
      "[CV] activation=tanh, hidden_layer_sizes=13, solver=lbfgs ............\n",
      "[CV]  activation=tanh, hidden_layer_sizes=13, solver=lbfgs, score=0.911, total=   0.0s\n",
      "[CV] activation=tanh, hidden_layer_sizes=13, solver=sgd ..............\n"
     ]
    },
    {
     "name": "stderr",
     "output_type": "stream",
     "text": [
      "C:\\Users\\joaog\\Anaconda3\\lib\\site-packages\\sklearn\\neural_network\\_multilayer_perceptron.py:571: ConvergenceWarning: Stochastic Optimizer: Maximum iterations (200) reached and the optimization hasn't converged yet.\n",
      "  % self.max_iter, ConvergenceWarning)\n",
      "C:\\Users\\joaog\\Anaconda3\\lib\\site-packages\\sklearn\\neural_network\\_multilayer_perceptron.py:571: ConvergenceWarning: Stochastic Optimizer: Maximum iterations (200) reached and the optimization hasn't converged yet.\n",
      "  % self.max_iter, ConvergenceWarning)\n"
     ]
    },
    {
     "name": "stdout",
     "output_type": "stream",
     "text": [
      "[CV]  activation=tanh, hidden_layer_sizes=13, solver=sgd, score=0.917, total=   0.2s\n",
      "[CV] activation=tanh, hidden_layer_sizes=13, solver=sgd ..............\n",
      "[CV]  activation=tanh, hidden_layer_sizes=13, solver=sgd, score=0.935, total=   0.1s\n",
      "[CV] activation=tanh, hidden_layer_sizes=13, solver=sgd ..............\n"
     ]
    },
    {
     "name": "stderr",
     "output_type": "stream",
     "text": [
      "C:\\Users\\joaog\\Anaconda3\\lib\\site-packages\\sklearn\\neural_network\\_multilayer_perceptron.py:571: ConvergenceWarning: Stochastic Optimizer: Maximum iterations (200) reached and the optimization hasn't converged yet.\n",
      "  % self.max_iter, ConvergenceWarning)\n",
      "C:\\Users\\joaog\\Anaconda3\\lib\\site-packages\\sklearn\\neural_network\\_multilayer_perceptron.py:571: ConvergenceWarning: Stochastic Optimizer: Maximum iterations (200) reached and the optimization hasn't converged yet.\n",
      "  % self.max_iter, ConvergenceWarning)\n"
     ]
    },
    {
     "name": "stdout",
     "output_type": "stream",
     "text": [
      "[CV]  activation=tanh, hidden_layer_sizes=13, solver=sgd, score=0.845, total=   0.1s\n",
      "[CV] activation=tanh, hidden_layer_sizes=13, solver=adam .............\n",
      "[CV]  activation=tanh, hidden_layer_sizes=13, solver=adam, score=0.905, total=   0.1s\n",
      "[CV] activation=tanh, hidden_layer_sizes=13, solver=adam .............\n"
     ]
    },
    {
     "name": "stderr",
     "output_type": "stream",
     "text": [
      "C:\\Users\\joaog\\Anaconda3\\lib\\site-packages\\sklearn\\neural_network\\_multilayer_perceptron.py:571: ConvergenceWarning: Stochastic Optimizer: Maximum iterations (200) reached and the optimization hasn't converged yet.\n",
      "  % self.max_iter, ConvergenceWarning)\n",
      "C:\\Users\\joaog\\Anaconda3\\lib\\site-packages\\sklearn\\neural_network\\_multilayer_perceptron.py:571: ConvergenceWarning: Stochastic Optimizer: Maximum iterations (200) reached and the optimization hasn't converged yet.\n",
      "  % self.max_iter, ConvergenceWarning)\n"
     ]
    },
    {
     "name": "stdout",
     "output_type": "stream",
     "text": [
      "[CV]  activation=tanh, hidden_layer_sizes=13, solver=adam, score=0.935, total=   0.1s\n",
      "[CV] activation=tanh, hidden_layer_sizes=13, solver=adam .............\n",
      "[CV]  activation=tanh, hidden_layer_sizes=13, solver=adam, score=0.881, total=   0.1s\n",
      "[CV] activation=tanh, hidden_layer_sizes=18, solver=lbfgs ............\n",
      "[CV]  activation=tanh, hidden_layer_sizes=18, solver=lbfgs, score=0.935, total=   0.0s\n",
      "[CV] activation=tanh, hidden_layer_sizes=18, solver=lbfgs ............\n",
      "[CV]  activation=tanh, hidden_layer_sizes=18, solver=lbfgs, score=0.964, total=   0.0s\n",
      "[CV] activation=tanh, hidden_layer_sizes=18, solver=lbfgs ............\n",
      "[CV]  activation=tanh, hidden_layer_sizes=18, solver=lbfgs, score=0.905, total=   0.0s\n",
      "[CV] activation=tanh, hidden_layer_sizes=18, solver=sgd ..............\n"
     ]
    },
    {
     "name": "stderr",
     "output_type": "stream",
     "text": [
      "C:\\Users\\joaog\\Anaconda3\\lib\\site-packages\\sklearn\\neural_network\\_multilayer_perceptron.py:571: ConvergenceWarning: Stochastic Optimizer: Maximum iterations (200) reached and the optimization hasn't converged yet.\n",
      "  % self.max_iter, ConvergenceWarning)\n",
      "C:\\Users\\joaog\\Anaconda3\\lib\\site-packages\\sklearn\\neural_network\\_multilayer_perceptron.py:571: ConvergenceWarning: Stochastic Optimizer: Maximum iterations (200) reached and the optimization hasn't converged yet.\n",
      "  % self.max_iter, ConvergenceWarning)\n"
     ]
    },
    {
     "name": "stdout",
     "output_type": "stream",
     "text": [
      "[CV]  activation=tanh, hidden_layer_sizes=18, solver=sgd, score=0.911, total=   0.2s\n",
      "[CV] activation=tanh, hidden_layer_sizes=18, solver=sgd ..............\n"
     ]
    },
    {
     "name": "stderr",
     "output_type": "stream",
     "text": [
      "C:\\Users\\joaog\\Anaconda3\\lib\\site-packages\\sklearn\\neural_network\\_multilayer_perceptron.py:571: ConvergenceWarning: Stochastic Optimizer: Maximum iterations (200) reached and the optimization hasn't converged yet.\n",
      "  % self.max_iter, ConvergenceWarning)\n"
     ]
    },
    {
     "name": "stdout",
     "output_type": "stream",
     "text": [
      "[CV]  activation=tanh, hidden_layer_sizes=18, solver=sgd, score=0.917, total=   0.2s\n",
      "[CV] activation=tanh, hidden_layer_sizes=18, solver=sgd ..............\n",
      "[CV]  activation=tanh, hidden_layer_sizes=18, solver=sgd, score=0.857, total=   0.2s\n",
      "[CV] activation=tanh, hidden_layer_sizes=18, solver=adam .............\n"
     ]
    },
    {
     "name": "stderr",
     "output_type": "stream",
     "text": [
      "C:\\Users\\joaog\\Anaconda3\\lib\\site-packages\\sklearn\\neural_network\\_multilayer_perceptron.py:571: ConvergenceWarning: Stochastic Optimizer: Maximum iterations (200) reached and the optimization hasn't converged yet.\n",
      "  % self.max_iter, ConvergenceWarning)\n"
     ]
    },
    {
     "name": "stdout",
     "output_type": "stream",
     "text": [
      "[CV]  activation=tanh, hidden_layer_sizes=18, solver=adam, score=0.923, total=   0.2s\n",
      "[CV] activation=tanh, hidden_layer_sizes=18, solver=adam .............\n"
     ]
    },
    {
     "name": "stderr",
     "output_type": "stream",
     "text": [
      "C:\\Users\\joaog\\Anaconda3\\lib\\site-packages\\sklearn\\neural_network\\_multilayer_perceptron.py:571: ConvergenceWarning: Stochastic Optimizer: Maximum iterations (200) reached and the optimization hasn't converged yet.\n",
      "  % self.max_iter, ConvergenceWarning)\n",
      "C:\\Users\\joaog\\Anaconda3\\lib\\site-packages\\sklearn\\neural_network\\_multilayer_perceptron.py:571: ConvergenceWarning: Stochastic Optimizer: Maximum iterations (200) reached and the optimization hasn't converged yet.\n",
      "  % self.max_iter, ConvergenceWarning)\n"
     ]
    },
    {
     "name": "stdout",
     "output_type": "stream",
     "text": [
      "[CV]  activation=tanh, hidden_layer_sizes=18, solver=adam, score=0.935, total=   0.2s\n",
      "[CV] activation=tanh, hidden_layer_sizes=18, solver=adam .............\n",
      "[CV]  activation=tanh, hidden_layer_sizes=18, solver=adam, score=0.905, total=   0.2s\n",
      "[CV] activation=tanh, hidden_layer_sizes=20, solver=lbfgs ............\n",
      "[CV]  activation=tanh, hidden_layer_sizes=20, solver=lbfgs, score=0.940, total=   0.0s\n",
      "[CV] activation=tanh, hidden_layer_sizes=20, solver=lbfgs ............\n",
      "[CV]  activation=tanh, hidden_layer_sizes=20, solver=lbfgs, score=0.970, total=   0.0s\n",
      "[CV] activation=tanh, hidden_layer_sizes=20, solver=lbfgs ............\n",
      "[CV]  activation=tanh, hidden_layer_sizes=20, solver=lbfgs, score=0.940, total=   0.0s\n",
      "[CV] activation=tanh, hidden_layer_sizes=20, solver=sgd ..............\n"
     ]
    },
    {
     "name": "stderr",
     "output_type": "stream",
     "text": [
      "C:\\Users\\joaog\\Anaconda3\\lib\\site-packages\\sklearn\\neural_network\\_multilayer_perceptron.py:571: ConvergenceWarning: Stochastic Optimizer: Maximum iterations (200) reached and the optimization hasn't converged yet.\n",
      "  % self.max_iter, ConvergenceWarning)\n",
      "C:\\Users\\joaog\\Anaconda3\\lib\\site-packages\\sklearn\\neural_network\\_multilayer_perceptron.py:571: ConvergenceWarning: Stochastic Optimizer: Maximum iterations (200) reached and the optimization hasn't converged yet.\n",
      "  % self.max_iter, ConvergenceWarning)\n"
     ]
    },
    {
     "name": "stdout",
     "output_type": "stream",
     "text": [
      "[CV]  activation=tanh, hidden_layer_sizes=20, solver=sgd, score=0.911, total=   0.2s\n",
      "[CV] activation=tanh, hidden_layer_sizes=20, solver=sgd ..............\n",
      "[CV]  activation=tanh, hidden_layer_sizes=20, solver=sgd, score=0.905, total=   0.2s\n",
      "[CV] activation=tanh, hidden_layer_sizes=20, solver=sgd ..............\n"
     ]
    },
    {
     "name": "stderr",
     "output_type": "stream",
     "text": [
      "C:\\Users\\joaog\\Anaconda3\\lib\\site-packages\\sklearn\\neural_network\\_multilayer_perceptron.py:571: ConvergenceWarning: Stochastic Optimizer: Maximum iterations (200) reached and the optimization hasn't converged yet.\n",
      "  % self.max_iter, ConvergenceWarning)\n"
     ]
    },
    {
     "name": "stdout",
     "output_type": "stream",
     "text": [
      "[CV]  activation=tanh, hidden_layer_sizes=20, solver=sgd, score=0.857, total=   0.2s\n",
      "[CV] activation=tanh, hidden_layer_sizes=20, solver=adam .............\n"
     ]
    },
    {
     "name": "stderr",
     "output_type": "stream",
     "text": [
      "C:\\Users\\joaog\\Anaconda3\\lib\\site-packages\\sklearn\\neural_network\\_multilayer_perceptron.py:571: ConvergenceWarning: Stochastic Optimizer: Maximum iterations (200) reached and the optimization hasn't converged yet.\n",
      "  % self.max_iter, ConvergenceWarning)\n",
      "C:\\Users\\joaog\\Anaconda3\\lib\\site-packages\\sklearn\\neural_network\\_multilayer_perceptron.py:571: ConvergenceWarning: Stochastic Optimizer: Maximum iterations (200) reached and the optimization hasn't converged yet.\n",
      "  % self.max_iter, ConvergenceWarning)\n"
     ]
    },
    {
     "name": "stdout",
     "output_type": "stream",
     "text": [
      "[CV]  activation=tanh, hidden_layer_sizes=20, solver=adam, score=0.917, total=   0.2s\n",
      "[CV] activation=tanh, hidden_layer_sizes=20, solver=adam .............\n",
      "[CV]  activation=tanh, hidden_layer_sizes=20, solver=adam, score=0.946, total=   0.2s\n",
      "[CV] activation=tanh, hidden_layer_sizes=20, solver=adam .............\n"
     ]
    },
    {
     "name": "stderr",
     "output_type": "stream",
     "text": [
      "C:\\Users\\joaog\\Anaconda3\\lib\\site-packages\\sklearn\\neural_network\\_multilayer_perceptron.py:571: ConvergenceWarning: Stochastic Optimizer: Maximum iterations (200) reached and the optimization hasn't converged yet.\n",
      "  % self.max_iter, ConvergenceWarning)\n"
     ]
    },
    {
     "name": "stdout",
     "output_type": "stream",
     "text": [
      "[CV]  activation=tanh, hidden_layer_sizes=20, solver=adam, score=0.899, total=   0.2s\n",
      "[CV] activation=relu, hidden_layer_sizes=1, solver=lbfgs .............\n",
      "[CV]  activation=relu, hidden_layer_sizes=1, solver=lbfgs, score=0.917, total=   0.0s\n",
      "[CV] activation=relu, hidden_layer_sizes=1, solver=lbfgs .............\n",
      "[CV]  activation=relu, hidden_layer_sizes=1, solver=lbfgs, score=0.946, total=   0.0s\n",
      "[CV] activation=relu, hidden_layer_sizes=1, solver=lbfgs .............\n",
      "[CV]  activation=relu, hidden_layer_sizes=1, solver=lbfgs, score=0.923, total=   0.0s\n",
      "[CV] activation=relu, hidden_layer_sizes=1, solver=sgd ...............\n"
     ]
    },
    {
     "name": "stderr",
     "output_type": "stream",
     "text": [
      "C:\\Users\\joaog\\Anaconda3\\lib\\site-packages\\sklearn\\neural_network\\_multilayer_perceptron.py:571: ConvergenceWarning: Stochastic Optimizer: Maximum iterations (200) reached and the optimization hasn't converged yet.\n",
      "  % self.max_iter, ConvergenceWarning)\n",
      "C:\\Users\\joaog\\Anaconda3\\lib\\site-packages\\sklearn\\neural_network\\_multilayer_perceptron.py:571: ConvergenceWarning: Stochastic Optimizer: Maximum iterations (200) reached and the optimization hasn't converged yet.\n",
      "  % self.max_iter, ConvergenceWarning)\n"
     ]
    },
    {
     "name": "stdout",
     "output_type": "stream",
     "text": [
      "[CV]  activation=relu, hidden_layer_sizes=1, solver=sgd, score=0.893, total=   0.1s\n",
      "[CV] activation=relu, hidden_layer_sizes=1, solver=sgd ...............\n",
      "[CV]  activation=relu, hidden_layer_sizes=1, solver=sgd, score=0.923, total=   0.1s\n",
      "[CV] activation=relu, hidden_layer_sizes=1, solver=sgd ...............\n"
     ]
    },
    {
     "name": "stderr",
     "output_type": "stream",
     "text": [
      "C:\\Users\\joaog\\Anaconda3\\lib\\site-packages\\sklearn\\neural_network\\_multilayer_perceptron.py:571: ConvergenceWarning: Stochastic Optimizer: Maximum iterations (200) reached and the optimization hasn't converged yet.\n",
      "  % self.max_iter, ConvergenceWarning)\n",
      "C:\\Users\\joaog\\Anaconda3\\lib\\site-packages\\sklearn\\neural_network\\_multilayer_perceptron.py:571: ConvergenceWarning: Stochastic Optimizer: Maximum iterations (200) reached and the optimization hasn't converged yet.\n",
      "  % self.max_iter, ConvergenceWarning)\n"
     ]
    },
    {
     "name": "stdout",
     "output_type": "stream",
     "text": [
      "[CV]  activation=relu, hidden_layer_sizes=1, solver=sgd, score=0.875, total=   0.1s\n",
      "[CV] activation=relu, hidden_layer_sizes=1, solver=adam ..............\n",
      "[CV]  activation=relu, hidden_layer_sizes=1, solver=adam, score=0.500, total=   0.1s\n",
      "[CV] activation=relu, hidden_layer_sizes=1, solver=adam ..............\n"
     ]
    },
    {
     "name": "stderr",
     "output_type": "stream",
     "text": [
      "C:\\Users\\joaog\\Anaconda3\\lib\\site-packages\\sklearn\\neural_network\\_multilayer_perceptron.py:571: ConvergenceWarning: Stochastic Optimizer: Maximum iterations (200) reached and the optimization hasn't converged yet.\n",
      "  % self.max_iter, ConvergenceWarning)\n",
      "C:\\Users\\joaog\\Anaconda3\\lib\\site-packages\\sklearn\\neural_network\\_multilayer_perceptron.py:571: ConvergenceWarning: Stochastic Optimizer: Maximum iterations (200) reached and the optimization hasn't converged yet.\n",
      "  % self.max_iter, ConvergenceWarning)\n"
     ]
    },
    {
     "name": "stdout",
     "output_type": "stream",
     "text": [
      "[CV]  activation=relu, hidden_layer_sizes=1, solver=adam, score=0.506, total=   0.1s\n",
      "[CV] activation=relu, hidden_layer_sizes=1, solver=adam ..............\n",
      "[CV]  activation=relu, hidden_layer_sizes=1, solver=adam, score=0.494, total=   0.1s\n",
      "[CV] activation=relu, hidden_layer_sizes=3, solver=lbfgs .............\n",
      "[CV]  activation=relu, hidden_layer_sizes=3, solver=lbfgs, score=0.946, total=   0.1s\n",
      "[CV] activation=relu, hidden_layer_sizes=3, solver=lbfgs .............\n",
      "[CV]  activation=relu, hidden_layer_sizes=3, solver=lbfgs, score=0.952, total=   0.1s\n",
      "[CV] activation=relu, hidden_layer_sizes=3, solver=lbfgs .............\n",
      "[CV]  activation=relu, hidden_layer_sizes=3, solver=lbfgs, score=0.905, total=   0.0s\n",
      "[CV] activation=relu, hidden_layer_sizes=3, solver=sgd ...............\n",
      "[CV]  activation=relu, hidden_layer_sizes=3, solver=sgd, score=0.917, total=   0.1s\n",
      "[CV] activation=relu, hidden_layer_sizes=3, solver=sgd ...............\n"
     ]
    },
    {
     "name": "stderr",
     "output_type": "stream",
     "text": [
      "C:\\Users\\joaog\\Anaconda3\\lib\\site-packages\\sklearn\\neural_network\\_multilayer_perceptron.py:571: ConvergenceWarning: Stochastic Optimizer: Maximum iterations (200) reached and the optimization hasn't converged yet.\n",
      "  % self.max_iter, ConvergenceWarning)\n",
      "C:\\Users\\joaog\\Anaconda3\\lib\\site-packages\\sklearn\\neural_network\\_multilayer_perceptron.py:571: ConvergenceWarning: Stochastic Optimizer: Maximum iterations (200) reached and the optimization hasn't converged yet.\n",
      "  % self.max_iter, ConvergenceWarning)\n"
     ]
    },
    {
     "name": "stdout",
     "output_type": "stream",
     "text": [
      "[CV]  activation=relu, hidden_layer_sizes=3, solver=sgd, score=0.940, total=   0.1s\n",
      "[CV] activation=relu, hidden_layer_sizes=3, solver=sgd ...............\n",
      "[CV]  activation=relu, hidden_layer_sizes=3, solver=sgd, score=0.887, total=   0.1s\n",
      "[CV] activation=relu, hidden_layer_sizes=3, solver=adam ..............\n"
     ]
    },
    {
     "name": "stderr",
     "output_type": "stream",
     "text": [
      "C:\\Users\\joaog\\Anaconda3\\lib\\site-packages\\sklearn\\neural_network\\_multilayer_perceptron.py:571: ConvergenceWarning: Stochastic Optimizer: Maximum iterations (200) reached and the optimization hasn't converged yet.\n",
      "  % self.max_iter, ConvergenceWarning)\n",
      "C:\\Users\\joaog\\Anaconda3\\lib\\site-packages\\sklearn\\neural_network\\_multilayer_perceptron.py:571: ConvergenceWarning: Stochastic Optimizer: Maximum iterations (200) reached and the optimization hasn't converged yet.\n",
      "  % self.max_iter, ConvergenceWarning)\n"
     ]
    },
    {
     "name": "stdout",
     "output_type": "stream",
     "text": [
      "[CV]  activation=relu, hidden_layer_sizes=3, solver=adam, score=0.893, total=   0.1s\n",
      "[CV] activation=relu, hidden_layer_sizes=3, solver=adam ..............\n",
      "[CV]  activation=relu, hidden_layer_sizes=3, solver=adam, score=0.935, total=   0.1s\n",
      "[CV] activation=relu, hidden_layer_sizes=3, solver=adam ..............\n"
     ]
    },
    {
     "name": "stderr",
     "output_type": "stream",
     "text": [
      "C:\\Users\\joaog\\Anaconda3\\lib\\site-packages\\sklearn\\neural_network\\_multilayer_perceptron.py:571: ConvergenceWarning: Stochastic Optimizer: Maximum iterations (200) reached and the optimization hasn't converged yet.\n",
      "  % self.max_iter, ConvergenceWarning)\n",
      "C:\\Users\\joaog\\Anaconda3\\lib\\site-packages\\sklearn\\neural_network\\_multilayer_perceptron.py:571: ConvergenceWarning: Stochastic Optimizer: Maximum iterations (200) reached and the optimization hasn't converged yet.\n",
      "  % self.max_iter, ConvergenceWarning)\n"
     ]
    },
    {
     "name": "stdout",
     "output_type": "stream",
     "text": [
      "[CV]  activation=relu, hidden_layer_sizes=3, solver=adam, score=0.893, total=   0.1s\n",
      "[CV] activation=relu, hidden_layer_sizes=5, solver=lbfgs .............\n",
      "[CV]  activation=relu, hidden_layer_sizes=5, solver=lbfgs, score=0.958, total=   0.0s\n",
      "[CV] activation=relu, hidden_layer_sizes=5, solver=lbfgs .............\n",
      "[CV]  activation=relu, hidden_layer_sizes=5, solver=lbfgs, score=0.964, total=   0.0s\n",
      "[CV] activation=relu, hidden_layer_sizes=5, solver=lbfgs .............\n",
      "[CV]  activation=relu, hidden_layer_sizes=5, solver=lbfgs, score=0.911, total=   0.0s\n",
      "[CV] activation=relu, hidden_layer_sizes=5, solver=sgd ...............\n"
     ]
    },
    {
     "name": "stderr",
     "output_type": "stream",
     "text": [
      "C:\\Users\\joaog\\Anaconda3\\lib\\site-packages\\sklearn\\neural_network\\_multilayer_perceptron.py:571: ConvergenceWarning: Stochastic Optimizer: Maximum iterations (200) reached and the optimization hasn't converged yet.\n",
      "  % self.max_iter, ConvergenceWarning)\n",
      "C:\\Users\\joaog\\Anaconda3\\lib\\site-packages\\sklearn\\neural_network\\_multilayer_perceptron.py:571: ConvergenceWarning: Stochastic Optimizer: Maximum iterations (200) reached and the optimization hasn't converged yet.\n",
      "  % self.max_iter, ConvergenceWarning)\n"
     ]
    },
    {
     "name": "stdout",
     "output_type": "stream",
     "text": [
      "[CV]  activation=relu, hidden_layer_sizes=5, solver=sgd, score=0.940, total=   0.1s\n",
      "[CV] activation=relu, hidden_layer_sizes=5, solver=sgd ...............\n",
      "[CV]  activation=relu, hidden_layer_sizes=5, solver=sgd, score=0.905, total=   0.1s\n",
      "[CV] activation=relu, hidden_layer_sizes=5, solver=sgd ...............\n"
     ]
    },
    {
     "name": "stderr",
     "output_type": "stream",
     "text": [
      "C:\\Users\\joaog\\Anaconda3\\lib\\site-packages\\sklearn\\neural_network\\_multilayer_perceptron.py:571: ConvergenceWarning: Stochastic Optimizer: Maximum iterations (200) reached and the optimization hasn't converged yet.\n",
      "  % self.max_iter, ConvergenceWarning)\n",
      "C:\\Users\\joaog\\Anaconda3\\lib\\site-packages\\sklearn\\neural_network\\_multilayer_perceptron.py:571: ConvergenceWarning: Stochastic Optimizer: Maximum iterations (200) reached and the optimization hasn't converged yet.\n",
      "  % self.max_iter, ConvergenceWarning)\n"
     ]
    },
    {
     "name": "stdout",
     "output_type": "stream",
     "text": [
      "[CV]  activation=relu, hidden_layer_sizes=5, solver=sgd, score=0.827, total=   0.1s\n",
      "[CV] activation=relu, hidden_layer_sizes=5, solver=adam ..............\n",
      "[CV]  activation=relu, hidden_layer_sizes=5, solver=adam, score=0.911, total=   0.1s\n",
      "[CV] activation=relu, hidden_layer_sizes=5, solver=adam ..............\n"
     ]
    },
    {
     "name": "stderr",
     "output_type": "stream",
     "text": [
      "C:\\Users\\joaog\\Anaconda3\\lib\\site-packages\\sklearn\\neural_network\\_multilayer_perceptron.py:571: ConvergenceWarning: Stochastic Optimizer: Maximum iterations (200) reached and the optimization hasn't converged yet.\n",
      "  % self.max_iter, ConvergenceWarning)\n",
      "C:\\Users\\joaog\\Anaconda3\\lib\\site-packages\\sklearn\\neural_network\\_multilayer_perceptron.py:571: ConvergenceWarning: Stochastic Optimizer: Maximum iterations (200) reached and the optimization hasn't converged yet.\n",
      "  % self.max_iter, ConvergenceWarning)\n"
     ]
    },
    {
     "name": "stdout",
     "output_type": "stream",
     "text": [
      "[CV]  activation=relu, hidden_layer_sizes=5, solver=adam, score=0.899, total=   0.2s\n",
      "[CV] activation=relu, hidden_layer_sizes=5, solver=adam ..............\n",
      "[CV]  activation=relu, hidden_layer_sizes=5, solver=adam, score=0.863, total=   0.1s\n",
      "[CV] activation=relu, hidden_layer_sizes=9, solver=lbfgs .............\n",
      "[CV]  activation=relu, hidden_layer_sizes=9, solver=lbfgs, score=0.929, total=   0.0s\n",
      "[CV] activation=relu, hidden_layer_sizes=9, solver=lbfgs .............\n",
      "[CV]  activation=relu, hidden_layer_sizes=9, solver=lbfgs, score=0.958, total=   0.0s\n",
      "[CV] activation=relu, hidden_layer_sizes=9, solver=lbfgs .............\n",
      "[CV]  activation=relu, hidden_layer_sizes=9, solver=lbfgs, score=0.917, total=   0.0s\n",
      "[CV] activation=relu, hidden_layer_sizes=9, solver=sgd ...............\n",
      "[CV]  activation=relu, hidden_layer_sizes=9, solver=sgd, score=0.923, total=   0.1s\n",
      "[CV] activation=relu, hidden_layer_sizes=9, solver=sgd ...............\n"
     ]
    },
    {
     "name": "stderr",
     "output_type": "stream",
     "text": [
      "C:\\Users\\joaog\\Anaconda3\\lib\\site-packages\\sklearn\\neural_network\\_multilayer_perceptron.py:571: ConvergenceWarning: Stochastic Optimizer: Maximum iterations (200) reached and the optimization hasn't converged yet.\n",
      "  % self.max_iter, ConvergenceWarning)\n",
      "C:\\Users\\joaog\\Anaconda3\\lib\\site-packages\\sklearn\\neural_network\\_multilayer_perceptron.py:571: ConvergenceWarning: Stochastic Optimizer: Maximum iterations (200) reached and the optimization hasn't converged yet.\n",
      "  % self.max_iter, ConvergenceWarning)\n"
     ]
    },
    {
     "name": "stdout",
     "output_type": "stream",
     "text": [
      "[CV]  activation=relu, hidden_layer_sizes=9, solver=sgd, score=0.935, total=   0.1s\n",
      "[CV] activation=relu, hidden_layer_sizes=9, solver=sgd ...............\n",
      "[CV]  activation=relu, hidden_layer_sizes=9, solver=sgd, score=0.833, total=   0.1s\n",
      "[CV] activation=relu, hidden_layer_sizes=9, solver=adam ..............\n"
     ]
    },
    {
     "name": "stderr",
     "output_type": "stream",
     "text": [
      "C:\\Users\\joaog\\Anaconda3\\lib\\site-packages\\sklearn\\neural_network\\_multilayer_perceptron.py:571: ConvergenceWarning: Stochastic Optimizer: Maximum iterations (200) reached and the optimization hasn't converged yet.\n",
      "  % self.max_iter, ConvergenceWarning)\n",
      "C:\\Users\\joaog\\Anaconda3\\lib\\site-packages\\sklearn\\neural_network\\_multilayer_perceptron.py:571: ConvergenceWarning: Stochastic Optimizer: Maximum iterations (200) reached and the optimization hasn't converged yet.\n",
      "  % self.max_iter, ConvergenceWarning)\n"
     ]
    },
    {
     "name": "stdout",
     "output_type": "stream",
     "text": [
      "[CV]  activation=relu, hidden_layer_sizes=9, solver=adam, score=0.911, total=   0.1s\n",
      "[CV] activation=relu, hidden_layer_sizes=9, solver=adam ..............\n",
      "[CV]  activation=relu, hidden_layer_sizes=9, solver=adam, score=0.940, total=   0.2s\n",
      "[CV] activation=relu, hidden_layer_sizes=9, solver=adam ..............\n"
     ]
    },
    {
     "name": "stderr",
     "output_type": "stream",
     "text": [
      "C:\\Users\\joaog\\Anaconda3\\lib\\site-packages\\sklearn\\neural_network\\_multilayer_perceptron.py:571: ConvergenceWarning: Stochastic Optimizer: Maximum iterations (200) reached and the optimization hasn't converged yet.\n",
      "  % self.max_iter, ConvergenceWarning)\n",
      "C:\\Users\\joaog\\Anaconda3\\lib\\site-packages\\sklearn\\neural_network\\_multilayer_perceptron.py:571: ConvergenceWarning: Stochastic Optimizer: Maximum iterations (200) reached and the optimization hasn't converged yet.\n",
      "  % self.max_iter, ConvergenceWarning)\n"
     ]
    },
    {
     "name": "stdout",
     "output_type": "stream",
     "text": [
      "[CV]  activation=relu, hidden_layer_sizes=9, solver=adam, score=0.869, total=   0.1s\n",
      "[CV] activation=relu, hidden_layer_sizes=13, solver=lbfgs ............\n",
      "[CV]  activation=relu, hidden_layer_sizes=13, solver=lbfgs, score=0.905, total=   0.0s\n",
      "[CV] activation=relu, hidden_layer_sizes=13, solver=lbfgs ............\n",
      "[CV]  activation=relu, hidden_layer_sizes=13, solver=lbfgs, score=0.946, total=   0.0s\n",
      "[CV] activation=relu, hidden_layer_sizes=13, solver=lbfgs ............\n",
      "[CV]  activation=relu, hidden_layer_sizes=13, solver=lbfgs, score=0.911, total=   0.0s\n",
      "[CV] activation=relu, hidden_layer_sizes=13, solver=sgd ..............\n"
     ]
    },
    {
     "name": "stderr",
     "output_type": "stream",
     "text": [
      "C:\\Users\\joaog\\Anaconda3\\lib\\site-packages\\sklearn\\neural_network\\_multilayer_perceptron.py:571: ConvergenceWarning: Stochastic Optimizer: Maximum iterations (200) reached and the optimization hasn't converged yet.\n",
      "  % self.max_iter, ConvergenceWarning)\n",
      "C:\\Users\\joaog\\Anaconda3\\lib\\site-packages\\sklearn\\neural_network\\_multilayer_perceptron.py:571: ConvergenceWarning: Stochastic Optimizer: Maximum iterations (200) reached and the optimization hasn't converged yet.\n",
      "  % self.max_iter, ConvergenceWarning)\n"
     ]
    },
    {
     "name": "stdout",
     "output_type": "stream",
     "text": [
      "[CV]  activation=relu, hidden_layer_sizes=13, solver=sgd, score=0.917, total=   0.2s\n",
      "[CV] activation=relu, hidden_layer_sizes=13, solver=sgd ..............\n",
      "[CV]  activation=relu, hidden_layer_sizes=13, solver=sgd, score=0.923, total=   0.1s\n",
      "[CV] activation=relu, hidden_layer_sizes=13, solver=sgd ..............\n"
     ]
    },
    {
     "name": "stderr",
     "output_type": "stream",
     "text": [
      "C:\\Users\\joaog\\Anaconda3\\lib\\site-packages\\sklearn\\neural_network\\_multilayer_perceptron.py:571: ConvergenceWarning: Stochastic Optimizer: Maximum iterations (200) reached and the optimization hasn't converged yet.\n",
      "  % self.max_iter, ConvergenceWarning)\n",
      "C:\\Users\\joaog\\Anaconda3\\lib\\site-packages\\sklearn\\neural_network\\_multilayer_perceptron.py:571: ConvergenceWarning: Stochastic Optimizer: Maximum iterations (200) reached and the optimization hasn't converged yet.\n",
      "  % self.max_iter, ConvergenceWarning)\n"
     ]
    },
    {
     "name": "stdout",
     "output_type": "stream",
     "text": [
      "[CV]  activation=relu, hidden_layer_sizes=13, solver=sgd, score=0.881, total=   0.1s\n",
      "[CV] activation=relu, hidden_layer_sizes=13, solver=adam .............\n",
      "[CV]  activation=relu, hidden_layer_sizes=13, solver=adam, score=0.911, total=   0.1s\n",
      "[CV] activation=relu, hidden_layer_sizes=13, solver=adam .............\n"
     ]
    },
    {
     "name": "stderr",
     "output_type": "stream",
     "text": [
      "C:\\Users\\joaog\\Anaconda3\\lib\\site-packages\\sklearn\\neural_network\\_multilayer_perceptron.py:571: ConvergenceWarning: Stochastic Optimizer: Maximum iterations (200) reached and the optimization hasn't converged yet.\n",
      "  % self.max_iter, ConvergenceWarning)\n",
      "C:\\Users\\joaog\\Anaconda3\\lib\\site-packages\\sklearn\\neural_network\\_multilayer_perceptron.py:571: ConvergenceWarning: Stochastic Optimizer: Maximum iterations (200) reached and the optimization hasn't converged yet.\n",
      "  % self.max_iter, ConvergenceWarning)\n"
     ]
    },
    {
     "name": "stdout",
     "output_type": "stream",
     "text": [
      "[CV]  activation=relu, hidden_layer_sizes=13, solver=adam, score=0.946, total=   0.1s\n",
      "[CV] activation=relu, hidden_layer_sizes=13, solver=adam .............\n",
      "[CV]  activation=relu, hidden_layer_sizes=13, solver=adam, score=0.869, total=   0.2s\n",
      "[CV] activation=relu, hidden_layer_sizes=18, solver=lbfgs ............\n",
      "[CV]  activation=relu, hidden_layer_sizes=18, solver=lbfgs, score=0.905, total=   0.0s\n",
      "[CV] activation=relu, hidden_layer_sizes=18, solver=lbfgs ............\n",
      "[CV]  activation=relu, hidden_layer_sizes=18, solver=lbfgs, score=0.994, total=   0.0s\n",
      "[CV] activation=relu, hidden_layer_sizes=18, solver=lbfgs ............\n",
      "[CV]  activation=relu, hidden_layer_sizes=18, solver=lbfgs, score=0.917, total=   0.0s\n",
      "[CV] activation=relu, hidden_layer_sizes=18, solver=sgd ..............\n",
      "[CV]  activation=relu, hidden_layer_sizes=18, solver=sgd, score=0.911, total=   0.1s\n",
      "[CV] activation=relu, hidden_layer_sizes=18, solver=sgd ..............\n"
     ]
    },
    {
     "name": "stderr",
     "output_type": "stream",
     "text": [
      "C:\\Users\\joaog\\Anaconda3\\lib\\site-packages\\sklearn\\neural_network\\_multilayer_perceptron.py:571: ConvergenceWarning: Stochastic Optimizer: Maximum iterations (200) reached and the optimization hasn't converged yet.\n",
      "  % self.max_iter, ConvergenceWarning)\n",
      "C:\\Users\\joaog\\Anaconda3\\lib\\site-packages\\sklearn\\neural_network\\_multilayer_perceptron.py:571: ConvergenceWarning: Stochastic Optimizer: Maximum iterations (200) reached and the optimization hasn't converged yet.\n",
      "  % self.max_iter, ConvergenceWarning)\n"
     ]
    },
    {
     "name": "stdout",
     "output_type": "stream",
     "text": [
      "[CV]  activation=relu, hidden_layer_sizes=18, solver=sgd, score=0.946, total=   0.2s\n",
      "[CV] activation=relu, hidden_layer_sizes=18, solver=sgd ..............\n",
      "[CV]  activation=relu, hidden_layer_sizes=18, solver=sgd, score=0.851, total=   0.2s\n",
      "[CV] activation=relu, hidden_layer_sizes=18, solver=adam .............\n"
     ]
    },
    {
     "name": "stderr",
     "output_type": "stream",
     "text": [
      "C:\\Users\\joaog\\Anaconda3\\lib\\site-packages\\sklearn\\neural_network\\_multilayer_perceptron.py:571: ConvergenceWarning: Stochastic Optimizer: Maximum iterations (200) reached and the optimization hasn't converged yet.\n",
      "  % self.max_iter, ConvergenceWarning)\n",
      "C:\\Users\\joaog\\Anaconda3\\lib\\site-packages\\sklearn\\neural_network\\_multilayer_perceptron.py:571: ConvergenceWarning: Stochastic Optimizer: Maximum iterations (200) reached and the optimization hasn't converged yet.\n",
      "  % self.max_iter, ConvergenceWarning)\n",
      "C:\\Users\\joaog\\Anaconda3\\lib\\site-packages\\sklearn\\neural_network\\_multilayer_perceptron.py:571: ConvergenceWarning: Stochastic Optimizer: Maximum iterations (200) reached and the optimization hasn't converged yet.\n",
      "  % self.max_iter, ConvergenceWarning)\n"
     ]
    },
    {
     "name": "stdout",
     "output_type": "stream",
     "text": [
      "[CV]  activation=relu, hidden_layer_sizes=18, solver=adam, score=0.929, total=   0.2s\n",
      "[CV] activation=relu, hidden_layer_sizes=18, solver=adam .............\n",
      "[CV]  activation=relu, hidden_layer_sizes=18, solver=adam, score=0.935, total=   0.2s\n",
      "[CV] activation=relu, hidden_layer_sizes=18, solver=adam .............\n"
     ]
    },
    {
     "name": "stderr",
     "output_type": "stream",
     "text": [
      "C:\\Users\\joaog\\Anaconda3\\lib\\site-packages\\sklearn\\neural_network\\_multilayer_perceptron.py:571: ConvergenceWarning: Stochastic Optimizer: Maximum iterations (200) reached and the optimization hasn't converged yet.\n",
      "  % self.max_iter, ConvergenceWarning)\n"
     ]
    },
    {
     "name": "stdout",
     "output_type": "stream",
     "text": [
      "[CV]  activation=relu, hidden_layer_sizes=18, solver=adam, score=0.881, total=   0.2s\n",
      "[CV] activation=relu, hidden_layer_sizes=20, solver=lbfgs ............\n",
      "[CV]  activation=relu, hidden_layer_sizes=20, solver=lbfgs, score=0.911, total=   0.0s\n",
      "[CV] activation=relu, hidden_layer_sizes=20, solver=lbfgs ............\n",
      "[CV]  activation=relu, hidden_layer_sizes=20, solver=lbfgs, score=0.964, total=   0.0s\n",
      "[CV] activation=relu, hidden_layer_sizes=20, solver=lbfgs ............\n",
      "[CV]  activation=relu, hidden_layer_sizes=20, solver=lbfgs, score=0.940, total=   0.0s\n",
      "[CV] activation=relu, hidden_layer_sizes=20, solver=sgd ..............\n"
     ]
    },
    {
     "name": "stderr",
     "output_type": "stream",
     "text": [
      "C:\\Users\\joaog\\Anaconda3\\lib\\site-packages\\sklearn\\neural_network\\_multilayer_perceptron.py:571: ConvergenceWarning: Stochastic Optimizer: Maximum iterations (200) reached and the optimization hasn't converged yet.\n",
      "  % self.max_iter, ConvergenceWarning)\n",
      "C:\\Users\\joaog\\Anaconda3\\lib\\site-packages\\sklearn\\neural_network\\_multilayer_perceptron.py:571: ConvergenceWarning: Stochastic Optimizer: Maximum iterations (200) reached and the optimization hasn't converged yet.\n",
      "  % self.max_iter, ConvergenceWarning)\n"
     ]
    },
    {
     "name": "stdout",
     "output_type": "stream",
     "text": [
      "[CV]  activation=relu, hidden_layer_sizes=20, solver=sgd, score=0.923, total=   0.2s\n",
      "[CV] activation=relu, hidden_layer_sizes=20, solver=sgd ..............\n",
      "[CV]  activation=relu, hidden_layer_sizes=20, solver=sgd, score=0.940, total=   0.1s\n",
      "[CV] activation=relu, hidden_layer_sizes=20, solver=sgd ..............\n"
     ]
    },
    {
     "name": "stderr",
     "output_type": "stream",
     "text": [
      "C:\\Users\\joaog\\Anaconda3\\lib\\site-packages\\sklearn\\neural_network\\_multilayer_perceptron.py:571: ConvergenceWarning: Stochastic Optimizer: Maximum iterations (200) reached and the optimization hasn't converged yet.\n",
      "  % self.max_iter, ConvergenceWarning)\n",
      "C:\\Users\\joaog\\Anaconda3\\lib\\site-packages\\sklearn\\neural_network\\_multilayer_perceptron.py:571: ConvergenceWarning: Stochastic Optimizer: Maximum iterations (200) reached and the optimization hasn't converged yet.\n",
      "  % self.max_iter, ConvergenceWarning)\n"
     ]
    },
    {
     "name": "stdout",
     "output_type": "stream",
     "text": [
      "[CV]  activation=relu, hidden_layer_sizes=20, solver=sgd, score=0.851, total=   0.2s\n",
      "[CV] activation=relu, hidden_layer_sizes=20, solver=adam .............\n",
      "[CV]  activation=relu, hidden_layer_sizes=20, solver=adam, score=0.911, total=   0.2s\n",
      "[CV] activation=relu, hidden_layer_sizes=20, solver=adam .............\n"
     ]
    },
    {
     "name": "stderr",
     "output_type": "stream",
     "text": [
      "C:\\Users\\joaog\\Anaconda3\\lib\\site-packages\\sklearn\\neural_network\\_multilayer_perceptron.py:571: ConvergenceWarning: Stochastic Optimizer: Maximum iterations (200) reached and the optimization hasn't converged yet.\n",
      "  % self.max_iter, ConvergenceWarning)\n"
     ]
    },
    {
     "name": "stdout",
     "output_type": "stream",
     "text": [
      "[CV]  activation=relu, hidden_layer_sizes=20, solver=adam, score=0.946, total=   0.2s\n",
      "[CV] activation=relu, hidden_layer_sizes=20, solver=adam .............\n",
      "[CV]  activation=relu, hidden_layer_sizes=20, solver=adam, score=0.905, total=   0.2s\n"
     ]
    },
    {
     "name": "stderr",
     "output_type": "stream",
     "text": [
      "C:\\Users\\joaog\\Anaconda3\\lib\\site-packages\\sklearn\\neural_network\\_multilayer_perceptron.py:571: ConvergenceWarning: Stochastic Optimizer: Maximum iterations (200) reached and the optimization hasn't converged yet.\n",
      "  % self.max_iter, ConvergenceWarning)\n",
      "[Parallel(n_jobs=1)]: Done 252 out of 252 | elapsed:   26.8s finished\n"
     ]
    },
    {
     "data": {
      "text/plain": [
       "GridSearchCV(cv=3, error_score=nan,\n",
       "             estimator=MLPClassifier(activation='relu', alpha=0.0001,\n",
       "                                     batch_size='auto', beta_1=0.9,\n",
       "                                     beta_2=0.999, early_stopping=False,\n",
       "                                     epsilon=1e-08, hidden_layer_sizes=(100,),\n",
       "                                     learning_rate='constant',\n",
       "                                     learning_rate_init=0.001, max_fun=15000,\n",
       "                                     max_iter=200, momentum=0.9,\n",
       "                                     n_iter_no_change=10,\n",
       "                                     nesterovs_momentum=True, power_t=0.5,\n",
       "                                     random_state...e, shuffle=True,\n",
       "                                     solver='adam', tol=0.0001,\n",
       "                                     validation_fraction=0.1, verbose=False,\n",
       "                                     warm_start=False),\n",
       "             iid='deprecated', n_jobs=None,\n",
       "             param_grid={'activation': ['identity', 'logistic', 'tanh', 'relu'],\n",
       "                         'hidden_layer_sizes': [1, 3, 5, 9, 13, 18, 20],\n",
       "                         'solver': ['lbfgs', 'sgd', 'adam']},\n",
       "             pre_dispatch='2*n_jobs', refit=True, return_train_score=False,\n",
       "             scoring='accuracy', verbose=3)"
      ]
     },
     "execution_count": 32,
     "metadata": {},
     "output_type": "execute_result"
    }
   ],
   "source": [
    "grid_nn.fit(X_train_scaled, y_ada)"
   ]
  },
  {
   "cell_type": "code",
   "execution_count": 33,
   "metadata": {},
   "outputs": [
    {
     "name": "stdout",
     "output_type": "stream",
     "text": [
      "Best Neural Network Parameters {'activation': 'tanh', 'hidden_layer_sizes': 20, 'solver': 'lbfgs'}\n",
      "Best Neural Network Result 0.9503968253968255\n"
     ]
    }
   ],
   "source": [
    "print(f\"Best Neural Network Parameters {grid_nn.best_params_}\")\n",
    "print(f\"Best Neural Network Result {grid_nn.best_score_}\")"
   ]
  },
  {
   "cell_type": "code",
   "execution_count": 34,
   "metadata": {},
   "outputs": [],
   "source": [
    "# set the best Neural Network model\n",
    "bestnn_model = MLPClassifier(activation= 'relu', hidden_layer_sizes= 20, solver= 'lbfgs')"
   ]
  },
  {
   "cell_type": "code",
   "execution_count": 35,
   "metadata": {},
   "outputs": [
    {
     "name": "stdout",
     "output_type": "stream",
     "text": [
      "Best Neural Network Model Testing Data Score: 0.9298245614035088\n"
     ]
    }
   ],
   "source": [
    "#Best Neural Network model results\n",
    "bestnn_model.fit(X_train_scaled, y_ada)\n",
    "print(f\"Best Neural Network Model Testing Data Score: {bestnn_model.score(X_test_scaled, y_test)}\")"
   ]
  },
  {
   "cell_type": "markdown",
   "metadata": {},
   "source": [
    "### Model 4 - Random Forest"
   ]
  },
  {
   "cell_type": "code",
   "execution_count": 36,
   "metadata": {},
   "outputs": [],
   "source": [
    "# import the model \n",
    "from sklearn.ensemble import RandomForestClassifier\n",
    "\n",
    "rf = RandomForestClassifier()\n",
    "rf.fit(X_train_scaled, y_ada)\n",
    "prediction_rf = rf.predict(X_test_scaled)"
   ]
  },
  {
   "cell_type": "code",
   "execution_count": 37,
   "metadata": {},
   "outputs": [
    {
     "name": "stdout",
     "output_type": "stream",
     "text": [
      "RandonForest Training Data Score: 1.0\n",
      "RandonForest Testing Data Score: 0.9473684210526315\n",
      "\n",
      "              precision    recall  f1-score   support\n",
      "\n",
      "     Benign        0.96      0.95      0.96       107\n",
      "   Malignant       0.92      0.94      0.93        64\n",
      "\n",
      "    accuracy                           0.95       171\n",
      "   macro avg       0.94      0.95      0.94       171\n",
      "weighted avg       0.95      0.95      0.95       171\n",
      "\n"
     ]
    }
   ],
   "source": [
    "print(f\"RandonForest Training Data Score: {rf.score(X_train_scaled, y_ada)}\")\n",
    "print(f\"RandonForest Testing Data Score: {rf.score(X_test_scaled, y_test)}\\n\")\n",
    "\n",
    "print(classification_report(y_test, prediction_rf,\n",
    "                            target_names=['Benign ', 'Malignant']))"
   ]
  },
  {
   "cell_type": "code",
   "execution_count": 38,
   "metadata": {},
   "outputs": [],
   "source": [
    "# use GridSearchCV to Hyperparameter Tuning the model\n",
    "\n",
    "param_grid_rf = {'n_estimators': [250, 300, 350]\n",
    "                 ,'max_depth': [125, 150, 175]}\n",
    "grid_rf = GridSearchCV(rf, param_grid_rf, verbose=3)"
   ]
  },
  {
   "cell_type": "code",
   "execution_count": 39,
   "metadata": {},
   "outputs": [
    {
     "name": "stdout",
     "output_type": "stream",
     "text": [
      "Fitting 5 folds for each of 9 candidates, totalling 45 fits\n",
      "[CV] max_depth=125, n_estimators=250 .................................\n"
     ]
    },
    {
     "name": "stderr",
     "output_type": "stream",
     "text": [
      "[Parallel(n_jobs=1)]: Using backend SequentialBackend with 1 concurrent workers.\n"
     ]
    },
    {
     "name": "stdout",
     "output_type": "stream",
     "text": [
      "[CV] ..... max_depth=125, n_estimators=250, score=0.931, total=   0.3s\n",
      "[CV] max_depth=125, n_estimators=250 .................................\n"
     ]
    },
    {
     "name": "stderr",
     "output_type": "stream",
     "text": [
      "[Parallel(n_jobs=1)]: Done   1 out of   1 | elapsed:    0.2s remaining:    0.0s\n"
     ]
    },
    {
     "name": "stdout",
     "output_type": "stream",
     "text": [
      "[CV] ..... max_depth=125, n_estimators=250, score=0.941, total=   0.3s\n",
      "[CV] max_depth=125, n_estimators=250 .................................\n"
     ]
    },
    {
     "name": "stderr",
     "output_type": "stream",
     "text": [
      "[Parallel(n_jobs=1)]: Done   2 out of   2 | elapsed:    0.4s remaining:    0.0s\n"
     ]
    },
    {
     "name": "stdout",
     "output_type": "stream",
     "text": [
      "[CV] ..... max_depth=125, n_estimators=250, score=0.950, total=   0.3s\n",
      "[CV] max_depth=125, n_estimators=250 .................................\n",
      "[CV] ..... max_depth=125, n_estimators=250, score=0.931, total=   0.3s\n",
      "[CV] max_depth=125, n_estimators=250 .................................\n",
      "[CV] ..... max_depth=125, n_estimators=250, score=0.880, total=   0.3s\n",
      "[CV] max_depth=125, n_estimators=300 .................................\n",
      "[CV] ..... max_depth=125, n_estimators=300, score=0.931, total=   0.3s\n",
      "[CV] max_depth=125, n_estimators=300 .................................\n",
      "[CV] ..... max_depth=125, n_estimators=300, score=0.950, total=   0.3s\n",
      "[CV] max_depth=125, n_estimators=300 .................................\n",
      "[CV] ..... max_depth=125, n_estimators=300, score=0.950, total=   0.3s\n",
      "[CV] max_depth=125, n_estimators=300 .................................\n",
      "[CV] ..... max_depth=125, n_estimators=300, score=0.941, total=   0.3s\n",
      "[CV] max_depth=125, n_estimators=300 .................................\n",
      "[CV] ..... max_depth=125, n_estimators=300, score=0.880, total=   0.3s\n",
      "[CV] max_depth=125, n_estimators=350 .................................\n",
      "[CV] ..... max_depth=125, n_estimators=350, score=0.931, total=   0.4s\n",
      "[CV] max_depth=125, n_estimators=350 .................................\n",
      "[CV] ..... max_depth=125, n_estimators=350, score=0.941, total=   0.4s\n",
      "[CV] max_depth=125, n_estimators=350 .................................\n",
      "[CV] ..... max_depth=125, n_estimators=350, score=0.960, total=   0.4s\n",
      "[CV] max_depth=125, n_estimators=350 .................................\n",
      "[CV] ..... max_depth=125, n_estimators=350, score=0.941, total=   0.4s\n",
      "[CV] max_depth=125, n_estimators=350 .................................\n",
      "[CV] ..... max_depth=125, n_estimators=350, score=0.880, total=   0.4s\n",
      "[CV] max_depth=150, n_estimators=250 .................................\n",
      "[CV] ..... max_depth=150, n_estimators=250, score=0.931, total=   0.2s\n",
      "[CV] max_depth=150, n_estimators=250 .................................\n",
      "[CV] ..... max_depth=150, n_estimators=250, score=0.941, total=   0.3s\n",
      "[CV] max_depth=150, n_estimators=250 .................................\n",
      "[CV] ..... max_depth=150, n_estimators=250, score=0.950, total=   0.3s\n",
      "[CV] max_depth=150, n_estimators=250 .................................\n",
      "[CV] ..... max_depth=150, n_estimators=250, score=0.950, total=   0.3s\n",
      "[CV] max_depth=150, n_estimators=250 .................................\n",
      "[CV] ..... max_depth=150, n_estimators=250, score=0.880, total=   0.3s\n",
      "[CV] max_depth=150, n_estimators=300 .................................\n",
      "[CV] ..... max_depth=150, n_estimators=300, score=0.931, total=   0.3s\n",
      "[CV] max_depth=150, n_estimators=300 .................................\n",
      "[CV] ..... max_depth=150, n_estimators=300, score=0.941, total=   0.3s\n",
      "[CV] max_depth=150, n_estimators=300 .................................\n",
      "[CV] ..... max_depth=150, n_estimators=300, score=0.960, total=   0.3s\n",
      "[CV] max_depth=150, n_estimators=300 .................................\n",
      "[CV] ..... max_depth=150, n_estimators=300, score=0.931, total=   0.3s\n",
      "[CV] max_depth=150, n_estimators=300 .................................\n",
      "[CV] ..... max_depth=150, n_estimators=300, score=0.880, total=   0.3s\n",
      "[CV] max_depth=150, n_estimators=350 .................................\n",
      "[CV] ..... max_depth=150, n_estimators=350, score=0.941, total=   0.4s\n",
      "[CV] max_depth=150, n_estimators=350 .................................\n",
      "[CV] ..... max_depth=150, n_estimators=350, score=0.960, total=   0.4s\n",
      "[CV] max_depth=150, n_estimators=350 .................................\n",
      "[CV] ..... max_depth=150, n_estimators=350, score=0.950, total=   0.4s\n",
      "[CV] max_depth=150, n_estimators=350 .................................\n",
      "[CV] ..... max_depth=150, n_estimators=350, score=0.931, total=   0.4s\n",
      "[CV] max_depth=150, n_estimators=350 .................................\n",
      "[CV] ..... max_depth=150, n_estimators=350, score=0.880, total=   0.4s\n",
      "[CV] max_depth=175, n_estimators=250 .................................\n",
      "[CV] ..... max_depth=175, n_estimators=250, score=0.931, total=   0.2s\n",
      "[CV] max_depth=175, n_estimators=250 .................................\n",
      "[CV] ..... max_depth=175, n_estimators=250, score=0.950, total=   0.3s\n",
      "[CV] max_depth=175, n_estimators=250 .................................\n",
      "[CV] ..... max_depth=175, n_estimators=250, score=0.960, total=   0.3s\n",
      "[CV] max_depth=175, n_estimators=250 .................................\n",
      "[CV] ..... max_depth=175, n_estimators=250, score=0.931, total=   0.3s\n",
      "[CV] max_depth=175, n_estimators=250 .................................\n",
      "[CV] ..... max_depth=175, n_estimators=250, score=0.880, total=   0.3s\n",
      "[CV] max_depth=175, n_estimators=300 .................................\n",
      "[CV] ..... max_depth=175, n_estimators=300, score=0.931, total=   0.3s\n",
      "[CV] max_depth=175, n_estimators=300 .................................\n",
      "[CV] ..... max_depth=175, n_estimators=300, score=0.950, total=   0.3s\n",
      "[CV] max_depth=175, n_estimators=300 .................................\n",
      "[CV] ..... max_depth=175, n_estimators=300, score=0.941, total=   0.3s\n",
      "[CV] max_depth=175, n_estimators=300 .................................\n",
      "[CV] ..... max_depth=175, n_estimators=300, score=0.931, total=   0.3s\n",
      "[CV] max_depth=175, n_estimators=300 .................................\n",
      "[CV] ..... max_depth=175, n_estimators=300, score=0.880, total=   0.3s\n",
      "[CV] max_depth=175, n_estimators=350 .................................\n",
      "[CV] ..... max_depth=175, n_estimators=350, score=0.931, total=   0.4s\n",
      "[CV] max_depth=175, n_estimators=350 .................................\n",
      "[CV] ..... max_depth=175, n_estimators=350, score=0.950, total=   0.4s\n",
      "[CV] max_depth=175, n_estimators=350 .................................\n",
      "[CV] ..... max_depth=175, n_estimators=350, score=0.950, total=   0.4s\n",
      "[CV] max_depth=175, n_estimators=350 .................................\n",
      "[CV] ..... max_depth=175, n_estimators=350, score=0.931, total=   0.4s\n",
      "[CV] max_depth=175, n_estimators=350 .................................\n",
      "[CV] ..... max_depth=175, n_estimators=350, score=0.880, total=   0.3s\n"
     ]
    },
    {
     "name": "stderr",
     "output_type": "stream",
     "text": [
      "[Parallel(n_jobs=1)]: Done  45 out of  45 | elapsed:   14.0s finished\n"
     ]
    },
    {
     "data": {
      "text/plain": [
       "GridSearchCV(cv=None, error_score=nan,\n",
       "             estimator=RandomForestClassifier(bootstrap=True, ccp_alpha=0.0,\n",
       "                                              class_weight=None,\n",
       "                                              criterion='gini', max_depth=None,\n",
       "                                              max_features='auto',\n",
       "                                              max_leaf_nodes=None,\n",
       "                                              max_samples=None,\n",
       "                                              min_impurity_decrease=0.0,\n",
       "                                              min_impurity_split=None,\n",
       "                                              min_samples_leaf=1,\n",
       "                                              min_samples_split=2,\n",
       "                                              min_weight_fraction_leaf=0.0,\n",
       "                                              n_estimators=100, n_jobs=None,\n",
       "                                              oob_score=False,\n",
       "                                              random_state=None, verbose=0,\n",
       "                                              warm_start=False),\n",
       "             iid='deprecated', n_jobs=None,\n",
       "             param_grid={'max_depth': [125, 150, 175],\n",
       "                         'n_estimators': [250, 300, 350]},\n",
       "             pre_dispatch='2*n_jobs', refit=True, return_train_score=False,\n",
       "             scoring=None, verbose=3)"
      ]
     },
     "execution_count": 39,
     "metadata": {},
     "output_type": "execute_result"
    }
   ],
   "source": [
    "grid_rf.fit(X_train_scaled, y_ada)"
   ]
  },
  {
   "cell_type": "code",
   "execution_count": 40,
   "metadata": {},
   "outputs": [
    {
     "name": "stdout",
     "output_type": "stream",
     "text": [
      "Best RandomForest Parameters {'max_depth': 150, 'n_estimators': 350}\n",
      "Best RandomForest result 0.9324356435643564\n"
     ]
    }
   ],
   "source": [
    "print(f\"Best RandomForest Parameters {grid_rf.best_params_}\")\n",
    "print(f\"Best RandomForest result {grid_rf.best_score_}\")"
   ]
  },
  {
   "cell_type": "code",
   "execution_count": 41,
   "metadata": {},
   "outputs": [],
   "source": [
    "# set the best RandomForest model\n",
    "best_rf = RandomForestClassifier(max_depth=150, n_estimators=350)\n",
    "best_rf.probability = True"
   ]
  },
  {
   "cell_type": "code",
   "execution_count": 42,
   "metadata": {},
   "outputs": [
    {
     "name": "stdout",
     "output_type": "stream",
     "text": [
      "Best RandomForest Model Testing Data Score: 0.9532163742690059\n"
     ]
    }
   ],
   "source": [
    "best_rf.fit(X_train_scaled, y_ada)\n",
    "print(f\"Best RandomForest Model Testing Data Score: {best_rf.score(X_test_scaled, y_test)}\")"
   ]
  },
  {
   "cell_type": "markdown",
   "metadata": {},
   "source": [
    "### Model 5 - Gradient Boost"
   ]
  },
  {
   "cell_type": "code",
   "execution_count": 43,
   "metadata": {},
   "outputs": [],
   "source": [
    "# import the model \n",
    "from sklearn.ensemble import GradientBoostingClassifier\n",
    "\n",
    "grad_clf = GradientBoostingClassifier()\n",
    "grad_clf.fit(X_train_scaled, y_ada)\n",
    "prediction_grad = grad_clf.predict(X_test_scaled)\n"
   ]
  },
  {
   "cell_type": "code",
   "execution_count": 44,
   "metadata": {},
   "outputs": [
    {
     "name": "stdout",
     "output_type": "stream",
     "text": [
      "GradientBoosting Training Data Score: 1.0\n",
      "GradientBoosting Testing Data Score: 0.9415204678362573\n",
      "              precision    recall  f1-score   support\n",
      "\n",
      "     Benign        0.95      0.95      0.95       107\n",
      "   Malignant       0.92      0.92      0.92        64\n",
      "\n",
      "    accuracy                           0.94       171\n",
      "   macro avg       0.94      0.94      0.94       171\n",
      "weighted avg       0.94      0.94      0.94       171\n",
      "\n"
     ]
    }
   ],
   "source": [
    "print(f\"GradientBoosting Training Data Score: {grad_clf.score(X_train_scaled, y_ada)}\")\n",
    "print(f\"GradientBoosting Testing Data Score: {grad_clf.score(X_test_scaled, y_test)}\")\n",
    "\n",
    "print(classification_report(y_test, prediction_grad,\n",
    "                            target_names=['Benign ', 'Malignant']))"
   ]
  },
  {
   "cell_type": "code",
   "execution_count": 45,
   "metadata": {},
   "outputs": [
    {
     "name": "stdout",
     "output_type": "stream",
     "text": [
      "Fitting 5 folds for each of 20 candidates, totalling 100 fits\n",
      "[CV] max_depth=3, n_estimators=100 ...................................\n",
      "[CV] ....... max_depth=3, n_estimators=100, score=0.911, total=   0.1s\n",
      "[CV] max_depth=3, n_estimators=100 ...................................\n"
     ]
    },
    {
     "name": "stderr",
     "output_type": "stream",
     "text": [
      "[Parallel(n_jobs=1)]: Using backend SequentialBackend with 1 concurrent workers.\n",
      "[Parallel(n_jobs=1)]: Done   1 out of   1 | elapsed:    0.0s remaining:    0.0s\n"
     ]
    },
    {
     "name": "stdout",
     "output_type": "stream",
     "text": [
      "[CV] ....... max_depth=3, n_estimators=100, score=0.950, total=   0.1s\n",
      "[CV] max_depth=3, n_estimators=100 ...................................\n",
      "[CV] ....... max_depth=3, n_estimators=100, score=0.941, total=   0.1s\n",
      "[CV] max_depth=3, n_estimators=100 ...................................\n"
     ]
    },
    {
     "name": "stderr",
     "output_type": "stream",
     "text": [
      "[Parallel(n_jobs=1)]: Done   2 out of   2 | elapsed:    0.2s remaining:    0.0s\n"
     ]
    },
    {
     "name": "stdout",
     "output_type": "stream",
     "text": [
      "[CV] ....... max_depth=3, n_estimators=100, score=0.931, total=   0.1s\n",
      "[CV] max_depth=3, n_estimators=100 ...................................\n",
      "[CV] ....... max_depth=3, n_estimators=100, score=0.900, total=   0.1s\n",
      "[CV] max_depth=3, n_estimators=250 ...................................\n",
      "[CV] ....... max_depth=3, n_estimators=250, score=0.911, total=   0.3s\n",
      "[CV] max_depth=3, n_estimators=250 ...................................\n",
      "[CV] ....... max_depth=3, n_estimators=250, score=0.960, total=   0.3s\n",
      "[CV] max_depth=3, n_estimators=250 ...................................\n",
      "[CV] ....... max_depth=3, n_estimators=250, score=0.941, total=   0.3s\n",
      "[CV] max_depth=3, n_estimators=250 ...................................\n",
      "[CV] ....... max_depth=3, n_estimators=250, score=0.931, total=   0.3s\n",
      "[CV] max_depth=3, n_estimators=250 ...................................\n",
      "[CV] ....... max_depth=3, n_estimators=250, score=0.900, total=   0.3s\n",
      "[CV] max_depth=3, n_estimators=300 ...................................\n",
      "[CV] ....... max_depth=3, n_estimators=300, score=0.911, total=   0.4s\n",
      "[CV] max_depth=3, n_estimators=300 ...................................\n",
      "[CV] ....... max_depth=3, n_estimators=300, score=0.970, total=   0.4s\n",
      "[CV] max_depth=3, n_estimators=300 ...................................\n",
      "[CV] ....... max_depth=3, n_estimators=300, score=0.941, total=   0.4s\n",
      "[CV] max_depth=3, n_estimators=300 ...................................\n",
      "[CV] ....... max_depth=3, n_estimators=300, score=0.931, total=   0.4s\n",
      "[CV] max_depth=3, n_estimators=300 ...................................\n",
      "[CV] ....... max_depth=3, n_estimators=300, score=0.900, total=   0.4s\n",
      "[CV] max_depth=3, n_estimators=350 ...................................\n",
      "[CV] ....... max_depth=3, n_estimators=350, score=0.911, total=   0.4s\n",
      "[CV] max_depth=3, n_estimators=350 ...................................\n",
      "[CV] ....... max_depth=3, n_estimators=350, score=0.970, total=   0.5s\n",
      "[CV] max_depth=3, n_estimators=350 ...................................\n",
      "[CV] ....... max_depth=3, n_estimators=350, score=0.941, total=   0.4s\n",
      "[CV] max_depth=3, n_estimators=350 ...................................\n",
      "[CV] ....... max_depth=3, n_estimators=350, score=0.941, total=   0.5s\n",
      "[CV] max_depth=3, n_estimators=350 ...................................\n",
      "[CV] ....... max_depth=3, n_estimators=350, score=0.900, total=   0.4s\n",
      "[CV] max_depth=50, n_estimators=100 ..................................\n",
      "[CV] ...... max_depth=50, n_estimators=100, score=0.911, total=   0.2s\n",
      "[CV] max_depth=50, n_estimators=100 ..................................\n",
      "[CV] ...... max_depth=50, n_estimators=100, score=0.941, total=   0.2s\n",
      "[CV] max_depth=50, n_estimators=100 ..................................\n",
      "[CV] ...... max_depth=50, n_estimators=100, score=0.921, total=   0.1s\n",
      "[CV] max_depth=50, n_estimators=100 ..................................\n",
      "[CV] ...... max_depth=50, n_estimators=100, score=0.921, total=   0.2s\n",
      "[CV] max_depth=50, n_estimators=100 ..................................\n",
      "[CV] ...... max_depth=50, n_estimators=100, score=0.900, total=   0.3s\n",
      "[CV] max_depth=50, n_estimators=250 ..................................\n",
      "[CV] ...... max_depth=50, n_estimators=250, score=0.911, total=   0.3s\n",
      "[CV] max_depth=50, n_estimators=250 ..................................\n",
      "[CV] ...... max_depth=50, n_estimators=250, score=0.941, total=   0.2s\n",
      "[CV] max_depth=50, n_estimators=250 ..................................\n",
      "[CV] ...... max_depth=50, n_estimators=250, score=0.921, total=   0.2s\n",
      "[CV] max_depth=50, n_estimators=250 ..................................\n",
      "[CV] ...... max_depth=50, n_estimators=250, score=0.921, total=   0.2s\n",
      "[CV] max_depth=50, n_estimators=250 ..................................\n",
      "[CV] ...... max_depth=50, n_estimators=250, score=0.900, total=   0.2s\n",
      "[CV] max_depth=50, n_estimators=300 ..................................\n",
      "[CV] ...... max_depth=50, n_estimators=300, score=0.911, total=   0.3s\n",
      "[CV] max_depth=50, n_estimators=300 ..................................\n",
      "[CV] ...... max_depth=50, n_estimators=300, score=0.941, total=   0.2s\n",
      "[CV] max_depth=50, n_estimators=300 ..................................\n",
      "[CV] ...... max_depth=50, n_estimators=300, score=0.921, total=   0.3s\n",
      "[CV] max_depth=50, n_estimators=300 ..................................\n",
      "[CV] ...... max_depth=50, n_estimators=300, score=0.921, total=   0.3s\n",
      "[CV] max_depth=50, n_estimators=300 ..................................\n",
      "[CV] ...... max_depth=50, n_estimators=300, score=0.890, total=   0.2s\n",
      "[CV] max_depth=50, n_estimators=350 ..................................\n",
      "[CV] ...... max_depth=50, n_estimators=350, score=0.911, total=   0.3s\n",
      "[CV] max_depth=50, n_estimators=350 ..................................\n",
      "[CV] ...... max_depth=50, n_estimators=350, score=0.941, total=   0.2s\n",
      "[CV] max_depth=50, n_estimators=350 ..................................\n",
      "[CV] ...... max_depth=50, n_estimators=350, score=0.921, total=   0.3s\n",
      "[CV] max_depth=50, n_estimators=350 ..................................\n",
      "[CV] ...... max_depth=50, n_estimators=350, score=0.921, total=   0.2s\n",
      "[CV] max_depth=50, n_estimators=350 ..................................\n",
      "[CV] ...... max_depth=50, n_estimators=350, score=0.900, total=   0.2s\n",
      "[CV] max_depth=100, n_estimators=100 .................................\n",
      "[CV] ..... max_depth=100, n_estimators=100, score=0.911, total=   0.2s\n",
      "[CV] max_depth=100, n_estimators=100 .................................\n",
      "[CV] ..... max_depth=100, n_estimators=100, score=0.941, total=   0.2s\n",
      "[CV] max_depth=100, n_estimators=100 .................................\n",
      "[CV] ..... max_depth=100, n_estimators=100, score=0.921, total=   0.2s\n",
      "[CV] max_depth=100, n_estimators=100 .................................\n",
      "[CV] ..... max_depth=100, n_estimators=100, score=0.921, total=   0.3s\n",
      "[CV] max_depth=100, n_estimators=100 .................................\n",
      "[CV] ..... max_depth=100, n_estimators=100, score=0.890, total=   0.3s\n",
      "[CV] max_depth=100, n_estimators=250 .................................\n",
      "[CV] ..... max_depth=100, n_estimators=250, score=0.911, total=   0.3s\n",
      "[CV] max_depth=100, n_estimators=250 .................................\n",
      "[CV] ..... max_depth=100, n_estimators=250, score=0.941, total=   0.3s\n",
      "[CV] max_depth=100, n_estimators=250 .................................\n",
      "[CV] ..... max_depth=100, n_estimators=250, score=0.921, total=   0.2s\n",
      "[CV] max_depth=100, n_estimators=250 .................................\n",
      "[CV] ..... max_depth=100, n_estimators=250, score=0.921, total=   0.2s\n",
      "[CV] max_depth=100, n_estimators=250 .................................\n",
      "[CV] ..... max_depth=100, n_estimators=250, score=0.890, total=   0.2s\n",
      "[CV] max_depth=100, n_estimators=300 .................................\n",
      "[CV] ..... max_depth=100, n_estimators=300, score=0.911, total=   0.3s\n",
      "[CV] max_depth=100, n_estimators=300 .................................\n",
      "[CV] ..... max_depth=100, n_estimators=300, score=0.941, total=   0.2s\n",
      "[CV] max_depth=100, n_estimators=300 .................................\n",
      "[CV] ..... max_depth=100, n_estimators=300, score=0.921, total=   0.2s\n",
      "[CV] max_depth=100, n_estimators=300 .................................\n",
      "[CV] ..... max_depth=100, n_estimators=300, score=0.931, total=   0.2s\n",
      "[CV] max_depth=100, n_estimators=300 .................................\n",
      "[CV] ..... max_depth=100, n_estimators=300, score=0.900, total=   0.2s\n",
      "[CV] max_depth=100, n_estimators=350 .................................\n",
      "[CV] ..... max_depth=100, n_estimators=350, score=0.911, total=   0.3s\n",
      "[CV] max_depth=100, n_estimators=350 .................................\n",
      "[CV] ..... max_depth=100, n_estimators=350, score=0.931, total=   0.3s\n",
      "[CV] max_depth=100, n_estimators=350 .................................\n",
      "[CV] ..... max_depth=100, n_estimators=350, score=0.921, total=   0.2s\n",
      "[CV] max_depth=100, n_estimators=350 .................................\n",
      "[CV] ..... max_depth=100, n_estimators=350, score=0.901, total=   0.2s\n",
      "[CV] max_depth=100, n_estimators=350 .................................\n",
      "[CV] ..... max_depth=100, n_estimators=350, score=0.900, total=   0.3s\n",
      "[CV] max_depth=150, n_estimators=100 .................................\n",
      "[CV] ..... max_depth=150, n_estimators=100, score=0.911, total=   0.2s\n",
      "[CV] max_depth=150, n_estimators=100 .................................\n"
     ]
    },
    {
     "name": "stdout",
     "output_type": "stream",
     "text": [
      "[CV] ..... max_depth=150, n_estimators=100, score=0.941, total=   0.2s\n",
      "[CV] max_depth=150, n_estimators=100 .................................\n",
      "[CV] ..... max_depth=150, n_estimators=100, score=0.921, total=   0.2s\n",
      "[CV] max_depth=150, n_estimators=100 .................................\n",
      "[CV] ..... max_depth=150, n_estimators=100, score=0.901, total=   0.2s\n",
      "[CV] max_depth=150, n_estimators=100 .................................\n",
      "[CV] ..... max_depth=150, n_estimators=100, score=0.900, total=   0.2s\n",
      "[CV] max_depth=150, n_estimators=250 .................................\n",
      "[CV] ..... max_depth=150, n_estimators=250, score=0.911, total=   0.3s\n",
      "[CV] max_depth=150, n_estimators=250 .................................\n",
      "[CV] ..... max_depth=150, n_estimators=250, score=0.931, total=   0.2s\n",
      "[CV] max_depth=150, n_estimators=250 .................................\n",
      "[CV] ..... max_depth=150, n_estimators=250, score=0.921, total=   0.2s\n",
      "[CV] max_depth=150, n_estimators=250 .................................\n",
      "[CV] ..... max_depth=150, n_estimators=250, score=0.921, total=   0.3s\n",
      "[CV] max_depth=150, n_estimators=250 .................................\n",
      "[CV] ..... max_depth=150, n_estimators=250, score=0.900, total=   0.2s\n",
      "[CV] max_depth=150, n_estimators=300 .................................\n",
      "[CV] ..... max_depth=150, n_estimators=300, score=0.911, total=   0.2s\n",
      "[CV] max_depth=150, n_estimators=300 .................................\n",
      "[CV] ..... max_depth=150, n_estimators=300, score=0.941, total=   0.3s\n",
      "[CV] max_depth=150, n_estimators=300 .................................\n",
      "[CV] ..... max_depth=150, n_estimators=300, score=0.921, total=   0.2s\n",
      "[CV] max_depth=150, n_estimators=300 .................................\n",
      "[CV] ..... max_depth=150, n_estimators=300, score=0.921, total=   0.2s\n",
      "[CV] max_depth=150, n_estimators=300 .................................\n",
      "[CV] ..... max_depth=150, n_estimators=300, score=0.900, total=   0.3s\n",
      "[CV] max_depth=150, n_estimators=350 .................................\n",
      "[CV] ..... max_depth=150, n_estimators=350, score=0.911, total=   0.3s\n",
      "[CV] max_depth=150, n_estimators=350 .................................\n",
      "[CV] ..... max_depth=150, n_estimators=350, score=0.941, total=   0.2s\n",
      "[CV] max_depth=150, n_estimators=350 .................................\n",
      "[CV] ..... max_depth=150, n_estimators=350, score=0.921, total=   0.2s\n",
      "[CV] max_depth=150, n_estimators=350 .................................\n",
      "[CV] ..... max_depth=150, n_estimators=350, score=0.921, total=   0.2s\n",
      "[CV] max_depth=150, n_estimators=350 .................................\n",
      "[CV] ..... max_depth=150, n_estimators=350, score=0.900, total=   0.2s\n",
      "[CV] max_depth=200, n_estimators=100 .................................\n",
      "[CV] ..... max_depth=200, n_estimators=100, score=0.911, total=   0.2s\n",
      "[CV] max_depth=200, n_estimators=100 .................................\n",
      "[CV] ..... max_depth=200, n_estimators=100, score=0.941, total=   0.2s\n",
      "[CV] max_depth=200, n_estimators=100 .................................\n",
      "[CV] ..... max_depth=200, n_estimators=100, score=0.921, total=   0.2s\n",
      "[CV] max_depth=200, n_estimators=100 .................................\n",
      "[CV] ..... max_depth=200, n_estimators=100, score=0.921, total=   0.2s\n",
      "[CV] max_depth=200, n_estimators=100 .................................\n",
      "[CV] ..... max_depth=200, n_estimators=100, score=0.900, total=   0.2s\n",
      "[CV] max_depth=200, n_estimators=250 .................................\n",
      "[CV] ..... max_depth=200, n_estimators=250, score=0.911, total=   0.2s\n",
      "[CV] max_depth=200, n_estimators=250 .................................\n",
      "[CV] ..... max_depth=200, n_estimators=250, score=0.941, total=   0.2s\n",
      "[CV] max_depth=200, n_estimators=250 .................................\n",
      "[CV] ..... max_depth=200, n_estimators=250, score=0.921, total=   0.2s\n",
      "[CV] max_depth=200, n_estimators=250 .................................\n",
      "[CV] ..... max_depth=200, n_estimators=250, score=0.921, total=   0.2s\n",
      "[CV] max_depth=200, n_estimators=250 .................................\n",
      "[CV] ..... max_depth=200, n_estimators=250, score=0.890, total=   0.2s\n",
      "[CV] max_depth=200, n_estimators=300 .................................\n",
      "[CV] ..... max_depth=200, n_estimators=300, score=0.911, total=   0.2s\n",
      "[CV] max_depth=200, n_estimators=300 .................................\n",
      "[CV] ..... max_depth=200, n_estimators=300, score=0.941, total=   0.2s\n",
      "[CV] max_depth=200, n_estimators=300 .................................\n",
      "[CV] ..... max_depth=200, n_estimators=300, score=0.921, total=   0.2s\n",
      "[CV] max_depth=200, n_estimators=300 .................................\n",
      "[CV] ..... max_depth=200, n_estimators=300, score=0.931, total=   0.2s\n",
      "[CV] max_depth=200, n_estimators=300 .................................\n",
      "[CV] ..... max_depth=200, n_estimators=300, score=0.900, total=   0.2s\n",
      "[CV] max_depth=200, n_estimators=350 .................................\n",
      "[CV] ..... max_depth=200, n_estimators=350, score=0.911, total=   0.2s\n",
      "[CV] max_depth=200, n_estimators=350 .................................\n",
      "[CV] ..... max_depth=200, n_estimators=350, score=0.941, total=   0.2s\n",
      "[CV] max_depth=200, n_estimators=350 .................................\n",
      "[CV] ..... max_depth=200, n_estimators=350, score=0.921, total=   0.2s\n",
      "[CV] max_depth=200, n_estimators=350 .................................\n",
      "[CV] ..... max_depth=200, n_estimators=350, score=0.911, total=   0.2s\n",
      "[CV] max_depth=200, n_estimators=350 .................................\n",
      "[CV] ..... max_depth=200, n_estimators=350, score=0.890, total=   0.2s\n"
     ]
    },
    {
     "name": "stderr",
     "output_type": "stream",
     "text": [
      "[Parallel(n_jobs=1)]: Done 100 out of 100 | elapsed:   24.4s finished\n"
     ]
    },
    {
     "data": {
      "text/plain": [
       "GridSearchCV(cv=None, error_score=nan,\n",
       "             estimator=GradientBoostingClassifier(ccp_alpha=0.0,\n",
       "                                                  criterion='friedman_mse',\n",
       "                                                  init=None, learning_rate=0.1,\n",
       "                                                  loss='deviance', max_depth=3,\n",
       "                                                  max_features=None,\n",
       "                                                  max_leaf_nodes=None,\n",
       "                                                  min_impurity_decrease=0.0,\n",
       "                                                  min_impurity_split=None,\n",
       "                                                  min_samples_leaf=1,\n",
       "                                                  min_samples_split=2,\n",
       "                                                  min_weight_fraction_leaf=0.0,\n",
       "                                                  n_estimators=100,\n",
       "                                                  n_iter_no_change=None,\n",
       "                                                  presort='deprecated',\n",
       "                                                  random_state=None,\n",
       "                                                  subsample=1.0, tol=0.0001,\n",
       "                                                  validation_fraction=0.1,\n",
       "                                                  verbose=0, warm_start=False),\n",
       "             iid='deprecated', n_jobs=None,\n",
       "             param_grid={'max_depth': [3, 50, 100, 150, 200],\n",
       "                         'n_estimators': [100, 250, 300, 350]},\n",
       "             pre_dispatch='2*n_jobs', refit=True, return_train_score=False,\n",
       "             scoring=None, verbose=3)"
      ]
     },
     "execution_count": 45,
     "metadata": {},
     "output_type": "execute_result"
    }
   ],
   "source": [
    "# use GridSearchCV to Hyperparameter Tuning the model\n",
    "\n",
    "param_grid_grd = {'n_estimators': [100, 250, 300, 350],'max_depth': [3, 50, 100, 150, 200]}\n",
    "grid_grad = GridSearchCV(grad_clf, param_grid_grd, verbose=3)\n",
    "grid_grad.fit(X_train_scaled, y_ada)"
   ]
  },
  {
   "cell_type": "code",
   "execution_count": 46,
   "metadata": {
    "scrolled": true
   },
   "outputs": [
    {
     "name": "stdout",
     "output_type": "stream",
     "text": [
      "Best GradientBoosting Parameters {'max_depth': 3, 'n_estimators': 350}\n",
      "Best GradientBoosting result 0.9324752475247525\n"
     ]
    }
   ],
   "source": [
    "print(f\"Best GradientBoosting Parameters {grid_grad.best_params_}\")\n",
    "print(f\"Best GradientBoosting result {grid_grad.best_score_}\")"
   ]
  },
  {
   "cell_type": "code",
   "execution_count": 47,
   "metadata": {},
   "outputs": [],
   "source": [
    "# set the best GradientBoosting model\n",
    "bestgrad_model = GradientBoostingClassifier(max_depth=3,n_estimators=350)"
   ]
  },
  {
   "cell_type": "code",
   "execution_count": 48,
   "metadata": {},
   "outputs": [
    {
     "name": "stdout",
     "output_type": "stream",
     "text": [
      "Best GradientBoosting Model Testing Data Score: 0.9415204678362573\n"
     ]
    }
   ],
   "source": [
    "#Best SVC model results\n",
    "bestgrad_model.fit(X_train_scaled, y_ada)\n",
    "print(f\"Best GradientBoosting Model Testing Data Score: {bestgrad_model.score(X_test_scaled, y_test)}\")"
   ]
  },
  {
   "cell_type": "markdown",
   "metadata": {},
   "source": [
    "## Ensemble a better Model"
   ]
  },
  {
   "cell_type": "markdown",
   "metadata": {},
   "source": [
    "### Test the tuned models accuracies with ```crossvalidation```"
   ]
  },
  {
   "cell_type": "code",
   "execution_count": 49,
   "metadata": {},
   "outputs": [
    {
     "name": "stdout",
     "output_type": "stream",
     "text": [
      "Logistic Regression Model - Accuracy: 0.930 (+/- 0.029)\n",
      "Missclassed data index [347, 13, 476, 508, 421, 152, 385, 491, 213, 414, 40, 484]\n",
      "\n",
      "SVC Model - Accuracy: 0.936 (+/- 0.033)\n",
      "Missclassed data index [13, 242, 476, 421, 152, 385, 126, 489, 414, 40, 484]\n",
      "\n",
      "Neural Network Model - Accuracy: 0.936 (+/- 0.033)\n",
      "Missclassed data index [13, 421, 119, 385, 491, 489, 414, 209, 40, 484]\n",
      "\n",
      "Random Forest Model - Accuracy: 0.942 (+/- 0.026)\n",
      "Missclassed data index [13, 476, 385, 536, 126, 491, 414, 209, 40, 484]\n",
      "\n",
      "GradientBoosting Model - Accuracy: 0.924 (+/- 0.023)\n",
      "Missclassed data index [13, 476, 152, 385, 126, 491, 489, 91, 213, 414, 209, 40, 469, 484]\n",
      "\n"
     ]
    }
   ],
   "source": [
    "from sklearn import model_selection\n",
    "\n",
    "clf1 = bestLogReg_model\n",
    "clf2 = bestSVC_model\n",
    "clf3 = bestnn_model\n",
    "clf4 = best_rf\n",
    "clf5 = bestgrad_model\n",
    "\n",
    "\n",
    "labels = [\"Logistic Regression\", 'SVC', \"Neural Network\",'Random Forest', 'GradientBoosting']\n",
    "\n",
    "for clf, label in zip([clf1, clf2, clf3, clf4, clf5], labels):\n",
    "\n",
    "        scores = model_selection.cross_val_score(clf, X_test_scaled, y_test, scoring='accuracy')\n",
    "        predicted = model_selection.cross_val_predict(clf,X_test_scaled, y_test)\n",
    "        diff = predicted - y_test\n",
    "        misclass_indexes = diff[diff != 0].index.tolist()\n",
    "        print(f\"{label} Model - Accuracy: {scores.mean():0.3f} (+/- {scores.std():0.3f})\\nMissclassed data index {misclass_indexes}\\n\")\n"
   ]
  },
  {
   "cell_type": "markdown",
   "metadata": {},
   "source": [
    "### Combining the models to ensemble an improved model"
   ]
  },
  {
   "cell_type": "markdown",
   "metadata": {},
   "source": [
    "#### Giving different weight to models based on least missclassed data"
   ]
  },
  {
   "cell_type": "code",
   "execution_count": 52,
   "metadata": {},
   "outputs": [
    {
     "name": "stdout",
     "output_type": "stream",
     "text": [
      "Ensemble Model accuracy: 95.90643274853801 %\n"
     ]
    }
   ],
   "source": [
    "\n",
    "from mlxtend.classifier import EnsembleVoteClassifier\n",
    "import copy\n",
    "eclf = EnsembleVoteClassifier(clfs=[clf1, clf2, clf3, clf4, clf5], weights=[2,2,2,2,1], refit=False)\n",
    "eclf.fit(X_test_scaled, y_test)\n",
    "\n",
    "print('Ensemble Model accuracy:', np.mean(y_test == eclf.predict(X_test_scaled))*100, \"%\")"
   ]
  },
  {
   "cell_type": "markdown",
   "metadata": {},
   "source": [
    "## The Final ensemble model gave us an accuracy of 95.90%."
   ]
  },
  {
   "cell_type": "code",
   "execution_count": null,
   "metadata": {},
   "outputs": [],
   "source": []
  }
 ],
 "metadata": {
  "kernelspec": {
   "display_name": "Python 3",
   "language": "python",
   "name": "python3"
  },
  "language_info": {
   "codemirror_mode": {
    "name": "ipython",
    "version": 3
   },
   "file_extension": ".py",
   "mimetype": "text/x-python",
   "name": "python",
   "nbconvert_exporter": "python",
   "pygments_lexer": "ipython3",
   "version": "3.7.4"
  }
 },
 "nbformat": 4,
 "nbformat_minor": 2
}
